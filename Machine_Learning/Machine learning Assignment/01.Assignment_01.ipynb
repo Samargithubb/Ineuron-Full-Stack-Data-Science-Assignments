{
 "cells": [
  {
   "cell_type": "markdown",
   "id": "261a9a6b",
   "metadata": {},
   "source": [
    "## Assignment 01 Solutions"
   ]
  },
  {
   "cell_type": "markdown",
   "id": "eb90a18e",
   "metadata": {},
   "source": [
    "#### 1. What does one mean by the term \"machine learning\"?"
   ]
  },
  {
   "cell_type": "markdown",
   "id": "0a3e2ec3",
   "metadata": {},
   "source": [
    "**Ans:**  Machine learning refers to a subset of artificial intelligence (AI) that involves the use of algorithms and statistical models to enable computers to improve their performance on a task over time, based on data inputs. The algorithms used in machine learning are designed to identify patterns in the data, and use those patterns to make predictions or classifications about new data. Machine learning is used in a wide variety of applications, including image recognition, natural language processing, recommendation systems, fraud detection, and autonomous vehicles."
   ]
  },
  {
   "cell_type": "markdown",
   "id": "ce695312",
   "metadata": {},
   "source": [
    "#### 2.Can you think of 4 distinct types of issues where it shines?\n"
   ]
  },
  {
   "cell_type": "markdown",
   "id": "070e6cf0",
   "metadata": {},
   "source": [
    "**Ans:** The following are some of the issues where Machine Learning can be used:\n",
    "\n",
    "**1.** **Image and speech recognition:** Machine learning has revolutionized the field of computer vision and speech recognition. Algorithms can learn to recognize objects, faces, and even emotions in images, and transcribe speech into text with high accuracy.\n",
    "\n",
    "**2.** **Predictive modeling:** Machine learning is used extensively for predictive modeling, where historical data is used to build models that can predict future outcomes. This is used in a wide range of applications, such as predicting customer churn, fraud detection, and forecasting sales.\n",
    "\n",
    "**3.** **Natural language processing:** Machine learning has also been highly successful in the field of natural language processing, which involves teaching computers to understand human language. This is used in applications such as language translation, sentiment analysis, and chatbots.\n",
    "\n",
    "**4.** **Recommender systems:** Machine learning is used extensively in recommender systems, which analyze a user's behavior and preferences to make personalized recommendations. This is used in applications such as online shopping, music streaming, and video streaming platforms."
   ]
  },
  {
   "cell_type": "markdown",
   "id": "150bdad3",
   "metadata": {},
   "source": [
    "#### 3.What is a labeled training set, and how does it work?"
   ]
  },
  {
   "cell_type": "markdown",
   "id": "5baa85d7",
   "metadata": {},
   "source": [
    "**Ans:** A labeled training set is a collection of data that has been annotated with labels or categories that indicate what the data represents. It is used in machine learning to train a machine learning algorithm to recognize patterns and make predictions or classifications based on the data. The labeled training set is an important part of the machine learning process because it provides the algorithm with the ground truth data needed to learn to make accurate predictions or classifications. The quality and quantity of the labeled training set can have a significant impact on the performance of the resulting machine learning model."
   ]
  },
  {
   "cell_type": "markdown",
   "id": "1475565c",
   "metadata": {},
   "source": [
    "#### 4.What are the two most important tasks that are supervised?"
   ]
  },
  {
   "cell_type": "markdown",
   "id": "6b57c48d",
   "metadata": {},
   "source": [
    "**Ans:** \n",
    "The two most important tasks in supervised learning are:\n",
    "\n",
    "**Regression:** In regression, the goal is to predict a continuous output variable based on one or more input variables. For example, predicting house prices based on features such as size, location, and number of bedrooms is a regression problem.\n",
    "\n",
    "**Classification:** In classification, the goal is to predict a categorical output variable based on one or more input variables. For example, predicting whether a customer is likely to purchase a product based on their demographic and purchasing history is a classification problem."
   ]
  },
  {
   "cell_type": "markdown",
   "id": "7fc349a9",
   "metadata": {},
   "source": [
    "#### 5.Can you think of four examples of unsupervised tasks?"
   ]
  },
  {
   "cell_type": "markdown",
   "id": "7a51fa03",
   "metadata": {},
   "source": [
    "**Ans:** The following are some of the examples of unsupervised learning tasks.\n",
    "\n",
    "**1. Clustering:** Clustering is a task where similar data points are grouped together based on their similarity.This is useful for discovering patterns and relationships in data that may not be immediately apparent. \n",
    "\n",
    "**2. Dimensionality Reduction:** Dimensionality reduction is a technique used to reduce the number of input variables in a dataset while preserving the most important information. This is useful for visualizing high-dimensional data or reducing the complexity of machine learning models. For example, principal component analysis (PCA) is a common technique used for dimensionality reduction.\n",
    "\n",
    "**3. Anomaly Detection:** Anomaly detection is a task where the goal is to identify unusual or unexpected data points in a dataset. This is useful for detecting fraudulent behavior, identifying defects in manufacturing processes, or diagnosing medical conditions.\n",
    "\n",
    "**4. Association Rule Mining:** Association rule mining is a technique used to discover interesting relationships between variables in a dataset. This is useful for market basket analysis, where the goal is to identify items that are frequently purchased together, or for identifying patterns in customer behavior. For example, association rule mining can be used to identify which products are frequently bought together in a grocery store."
   ]
  },
  {
   "cell_type": "markdown",
   "id": "336386cb",
   "metadata": {},
   "source": [
    "#### 6.State the machine learning model that would be best to make a robot walk through various unfamiliar terrains?"
   ]
  },
  {
   "cell_type": "markdown",
   "id": "e99a2315",
   "metadata": {},
   "source": [
    "**Ans:** The machine learning model that would be best to make a robot walk through various unfamiliar terrains is a reinforcement learning model. Reinforcement learning involves an agent that learns to make decisions in an environment by interacting with that environment and receiving feedback in the form of rewards or penalties. The goal of the agent is to learn a policy, or a set of actions, that maximizes the cumulative reward over time."
   ]
  },
  {
   "cell_type": "markdown",
   "id": "1943b577",
   "metadata": {},
   "source": [
    "#### 7.Which algorithm will you use to divide your customers into different groups?"
   ]
  },
  {
   "cell_type": "markdown",
   "id": "891cc07a",
   "metadata": {},
   "source": [
    "**Ans:** To divide customers into different groups, a **clustering algorithm** would be appropriate. Clustering is an unsupervised learning task that involves grouping similar data points together based on their similarity."
   ]
  },
  {
   "cell_type": "markdown",
   "id": "55d12219",
   "metadata": {},
   "source": [
    "#### 8.Will you consider the problem of spam detection to be a supervised or unsupervised learning problem?"
   ]
  },
  {
   "cell_type": "markdown",
   "id": "1299976b",
   "metadata": {},
   "source": [
    "**Ans:**\n",
    "The problem of spam detection is generally considered to be a **supervised learning** problem. In supervised learning, the algorithm learns from labeled training data, where the labels are known and provided in advance. In the case of spam detection, the labeled data would consist of a set of emails that are already labeled as either spam or not spam."
   ]
  },
  {
   "cell_type": "markdown",
   "id": "77b92841",
   "metadata": {},
   "source": [
    "#### 9.What is the concept of an online learning system?"
   ]
  },
  {
   "cell_type": "markdown",
   "id": "69b018db",
   "metadata": {},
   "source": [
    "**Ans:** An online learning system is a machine learning system that can learn and adapt to new data in real-time, as opposed to learning from a fixed dataset in batch mode. In an online learning system, the model is updated continuously as new data becomes available, allowing the system to improve its accuracy and adapt to changing conditions\n",
    "\n",
    "Online learning is particularly useful in applications where data is constantly changing or where the cost of obtaining labeled data is high. Examples of such applications include fraud detection, recommendation systems, and online advertising."
   ]
  },
  {
   "cell_type": "markdown",
   "id": "e83c5380",
   "metadata": {},
   "source": [
    "#### 10.What is out-of-core learning, and how does it differ from core learning?"
   ]
  },
  {
   "cell_type": "markdown",
   "id": "d91fe6ab",
   "metadata": {},
   "source": [
    "**Ans:**  out-of-core learning is a machine learning technique that is used when the dataset is too large to fit into the memory of a single machine. Instead of processing the entire dataset simultaneously, out-of-core learning operates on subsets of the data, processing each subset sequentially. Out-of-core learning is slower than core learning due to the need to repeatedly load data from disk, but it enables the processing of massive datasets that would otherwise be impossible to analyze with traditional machine learning techniques."
   ]
  },
  {
   "cell_type": "markdown",
   "id": "851eab2b",
   "metadata": {},
   "source": [
    "#### 11.What kind of learning algorithm makes predictions using a similarity measure ?"
   ]
  },
  {
   "cell_type": "markdown",
   "id": "f1f8d6e3",
   "metadata": {},
   "source": [
    "**Ans:** A learning algorithm that makes predictions using a similarity measure is called a \"instance-based\" learning algorithm, or sometimes a \"lazy learning\" algorithm"
   ]
  },
  {
   "cell_type": "markdown",
   "id": "da9e0189",
   "metadata": {},
   "source": [
    "#### 12.What's the difference between a model parameter and a hyperparameter in a learning algorithm ?"
   ]
  },
  {
   "cell_type": "markdown",
   "id": "b457a604",
   "metadata": {},
   "source": [
    "**Ans:** The key difference between model parameters and hyperparameters is that model parameters are learned during training and directly influence the predictions made by the model, while hyperparameters are set prior to training and affect the behavior and performance of the learning algorithm."
   ]
  },
  {
   "cell_type": "markdown",
   "id": "ac47bb2e",
   "metadata": {},
   "source": [
    "#### 13.What are the criteria that model-based learning algorithms look for? What is the most popular method they use to achieve success? What method do they use to make predictions ?"
   ]
  },
  {
   "cell_type": "markdown",
   "id": "e2c36f4a",
   "metadata": {},
   "source": [
    "**Ans:** Model based learning algorithm search for the optimal value of parameters in a model that will give the best results for the new instances. We often use a cost function or similar to determine what the parameter value has to be in order to minimize the function. The model makes prediction by using the value of the new instance and the parameters in its function."
   ]
  },
  {
   "cell_type": "markdown",
   "id": "b32c612d",
   "metadata": {},
   "source": [
    "#### 14.Can you name four of the most important Machine Learning challenges ?"
   ]
  },
  {
   "cell_type": "markdown",
   "id": "9ee495a8",
   "metadata": {},
   "source": [
    "**Ans:** \n",
    "\n",
    "**1.Overfitting**\n",
    "\n",
    "**2.Data quality**\n",
    "\n",
    "**3.Scalability**\n",
    "\n",
    "**4.Underfitting**"
   ]
  },
  {
   "cell_type": "markdown",
   "id": "0b73411a",
   "metadata": {},
   "source": [
    "#### 15.What happens if the model performs well on the training data but fails to generalize the results to new situations? Can you think of three different options ?"
   ]
  },
  {
   "cell_type": "markdown",
   "id": "6b7c3211",
   "metadata": {},
   "source": [
    "**Ans:** If a model performs well on the training data but fails to generalize to new situations, it may be overfitting to the training data. Here are three different options for addressing this issue:\n",
    "\n",
    "**Use a simpler model:** A complex model with too many parameters may capture noise in the training data, leading to poor generalization performance. By using a simpler model with fewer parameters, we can reduce the risk of overfitting.\n",
    "\n",
    "**Increase the amount of training data:** By providing the model with more diverse examples during training, we can reduce the risk of overfitting and improve the model's ability to generalize to new situations.\n",
    "\n",
    "**Use regularization techniques:** Regularization techniques such as L1 and L2 regularization can help prevent overfitting by adding a penalty term to the loss function that encourages the model to have smaller weights. Other techniques such as dropout and early stopping can also help prevent overfitting by introducing randomness into the model during training."
   ]
  },
  {
   "cell_type": "markdown",
   "id": "40b7cb37",
   "metadata": {},
   "source": [
    "#### 16.What exactly is a test set, and why would you need one ?"
   ]
  },
  {
   "cell_type": "markdown",
   "id": "fb15a269",
   "metadata": {},
   "source": [
    "**Ans:** test set is a crucial component of the machine learning workflow to evaluate the generalization performance of a trained model and ensure that it performs well on new, unseen data."
   ]
  },
  {
   "cell_type": "markdown",
   "id": "de607d8a",
   "metadata": {},
   "source": [
    "#### 17.What is a validation set's purpose ?"
   ]
  },
  {
   "cell_type": "markdown",
   "id": "414c0d31",
   "metadata": {},
   "source": [
    "**Ans :** The validation set is a subset of the training data that is used to evaluate the performance of the model during the training process and tune the hyperparameters to improve its performance on new, unseen data."
   ]
  },
  {
   "cell_type": "markdown",
   "id": "2b16f3a4",
   "metadata": {},
   "source": [
    "#### 18.What precisely is the train-dev kit, when will you need it, how do you put it to use ?"
   ]
  },
  {
   "cell_type": "markdown",
   "id": "a270dc55",
   "metadata": {},
   "source": [
    "**Ans:** \n",
    "The train-dev set is a subset of the training data that is used to evaluate the performance of a model during the development process. It is used to diagnose and debug issues that arise during the model development process, and to optimize the model's hyperparameters for better performance."
   ]
  },
  {
   "cell_type": "markdown",
   "id": "9fe78aa1",
   "metadata": {},
   "source": [
    "#### 19.What could go wrong if you use the test set to tune hyperparameters ?"
   ]
  },
  {
   "cell_type": "markdown",
   "id": "69dea8d2",
   "metadata": {},
   "source": [
    "**Ans :** If you tune hyperparameters using the test sets, then it may not perform well on the out-of-sample data because the model is tuned just for that specific set."
   ]
  }
 ],
 "metadata": {
  "kernelspec": {
   "display_name": "Python 3 (ipykernel)",
   "language": "python",
   "name": "python3"
  },
  "language_info": {
   "codemirror_mode": {
    "name": "ipython",
    "version": 3
   },
   "file_extension": ".py",
   "mimetype": "text/x-python",
   "name": "python",
   "nbconvert_exporter": "python",
   "pygments_lexer": "ipython3",
   "version": "3.9.7"
  }
 },
 "nbformat": 4,
 "nbformat_minor": 5
}
