{
 "cells": [
  {
   "cell_type": "markdown",
   "id": "8b5e3a80",
   "metadata": {},
   "source": [
    "### Assignment Solutions"
   ]
  },
  {
   "cell_type": "markdown",
   "id": "67e5ebd5",
   "metadata": {},
   "source": [
    "#### 1. What are the key tasks involved in getting ready to work with machine learning modeling?"
   ]
  },
  {
   "cell_type": "markdown",
   "id": "d5ac4353",
   "metadata": {},
   "source": [
    "**Ans:** The Key Tasks involved in getting ready to work with Machine learning Modelling are:\n",
    "\n",
    "**1.Defining the problem**\\\n",
    "**2.Data gathering and preparation**\\\n",
    "**3.Data exploration and visualization**\\\n",
    "**4.Feature engineering**\\\n",
    "**5.Model selection**\\\n",
    "**6.Model training and evaluation**\\\n",
    "**7.Model tuning and optimization**\\\n",
    "**8.Deployment and monitoring**"
   ]
  },
  {
   "cell_type": "markdown",
   "id": "1ac16ce7",
   "metadata": {},
   "source": [
    "#### 2. What are the different forms of data used in machine learning? Give a specific example for each of them."
   ]
  },
  {
   "cell_type": "markdown",
   "id": "f10a67c1",
   "metadata": {},
   "source": [
    "**Ans:** There are three main forms of data used in machine learning:\n",
    "\n",
    "**Structured data:** This type of data is highly organized and easily searchable. It is typically stored in databases or spreadsheets and can be represented as tables with rows and columns. Examples of structured data include financial data, customer data, and stock market data.\n",
    "Example: Predicting customer churn in a telecom company using structured data such as customer demographics, billing information, and service usage data.\n",
    "\n",
    "**Unstructured data:** This type of data is not easily searchable and has no predefined structure. Examples of unstructured data include text, images, audio, and video.\n",
    "Example: Sentiment analysis of customer reviews using unstructured data such as text data from social media, review websites, and customer support tickets.\n",
    "\n",
    "**Semi-structured data:** This type of data contains some structure but not enough to be considered fully structured. Examples of semi-structured data include XML files, JSON files, and HTML documents.\n",
    "Example: Predicting the likelihood of a user clicking on a particular ad using semi-structured data such as user behavior data from web logs, clickstream data, and session data."
   ]
  },
  {
   "cell_type": "markdown",
   "id": "d4a7b546",
   "metadata": {},
   "source": [
    "#### 3. Distinguish:\n",
    "1. Numeric vs. categorical attributes\n",
    "2. Feature selection vs. dimensionality reduction"
   ]
  },
  {
   "cell_type": "markdown",
   "id": "ce646f45",
   "metadata": {},
   "source": [
    "**Ans** **Numeric vs. categorical attributes:**\\\n",
    "Numeric attributes are those that can be expressed in numerical form and can take any value within a range, such as age or income. Categorical attributes, on the other hand, are those that represent discrete categories or classes, such as gender or color. Numeric attributes are typically used in regression models, while categorical attributes are used in classification models.\n",
    "\n",
    "**Feature selection vs. dimensionality reduction:**\n",
    "Feature selection and dimensionality reduction are both techniques used to reduce the number of features in a dataset. However, they differ in their approach and goals.\n",
    "\n",
    "Feature selection involves selecting a subset of the original features that are most relevant to the problem being solved. This is done by analyzing the relationship between each feature and the target variable and selecting the most important ones. The goal of feature selection is to reduce the complexity of the model and improve its performance.\n",
    "\n",
    "Dimensionality reduction, on the other hand, involves transforming the original features into a lower-dimensional space while preserving as much information as possible. This is done by identifying and removing redundant or irrelevant features. The goal of dimensionality reduction is to reduce the computational cost of the model and avoid overfitting.\n",
    "\n",
    "In summary, feature selection aims to select the most important features from the original dataset, while dimensionality reduction aims to transform the original features into a lower-dimensional space while preserving as much information as possible."
   ]
  },
  {
   "cell_type": "markdown",
   "id": "7266150f",
   "metadata": {},
   "source": [
    "#### 4. Make quick notes on any two of the following:\n",
    "1. The histogram\n",
    "2. Use a scatter plot\n",
    "3.PCA \n"
   ]
  },
  {
   "cell_type": "markdown",
   "id": "ffe0c56a",
   "metadata": {},
   "source": [
    "**Ans:** **The histogram:**\n",
    "A histogram is a graphical representation of the distribution of a dataset.\n",
    "It is a bar graph-like representation of data that is divided into a set of intervals, or bins.\n",
    "The height of each bar corresponds to the number of observations that fall within the corresponding bin.\n",
    "Histograms are useful for understanding the distribution of a dataset and identifying patterns, such as skewness, outliers, and multimodality.\n",
    "Histograms are commonly used in data exploration, visualization, and analysis.\n",
    "\n",
    "**Use a scatter plot:**\n",
    "A scatter plot is a graphical representation of the relationship between two variables.\n",
    "It is a set of data points plotted on a two-dimensional plane, where the x-axis represents one variable and the y-axis represents the other variable.\n",
    "Scatter plots are useful for identifying trends and patterns in data, such as correlation or clustering.\n",
    "They are commonly used in exploratory data analysis, regression analysis, and machine learning.\n",
    "Scatter plots can also be used to visualize high-dimensional data by plotting multiple pairs of variables in a matrix of scatter plots, known as a scatterplot matrix.\n",
    "\n",
    "**PCA (Principal Component Analysis)**:\n",
    "PCA is a dimensionality reduction technique that transforms a high-dimensional dataset into a lower-dimensional space while preserving the most important information.\n",
    "It does this by identifying the principal components, which are the directions in the data that contain the most variation.\n",
    "The principal components are orthogonal and ranked by the amount of variance they explain.\n",
    "PCA is commonly used for data preprocessing and feature extraction in machine learning, as it can reduce the computational cost of models and improve their performance.\n",
    "PCA can also be used for data visualization, as it can reduce high-dimensional data to two or three dimensions, which can be plotted on a scatter plot"
   ]
  },
  {
   "cell_type": "markdown",
   "id": "4763a4ee",
   "metadata": {},
   "source": [
    "#### 5. Why is it necessary to investigate data? Is there a discrepancy in how qualitative and quantitative data are explored?"
   ]
  },
  {
   "cell_type": "markdown",
   "id": "ace05921",
   "metadata": {},
   "source": [
    "**Ans:** It is necessary to investigate data in order to understand its properties, patterns, and relationships, and to identify potential issues or anomalies that may affect the validity of the analysis or modeling process. Data investigation helps to ensure that the data is appropriate for the intended purpose and that any insights or conclusions drawn from it are accurate and reliable.\n",
    "\n",
    "Both qualitative and quantitative data exploration are important for investigating data, and the specific techniques used will depend on the nature of the data and the research question being addressed"
   ]
  },
  {
   "cell_type": "markdown",
   "id": "ddd61d0e",
   "metadata": {},
   "source": [
    "#### 6. What are the various histogram shapes? What exactly are ‘bins' ?"
   ]
  },
  {
   "cell_type": "markdown",
   "id": "3aa5dcfe",
   "metadata": {},
   "source": [
    "**Ans:** Histograms can take on various shapes depending on the distribution of the data being plotted. Some common shapes include:\n",
    "\n",
    "**Symmetrical:** The data is evenly distributed on both sides of the center, forming a bell-shaped curve. This is also known as a normal distribution.\n",
    "\n",
    "**Skewed right:** The data is clustered towards the lower end of the range, with a tail that extends towards the higher end of the range.\n",
    "\n",
    "**Skewed left:** The data is clustered towards the higher end of the range, with a tail that extends towards the lower end of the range.\n",
    "\n",
    "**Bimodal:** The data has two distinct peaks or modes, indicating that there may be two underlying subpopulations.\n",
    "\n",
    "**Uniform:** The data is evenly distributed across the range, with no distinct peaks or valleys.\n",
    "\n",
    "**Bins** are the intervals or ranges into which the data is divided for the purpose of constructing the histogram. The range of the data is divided into equal-sized bins, and the frequency or count of the data points falling within each bin is represented by the height of the corresponding bar in the histogram. The number of bins used in a histogram can affect the interpretation of the distribution, as too few bins may oversimplify the distribution, while too many bins may result in noise or overfitting. Choosing an appropriate number of bins is therefore an important consideration when constructing a histogram."
   ]
  },
  {
   "cell_type": "markdown",
   "id": "73669a89",
   "metadata": {},
   "source": [
    "#### 7. How do we deal with data outliers ?"
   ]
  },
  {
   "cell_type": "markdown",
   "id": "a5838f50",
   "metadata": {},
   "source": [
    "**Ans:**Dealing with outliers depends on the context and the nature of the data. Here are some common approaches:\n",
    "\n",
    "**Leave them as is:** If the outlier is a genuine data point that represents a valid observation, it may be left in the dataset. However, the impact of the outlier on the analysis or modeling process should be carefully considered, as outliers can skew the results.\n",
    "\n",
    "**Remove them:** Outliers can be removed from the dataset if they are deemed to be errors or anomalies. However, removing outliers can also affect the analysis or modeling process, as it can lead to biased results or loss of important information.\n",
    "\n",
    "**Winsorize:** Winsorizing involves replacing the extreme values with the nearest values that are within a certain percentile range. For example, if the 95th percentile is used, any data point above the 95th percentile is replaced with the value at the 95th percentile, and any data point below the 5th percentile is replaced with the value at the 5th percentile.\n",
    "\n",
    "**Transform the data:** Transforming the data, such as by applying a logarithmic transformation, can sometimes reduce the impact of outliers by scaling down their effect on the analysis or modeling process."
   ]
  },
  {
   "cell_type": "markdown",
   "id": "164df733",
   "metadata": {},
   "source": [
    "#### 8. What are the various central inclination measures? Why does mean vary too much from median in certain data sets ?"
   ]
  },
  {
   "cell_type": "markdown",
   "id": "660c6e01",
   "metadata": {},
   "source": [
    "**Ans:** The various central tendency measures used to describe the center of a dataset include:\n",
    "\n",
    "**Mean:** The arithmetic mean is the sum of all values in the dataset divided by the number of values. It is sensitive to outliers and can be influenced by extreme values.\n",
    "\n",
    "**Median:** The median is the middle value in the dataset when the values are arranged in order. It is less sensitive to outliers than the mean and can provide a more robust measure of central tendency.\n",
    "\n",
    "**Mode:** The mode is the value that appears most frequently in the dataset. It is often used with categorical data.\n",
    "\n",
    "The mean can vary too much from the median in certain datasets, especially when the dataset contains outliers or extreme values. Outliers can have a strong influence on the mean, pulling it towards the direction of the outlier. For example, in a dataset of salaries where a few high-income earners make much more than the rest, the mean salary can be much higher than the median salary. In contrast, the median is less affected by outliers as it is based on the middle value of the dataset. Therefore, if a dataset has a few extreme values that deviate significantly from the rest of the data, the median is often a more appropriate measure of central tendency than the mean."
   ]
  },
  {
   "cell_type": "markdown",
   "id": "11fa6b7e",
   "metadata": {},
   "source": [
    "#### 9. Describe how a scatter plot can be used to investigate bivariate relationships. Is it possible to find outliers using a scatter plot ?"
   ]
  },
  {
   "cell_type": "markdown",
   "id": "c19913fd",
   "metadata": {},
   "source": [
    "**Ans:** A Scatter Plot (aka scatter chart, scatter graph) uses dots to represent values for two different numeric variables. The position of each dot on the horizontal and vertical axis indicates values for an individual data point. So this visualization gives us the idea of bivariate relationship.\n",
    "\n",
    "Scatter plot can also help finding outliers as outliers can be visualized at farther distance than regular data."
   ]
  },
  {
   "cell_type": "markdown",
   "id": "a6c809a9",
   "metadata": {},
   "source": [
    "#### 10. Describe how cross-tabs can be used to figure out how two variables are related ?"
   ]
  },
  {
   "cell_type": "markdown",
   "id": "f4122e89",
   "metadata": {},
   "source": [
    "**Ans:** Cross tabulation is a method to quantitatively analyze the relationship between multiple variables. Also known as contingency tables or cross tabs, cross tabulation groups variables to understand the correlation between different variables. It also shows how correlations change from one variable grouping to another."
   ]
  }
 ],
 "metadata": {
  "kernelspec": {
   "display_name": "Python 3 (ipykernel)",
   "language": "python",
   "name": "python3"
  },
  "language_info": {
   "codemirror_mode": {
    "name": "ipython",
    "version": 3
   },
   "file_extension": ".py",
   "mimetype": "text/x-python",
   "name": "python",
   "nbconvert_exporter": "python",
   "pygments_lexer": "ipython3",
   "version": "3.9.7"
  }
 },
 "nbformat": 4,
 "nbformat_minor": 5
}
