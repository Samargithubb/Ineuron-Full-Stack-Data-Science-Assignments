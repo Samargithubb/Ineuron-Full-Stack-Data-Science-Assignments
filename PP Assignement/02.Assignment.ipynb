{
 "cells": [
  {
   "cell_type": "markdown",
   "id": "a2dbfade",
   "metadata": {},
   "source": [
    "1. Scenario: A company wants to analyze the sales performance of its products in different regions. They have collected the following data:\\\n",
    "Region A: [10, 15, 12, 8, 14] \\\n",
    "Region B: [18, 20, 16, 22, 25] \\\n",
    "Calculate the mean sales for each region.\n"
   ]
  },
  {
   "cell_type": "code",
   "execution_count": 3,
   "id": "b3cbd17d",
   "metadata": {},
   "outputs": [
    {
     "name": "stdout",
     "output_type": "stream",
     "text": [
      "Mean sales for Region A: 11.8\n",
      "Mean sales for Region B: 20.2\n"
     ]
    }
   ],
   "source": [
    "import statistics\n",
    "\n",
    "Region_A = [10, 15, 12, 8, 14]\n",
    "Region_B = [18, 20, 16, 22, 25]\n",
    "\n",
    "# Mean sales in Region A = Total sales in Region A / Number of data points in Region A\n",
    "mean_region_a = statistics.mean(Region_A)\n",
    "mean_region_b = statistics.mean(Region_B)\n",
    "\n",
    "print(\"Mean sales for Region A:\", mean_region_a)\n",
    "print(\"Mean sales for Region B:\", mean_region_b)"
   ]
  },
  {
   "cell_type": "markdown",
   "id": "91467d26",
   "metadata": {},
   "source": [
    "2. Scenario: A survey is conducted to measure customer satisfaction on a scale of 1 to 5.\n",
    "The data collected is as follows: \\\n",
    "[4, 5, 2, 3, 5, 4, 3, 2, 4, 5] \\\n",
    "Calculate the mode of the survey responses.\n"
   ]
  },
  {
   "cell_type": "code",
   "execution_count": 7,
   "id": "88dd76c4",
   "metadata": {},
   "outputs": [
    {
     "data": {
      "text/plain": [
       "4"
      ]
     },
     "execution_count": 7,
     "metadata": {},
     "output_type": "execute_result"
    }
   ],
   "source": [
    "import statistics \n",
    "Rating_data = [4, 5, 2, 3, 5, 4, 3, 2, 4, 4, 5]\n",
    "\n",
    "statistics.mode(Rating_data)"
   ]
  },
  {
   "cell_type": "markdown",
   "id": "0149d72a",
   "metadata": {},
   "source": [
    "3. Scenario: A company wants to compare the salaries of two departments. The salary data for Department A and Department B are as follows:\n",
    "Department A: [5000, 6000, 5500, 7000] \\\n",
    "Department B: [4500, 5500, 5800, 6000, 5200] \\\n",
    "Calculate the median salary for each department.\n"
   ]
  },
  {
   "cell_type": "code",
   "execution_count": 11,
   "id": "2473eae8",
   "metadata": {},
   "outputs": [
    {
     "name": "stdout",
     "output_type": "stream",
     "text": [
      "Median Salary of Department A : 5750.0\n",
      "Median Salary of Department B : 5500\n"
     ]
    }
   ],
   "source": [
    "Department_A = [5000, 6000, 5500, 7000]\n",
    "Department_B = [4500, 5500, 5800, 6000, 5200]\n",
    "\n",
    "median_salary_of_departmentA = statistics.median(Department_A)\n",
    "median_salary_of_departmentB = statistics.median(Department_B)\n",
    "\n",
    "print(\"Median Salary of Department A :\" , median_salary_of_departmentA)\n",
    "print(\"Median Salary of Department B :\" , median_salary_of_departmentB)"
   ]
  },
  {
   "cell_type": "markdown",
   "id": "c67b6154",
   "metadata": {},
   "source": [
    "4. Scenario: A data analyst wants to determine the variability in the daily stock prices of a company. \n",
    "The data collected is as follows: \\\n",
    "[25.5, 24.8, 26.1, 25.3, 24.9] \\\n",
    "Calculate the range of the stock prices.\n"
   ]
  },
  {
   "cell_type": "code",
   "execution_count": 14,
   "id": "07aaa21b",
   "metadata": {},
   "outputs": [
    {
     "name": "stdout",
     "output_type": "stream",
     "text": [
      " Range of the Stock Price is:  1.3\n"
     ]
    }
   ],
   "source": [
    "stock_prices = [25.5, 24.8, 26.1, 25.3, 24.9]\n",
    "minimum_prices = min(stock_prices)\n",
    "maximum_prices = max(stock_prices)\n",
    "Range = maximum_prices - minimum_prices\n",
    "print(\" Range of the Stock Price is: \", round(Range,2))"
   ]
  },
  {
   "cell_type": "markdown",
   "id": "d7296d61",
   "metadata": {},
   "source": [
    "5. Scenario: A study is conducted to compare the performance of two different teaching methods. The test scores of the students in each group are as follows: \\\n",
    "   Group A: [85, 90, 92, 88, 91] \\\n",
    "   Group B: [82, 88, 90, 86, 87] \\\n",
    "   Perform a t-test to determine if there is a significant difference in the mean scores between the two groups.\n"
   ]
  },
  {
   "cell_type": "code",
   "execution_count": 1,
   "id": "07e46412",
   "metadata": {},
   "outputs": [
    {
     "name": "stdout",
     "output_type": "stream",
     "text": [
      "There is no significant difference in the mean scores between Group A and Group B.\n"
     ]
    }
   ],
   "source": [
    "import scipy.stats as stats\n",
    "\n",
    "# Test scores for Group A and Group B\n",
    "group_a_scores = [85, 90, 92, 88, 91]\n",
    "group_b_scores = [82, 88, 90, 86, 87]\n",
    "\n",
    "t_statistic, p_value = stats.ttest_ind(group_a_scores, group_b_scores)\n",
    "alpha = 0.05\n",
    "\n",
    "if p_value < alpha:\n",
    "    print(\" There is a significant difference in the mean score of between Group A and Group B\")\n",
    "else:\n",
    "    print(\"There is no significant difference in the mean scores between Group A and Group B.\")\n"
   ]
  },
  {
   "cell_type": "markdown",
   "id": "0f3f19f6",
   "metadata": {},
   "source": [
    "6. Scenario: A company wants to analyze the relationship between advertising expenditure and sales. The data collected is as follows:\n",
    "```\n",
    "Advertising Expenditure (in thousands): [10, 15, 12, 8, 14]\n",
    "Sales (in thousands): [25, 30, 28, 20, 26]\n",
    "Calculate the correlation coefficient between advertising expenditure and sales.\n",
    "\n"
   ]
  },
  {
   "cell_type": "code",
   "execution_count": 2,
   "id": "554fa10d",
   "metadata": {},
   "outputs": [
    {
     "name": "stdout",
     "output_type": "stream",
     "text": [
      "Correlation coefficient: 0.8757511375750132\n",
      "P-value: 0.05158319418821724\n"
     ]
    }
   ],
   "source": [
    "import scipy.stats as stats\n",
    "\n",
    "advertising_expenditure = [10, 15, 12, 8, 14]\n",
    "sales = [25, 30, 28, 20, 26]\n",
    "\n",
    "correlation_coefficient, p_value = stats.pearsonr(advertising_expenditure, sales)\n",
    "\n",
    "print(\"Correlation coefficient:\", correlation_coefficient)\n",
    "print(\"P-value:\", p_value)\n"
   ]
  },
  {
   "cell_type": "markdown",
   "id": "c8c98a11",
   "metadata": {},
   "source": [
    "7. Scenario: A survey is conducted to measure the heights of a group of people. The data collected is as follows:\n",
    "[160, 170, 165, 155, 175, 180, 170]\n",
    "Calculate the standard deviation of the heights.\n"
   ]
  },
  {
   "cell_type": "code",
   "execution_count": 4,
   "id": "c4d91f79",
   "metadata": {},
   "outputs": [
    {
     "name": "stdout",
     "output_type": "stream",
     "text": [
      "Standard Deviation of Height: 7.953949089757174\n"
     ]
    }
   ],
   "source": [
    "import math \n",
    "\n",
    "heights = [160, 170, 165, 155, 175, 180, 170]\n",
    "\n",
    "mean = sum(heights) / len(heights)\n",
    "\n",
    "squared_deviations = [(height - mean)**2 for height in heights]\n",
    "\n",
    "variance = sum(squared_deviations)/ len(heights)\n",
    "\n",
    "standard_deviation = math.sqrt(variance)\n",
    "\n",
    "print(\"Standard Deviation of Height:\", standard_deviation)"
   ]
  },
  {
   "cell_type": "markdown",
   "id": "c77d4fc4",
   "metadata": {},
   "source": [
    "8. Scenario: A company wants to analyze the relationship between employee tenure and job satisfaction. The data collected is as follows:\n",
    "```\n",
    "Employee Tenure (in years): [2, 3, 5, 4, 6, 2, 4]\n",
    "Job Satisfaction (on a scale of 1 to 10): [7, 8, 6, 9, 5, 7, 6]\n",
    "   Perform a linear regression analysis to predict job satisfaction based on employee tenure.\n"
   ]
  },
  {
   "cell_type": "code",
   "execution_count": 5,
   "id": "2d33b52b",
   "metadata": {},
   "outputs": [
    {
     "name": "stdout",
     "output_type": "stream",
     "text": [
      "Slope: -0.4680851063829787\n",
      "Intercept: 8.595744680851062\n",
      "R-value (correlation coefficient): -0.520573376708331\n",
      "P-value (significance level): 0.23095550952297988\n",
      "Standard error: 0.34333860006713723\n"
     ]
    },
    {
     "data": {
      "text/plain": [
       "6.7234042553191475"
      ]
     },
     "execution_count": 5,
     "metadata": {},
     "output_type": "execute_result"
    }
   ],
   "source": [
    "import scipy.stats as stats\n",
    "employee_tenure = [2, 3, 5, 4, 6, 2, 4]\n",
    "job_satisfaction = [7, 8, 6, 9, 5, 7, 6]\n",
    "\n",
    "slope, intercept, r_value, p_value, std_err = stats.linregress(employee_tenure,job_satisfaction)\n",
    "\n",
    "print(\"Slope:\", slope)\n",
    "print(\"Intercept:\", intercept)\n",
    "print(\"R-value (correlation coefficient):\", r_value)\n",
    "print(\"P-value (significance level):\", p_value)\n",
    "print(\"Standard error:\", std_err)\n",
    "\n",
    "def predict_job_satisfaction(tenure):\n",
    "    predicted_satisfaction = slope * tenure + intercept\n",
    "    return predicted_satisfaction\n",
    "\n",
    "tenure = 4\n",
    "predict_job_satisfaction(tenure)"
   ]
  },
  {
   "cell_type": "markdown",
   "id": "db04ca19",
   "metadata": {},
   "source": [
    "9. Scenario: A study is conducted to compare the effectiveness of two different medications. The recovery times of the patients in each group are as follows:\n",
    "```\n",
    "   Medication A: [10, 12, 14, 11, 13]\n",
    "   Medication B: [15, 17, 16, 14, 18]\n",
    "   Perform an analysis of variance (ANOVA) to determine if there is a significant difference in the mean recovery times between the two medications.\n"
   ]
  },
  {
   "cell_type": "code",
   "execution_count": 7,
   "id": "dfdae407",
   "metadata": {},
   "outputs": [
    {
     "name": "stdout",
     "output_type": "stream",
     "text": [
      "There is a significant difference in the mean recovery times between Medication A and Medication B.\n",
      "F-statistic: 16.0\n",
      "P-value: 0.003949772803445326\n"
     ]
    }
   ],
   "source": [
    "import scipy.stats as stats\n",
    "\n",
    "medication_a = [10, 12, 14, 11, 13]\n",
    "medication_b = [15, 17, 16, 14, 18]\n",
    "\n",
    "f_statistic, p_value = stats.f_oneway(medication_a,medication_b)\n",
    "\n",
    "alpha =0.5\n",
    "\n",
    "if p_value < alpha:\n",
    "    print(\"There is a significant difference in the mean recovery times between Medication A and Medication B.\")\n",
    "else:\n",
    "    print(\"There is no significant difference in the mean recovery times between Medication A and Medication B.\")\n",
    "\n",
    "print(\"F-statistic:\", f_statistic)\n",
    "print(\"P-value:\", p_value)"
   ]
  },
  {
   "cell_type": "markdown",
   "id": "54b5285d",
   "metadata": {},
   "source": [
    "10. Scenario: A company wants to analyze customer feedback ratings on a scale of 1 to 10. The data collected is as follows: [8, 9, 7, 6, 8, 10, 9, 8, 7, 8]\n",
    "    Calculate the 75th percentile of the feedback ratings.\n"
   ]
  },
  {
   "cell_type": "code",
   "execution_count": 8,
   "id": "887a1fff",
   "metadata": {},
   "outputs": [
    {
     "name": "stdout",
     "output_type": "stream",
     "text": [
      "75th percentile of feedback ratings:  8.75\n"
     ]
    }
   ],
   "source": [
    "import numpy as np\n",
    "\n",
    "ratings = [8, 9, 7, 6, 8, 10, 9, 8, 7, 8]\n",
    "\n",
    "percentile_75 = np.percentile(ratings, 75)\n",
    "\n",
    "print(\"75th percentile of feedback ratings: \", percentile_75)"
   ]
  },
  {
   "cell_type": "markdown",
   "id": "5f09c9df",
   "metadata": {},
   "source": [
    "11. Scenario: A quality control department wants to test the weight consistency of a product. The weights of a sample of products are as follows:\n",
    "[10.2, 9.8, 10.0, 10.5, 10.3, 10.1]\n",
    "    Perform a hypothesis test to determine if the mean weight differs significantly from 10 grams."
   ]
  },
  {
   "cell_type": "code",
   "execution_count": 10,
   "id": "67d44984",
   "metadata": {},
   "outputs": [
    {
     "name": "stdout",
     "output_type": "stream",
     "text": [
      "The mean weight differs significantly from 10 grams.\n"
     ]
    }
   ],
   "source": [
    "import scipy.stats as stats\n",
    "weights = [10.2, 9.8, 10.0, 10.5, 10.3, 10.1]\n",
    "\n",
    "t_statistics, p_value = stats.ttest_1samp(weights, 10)\n",
    "\n",
    "alpha = 0.5\n",
    "\n",
    "if p_value < alpha:\n",
    "    print(\"The mean weight differs significantly from 10 grams.\")\n",
    "    \n",
    "else:\n",
    "    print(\"The mean weightdoes not differs significantly from 10 grams.\")"
   ]
  },
  {
   "cell_type": "markdown",
   "id": "7be733a6",
   "metadata": {},
   "source": [
    "12. Scenario: A company wants to analyze the click-through rates of two different website designs. The number of clicks for each design is as follows:\n",
    "```\n",
    "    Design A: [100, 120, 110, 90, 95]\n",
    "    Design B: [80, 85, 90, 95, 100]\n",
    "    Perform a chi-square test to determine if there is a significant difference in the click-through rates between the two designs.\n"
   ]
  },
  {
   "cell_type": "code",
   "execution_count": 21,
   "id": "879d44da",
   "metadata": {},
   "outputs": [
    {
     "name": "stdout",
     "output_type": "stream",
     "text": [
      "There is no significant difference in the click-through rates between the two designs.\n",
      "Chi-square statistic: 6.110658166925435\n",
      "P-value: 0.19103526314060293\n"
     ]
    }
   ],
   "source": [
    "import scipy.stats as stats\n",
    "import numpy as np\n",
    "\n",
    "# Click-through rates for Design A and Design B\n",
    "design_a = [100, 120, 110, 90, 95]\n",
    "design_b = [80, 85, 90, 95, 100]\n",
    "\n",
    "# Create a contingency table\n",
    "observed = np.array([design_a, design_b])\n",
    "\n",
    "# Perform chi-square test of independence\n",
    "chi2_statistic, p_value, _, _ = stats.chi2_contingency(observed)\n",
    "\n",
    "# Check if the difference is statistically significant\n",
    "alpha = 0.05  # Significance level\n",
    "\n",
    "if p_value < alpha:\n",
    "    print(\"There is a significant difference in the click-through rates between the two designs.\")\n",
    "else:\n",
    "    print(\"There is no significant difference in the click-through rates between the two designs.\")\n",
    "\n",
    "print(\"Chi-square statistic:\", chi2_statistic)\n",
    "print(\"P-value:\", p_value)\n"
   ]
  },
  {
   "cell_type": "markdown",
   "id": "e14ab72e",
   "metadata": {},
   "source": [
    "13. Scenario: A survey is conducted to measure customer satisfaction with a product on a scale of 1 to 10. The data collected is as follows:\n",
    "    [7, 9, 6, 8, 10, 7, 8, 9, 7, 8]\n",
    "    Calculate the 95% confidence interval for the population mean satisfaction score.\n"
   ]
  },
  {
   "cell_type": "code",
   "execution_count": 20,
   "id": "742413d4",
   "metadata": {},
   "outputs": [
    {
     "name": "stdout",
     "output_type": "stream",
     "text": [
      "(7.196048163672016, 8.603951836327985)\n",
      "This means that we are 95% confident that the true population mean satisfaction score is between 7.2 and 8.6.\n"
     ]
    }
   ],
   "source": [
    "import numpy as np\n",
    "import scipy.stats as stats\n",
    "\n",
    "data = np.array([7, 9, 6, 8, 10, 7, 8, 9, 7, 8])\n",
    "\n",
    "sample_mean =np.mean(data)\n",
    "\n",
    "sample_standard_deviation = np.std(data)\n",
    "\n",
    "confidence_interval =stats.norm.interval(0.95, loc=sample_mean, scale=sample_standard_deviation /np.sqrt(len(data)))\n",
    "\n",
    "print(confidence_interval)\n",
    "print(\"This means that we are 95% confident that the true population mean satisfaction score is between 7.2 and 8.6.\")"
   ]
  },
  {
   "cell_type": "markdown",
   "id": "3907a45b",
   "metadata": {},
   "source": [
    "14. Scenario: A company wants to analyze the effect of temperature on product performance. The data collected is as follows:\n",
    "```\n",
    "    Temperature (in degrees Celsius): [20, 22, 23, 19, 21]\n",
    "    Performance (on a scale of 1 to 10): [8, 7, 9, 6, 8]\n",
    "    Perform a simple linear regression to predict performance based on temperature.\n",
    "\n"
   ]
  },
  {
   "cell_type": "code",
   "execution_count": 23,
   "id": "b59538ee",
   "metadata": {},
   "outputs": [
    {
     "name": "stdout",
     "output_type": "stream",
     "text": [
      "Slope: 0.5\n",
      "Intercept: -2.9000000000000004\n",
      "R-value (correlation coefficient): 0.6933752452815364\n",
      "P-value (significance level): 0.19417134561205843\n",
      "Standard error: 0.30000000000000004\n"
     ]
    },
    {
     "data": {
      "text/plain": [
       "8.6"
      ]
     },
     "execution_count": 23,
     "metadata": {},
     "output_type": "execute_result"
    }
   ],
   "source": [
    "import scipy.stats as stats\n",
    "Temperature = [20, 22, 23, 19, 21]\n",
    "Performance = [8, 7, 9, 6, 8]\n",
    "\n",
    "slope, intercept, r_value, p_value, std_err = stats.linregress(Temperature,Performance)\n",
    "\n",
    "print(\"Slope:\", slope)\n",
    "print(\"Intercept:\", intercept)\n",
    "print(\"R-value (correlation coefficient):\", r_value)\n",
    "print(\"P-value (significance level):\", p_value)\n",
    "print(\"Standard error:\", std_err)\n",
    "\n",
    "def predict_Performance(tempt):\n",
    "    performance = slope * tempt + intercept\n",
    "    return performance\n",
    "\n",
    "tempt =23\n",
    "predict_Performance(tempt)"
   ]
  },
  {
   "cell_type": "markdown",
   "id": "2e56db34",
   "metadata": {},
   "source": [
    "15. Scenario: A study is conducted to compare the preferences of two groups of participants. The preferences are measured on a Likert scale from 1 to 5. The data collected is as follows:\n",
    "``` \n",
    "Group A: [4, 3, 5, 2, 4]\n",
    "    Group B: [3, 2, 4, 3, 3]\n",
    "    Perform a Mann-Whitney U test to determine if there is a significant difference in the median preferences between the two groups.\n"
   ]
  },
  {
   "cell_type": "code",
   "execution_count": 25,
   "id": "0cfc58b4",
   "metadata": {},
   "outputs": [
    {
     "name": "stdout",
     "output_type": "stream",
     "text": [
      "U statistic: 17.0\n",
      "P-value: 0.380836480306712\n",
      "there is no significant difference in the median preferences between Group A and Group B.\n"
     ]
    }
   ],
   "source": [
    "import numpy as np\n",
    "from scipy.stats import mannwhitneyu\n",
    "\n",
    "group_a = np.array([4, 3, 5, 2, 4])\n",
    "group_b = np.array([3, 2, 4, 3, 3])\n",
    "\n",
    "u_statistic = mannwhitneyu(group_a, group_b).statistic\n",
    "p_value = mannwhitneyu(group_a, group_b).pvalue\n",
    "\n",
    "print(\"U statistic:\", u_statistic)\n",
    "print(\"P-value:\", p_value)\n",
    "alpha =0.05\n",
    "if p_value<alpha:\n",
    "    print(\"there is a significant difference in the median preferences between Group A and Group B.\")\n",
    "else:\n",
    "    print(\"there is no significant difference in the median preferences between Group A and Group B.\")"
   ]
  },
  {
   "cell_type": "markdown",
   "id": "cea67495",
   "metadata": {},
   "source": [
    "16. Scenario: A company wants to analyze the distribution of customer ages. The data collected is as follows:\n",
    "```\n",
    "    [25, 30, 35, 40, 45, 50, 55, 60, 65, 70]\n",
    "    Calculate the interquartile range (IQR) of the ages.\n"
   ]
  },
  {
   "cell_type": "code",
   "execution_count": 33,
   "id": "37a28341",
   "metadata": {},
   "outputs": [
    {
     "name": "stdout",
     "output_type": "stream",
     "text": [
      "36.25\n",
      "58.75\n",
      "IQR:  22.5\n",
      "THis represents middle 50% of customer are age range of  40 to 60\n"
     ]
    }
   ],
   "source": [
    "import numpy as np\n",
    "data = np.array([25, 30, 35, 40, 45, 50, 55, 60, 65, 70])\n",
    "median = np.median(data)\n",
    "\n",
    "first_quartile = np.percentile(data, 25)\n",
    "print(first_quartile)\n",
    "third_quartile = np.percentile(data, 75)\n",
    "print(third_quartile)\n",
    "iqr = third_quartile - first_quartile\n",
    "\n",
    "print(\"IQR: \", iqr)\n",
    "print(\"THis represents middle 50% of customer are age range of  40 to 60\")"
   ]
  },
  {
   "cell_type": "markdown",
   "id": "9f5e4095",
   "metadata": {},
   "source": [
    "17. Scenario: A study is conducted to compare the performance of three different machine learning algorithms. The accuracy scores for each algorithm are as follows:\n",
    "```\n",
    "    Algorithm A: [0.85, 0.80, 0.82, 0.87, 0.83]\n",
    "    Algorithm B: [0.78, 0.82, 0.84, 0.80, 0.79]\n",
    "    Algorithm C: [0.90, 0.88, 0.89, 0.86, 0.87]\n",
    "    Perform a Kruskal-Wallis test to determine if there is a significant difference in the median accuracy scores between the algorithms.\n"
   ]
  },
  {
   "cell_type": "code",
   "execution_count": 35,
   "id": "8c9cfec7",
   "metadata": {},
   "outputs": [
    {
     "name": "stdout",
     "output_type": "stream",
     "text": [
      "Kruskal-Wallis statistic: 9.696947935368053\n",
      "P-value: 0.007840333026249539\n",
      "there is a significant difference in the median accuracy scores between the algorithms.\n"
     ]
    }
   ],
   "source": [
    "import numpy as np\n",
    "from scipy.stats import kruskal\n",
    "\n",
    "# Define the data points\n",
    "algorithm_a = np.array([0.85, 0.80, 0.82, 0.87, 0.83])\n",
    "algorithm_b = np.array([0.78, 0.82, 0.84, 0.80, 0.79])\n",
    "algorithm_c = np.array([0.90, 0.88, 0.89, 0.86, 0.87])\n",
    "\n",
    "# Perform the Kruskal-Wallis test\n",
    "kruskal_statistic, p_value = kruskal(algorithm_a, algorithm_b, algorithm_c)\n",
    "\n",
    "# Print the results\n",
    "print(\"Kruskal-Wallis statistic:\", kruskal_statistic)\n",
    "print(\"P-value:\", p_value)\n",
    "alpha =0.05\n",
    "\n",
    "if p_value < alpha:\n",
    "    print(\"there is a significant difference in the median accuracy scores between the algorithms.\")\n",
    "else:\n",
    "    print(\"there is no significant difference in the median accuracy scores between the algorithms.\")"
   ]
  },
  {
   "cell_type": "markdown",
   "id": "964adab5",
   "metadata": {},
   "source": [
    "18. Scenario: A company wants to analyze the effect of price on sales. The data collected is as follows:\n",
    "```\n",
    "    Price (in dollars): [10, 15, 12, 8, 14]\n",
    "    Sales: [100, 80, 90, 110, 95]\n",
    "    Perform a simple linear regression to predict sales based on price.\n"
   ]
  },
  {
   "cell_type": "code",
   "execution_count": 41,
   "id": "4db1d365",
   "metadata": {},
   "outputs": [
    {
     "name": "stdout",
     "output_type": "stream",
     "text": [
      "Slope: -3.506097560975609\n",
      "Intercept: 136.3719512195122\n",
      "R-value (correlation coefficient): -0.8979991308594848\n",
      "P-value (significance level): 0.03850178234753776\n",
      "Standard error: 0.30000000000000004\n",
      "Predicted Sales:  83.78048780487806\n"
     ]
    }
   ],
   "source": [
    "import scipy.stats as stats\n",
    "\n",
    "Price = [10, 15, 12, 8, 14]\n",
    "Sales= [100, 80, 90, 110, 95]\n",
    "\n",
    "slope, intercept,r_value,p_value ,std_error= stats.linregress(Price,Sales)\n",
    "\n",
    "print(\"Slope:\", slope)\n",
    "print(\"Intercept:\", intercept)\n",
    "print(\"R-value (correlation coefficient):\", r_value)\n",
    "print(\"P-value (significance level):\", p_value)\n",
    "print(\"Standard error:\", std_err)\n",
    "\n",
    "def predict_Sales(price):\n",
    "    Price = slope * price + intercept\n",
    "    return Price\n",
    "price = 15\n",
    "print(\"Predicted Sales: \", predict_Sales(price))\n"
   ]
  },
  {
   "cell_type": "markdown",
   "id": "dbc4c11e",
   "metadata": {},
   "source": [
    "19. Scenario: A survey is conducted to measure the satisfaction levels of customers with a new product. The data collected is as follows:\n",
    "    [7, 8, 9, 6, 8, 7, 9, 7, 8, 7]\n",
    "    Calculate the standard error of the mean satisfaction score.\n"
   ]
  },
  {
   "cell_type": "code",
   "execution_count": 42,
   "id": "789222b1",
   "metadata": {},
   "outputs": [
    {
     "name": "stdout",
     "output_type": "stream",
     "text": [
      "Standard Error of the Mean:  0.28982753492378877\n"
     ]
    }
   ],
   "source": [
    "import numpy as np\n",
    "\n",
    "data = np.array([7, 8, 9, 6, 8, 7, 9, 7, 8, 7])\n",
    "\n",
    "sample_standard_deviation = np.std(data)\n",
    "\n",
    "standard_error_of_mean = sample_standard_deviation / np.sqrt(len(data))\n",
    "\n",
    "print(\"Standard Error of the Mean: \", standard_error_of_mean)"
   ]
  },
  {
   "cell_type": "markdown",
   "id": "2af4142d",
   "metadata": {},
   "source": [
    "20. Scenario: A company wants to analyze the relationship between advertising expenditure and sales. The data collected is as follows:\n",
    "```\n",
    "    Advertising Expenditure (in thousands): [10, 15, 12, 8, 14]\n",
    "    Sales (in thousands): [25, 30, 28, 20, 26]\n",
    "    Perform a multiple regression analysis to predict sales based on advertising expenditure.\n"
   ]
  },
  {
   "cell_type": "code",
   "execution_count": 48,
   "id": "90b7220f",
   "metadata": {},
   "outputs": [
    {
     "name": "stdout",
     "output_type": "stream",
     "text": [
      "[1.15243902]\n",
      "12.201219512195118\n",
      "[26.0304878]\n"
     ]
    }
   ],
   "source": [
    "import numpy as np\n",
    "import pandas as pd\n",
    "from sklearn.linear_model import LinearRegression\n",
    "import warnings\n",
    "warnings.filterwarnings('ignore')\n",
    "\n",
    "# Define the data points\n",
    "advertising_expenditure = np.array([10, 15, 12, 8, 14])\n",
    "sales = np.array([25, 30, 28, 20, 26])\n",
    "\n",
    "# Create a data frame\n",
    "data = pd.DataFrame({\n",
    "    \"advertising_expenditure\": advertising_expenditure,\n",
    "    \"sales\": sales\n",
    "})\n",
    "\n",
    "# Create a linear regression model\n",
    "model = LinearRegression()\n",
    "\n",
    "# Fit the model to the data\n",
    "model.fit(data[[\"advertising_expenditure\"]], data[\"sales\"])\n",
    "\n",
    "# Print the coefficients\n",
    "print(model.coef_)\n",
    "\n",
    "# Print the intercept\n",
    "print(model.intercept_)\n",
    "\n",
    "# Predict sales for a new advertising expenditure of 12\n",
    "predicted_sales = model.predict(np.array([[12]]))\n",
    "\n",
    "# Print the predicted sales\n",
    "print(predicted_sales)\n"
   ]
  }
 ],
 "metadata": {
  "kernelspec": {
   "display_name": "Python 3 (ipykernel)",
   "language": "python",
   "name": "python3"
  },
  "language_info": {
   "codemirror_mode": {
    "name": "ipython",
    "version": 3
   },
   "file_extension": ".py",
   "mimetype": "text/x-python",
   "name": "python",
   "nbconvert_exporter": "python",
   "pygments_lexer": "ipython3",
   "version": "3.9.7"
  }
 },
 "nbformat": 4,
 "nbformat_minor": 5
}
