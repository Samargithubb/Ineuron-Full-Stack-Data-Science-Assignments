{
 "cells": [
  {
   "cell_type": "markdown",
   "id": "f63719fe",
   "metadata": {},
   "source": [
    "#### 1. Write a Python program to reverse a string without using any built-in string reversal functions."
   ]
  },
  {
   "cell_type": "code",
   "execution_count": 1,
   "id": "9bed3431",
   "metadata": {},
   "outputs": [
    {
     "data": {
      "text/plain": [
       "'kooB ehT'"
      ]
     },
     "execution_count": 1,
     "metadata": {},
     "output_type": "execute_result"
    }
   ],
   "source": [
    "def reverseString(string):\n",
    "    return string[::-1]\n",
    "\n",
    "reverseString('The Book')"
   ]
  },
  {
   "cell_type": "markdown",
   "id": "beb0e974",
   "metadata": {},
   "source": [
    "#### 2. Implement a function to check if a given string is a palindrome."
   ]
  },
  {
   "cell_type": "code",
   "execution_count": 10,
   "id": "d0d559a1",
   "metadata": {},
   "outputs": [
    {
     "data": {
      "text/plain": [
       "'Given String is Pallindrome'"
      ]
     },
     "execution_count": 10,
     "metadata": {},
     "output_type": "execute_result"
    }
   ],
   "source": [
    "def checkpallindrome(string):\n",
    "    if string[::-1].lower() == string.lower():\n",
    "        return \"Given String is Pallindrome\"\n",
    "    else:\n",
    "        return \"Given string is Nol Pallindrome\"\n",
    "\n",
    "checkpallindrome('TENET')"
   ]
  },
  {
   "cell_type": "markdown",
   "id": "e69b9fad",
   "metadata": {},
   "source": [
    "#### 3. Write a program to find the largest element in a given list."
   ]
  },
  {
   "cell_type": "code",
   "execution_count": 18,
   "id": "0528a835",
   "metadata": {},
   "outputs": [
    {
     "data": {
      "text/plain": [
       "8"
      ]
     },
     "execution_count": 18,
     "metadata": {},
     "output_type": "execute_result"
    }
   ],
   "source": [
    "def largestelement(nums):\n",
    "    if not nums:\n",
    "        return None\n",
    "    largest = nums[0]\n",
    "    for num in nums:\n",
    "        if num > largest:\n",
    "            largest = num\n",
    "    return largest\n",
    "\n",
    "largestelement([2,3,4,5,3,5,7,8])"
   ]
  },
  {
   "cell_type": "markdown",
   "id": "ccc518ed",
   "metadata": {},
   "source": [
    "#### 4. Implement a function to count the occurrence of each element in a list."
   ]
  },
  {
   "cell_type": "code",
   "execution_count": 21,
   "id": "bf755249",
   "metadata": {},
   "outputs": [
    {
     "data": {
      "text/plain": [
       "{3: 3, 1: 2, 2: 2, 4: 2}"
      ]
     },
     "execution_count": 21,
     "metadata": {},
     "output_type": "execute_result"
    }
   ],
   "source": [
    "def freqOfElelment(nums):\n",
    "    d = {}\n",
    "    for i in nums:\n",
    "        if i in d.keys():\n",
    "            d[i] +=1\n",
    "        else:\n",
    "            d[i] = 1\n",
    "    return d\n",
    "freqOfElelment([3,1,1,2,3,4,4,3,2])"
   ]
  },
  {
   "cell_type": "markdown",
   "id": "66e3e24e",
   "metadata": {},
   "source": [
    "#### 5. Write a Python program to find the second largest number in a list."
   ]
  },
  {
   "cell_type": "code",
   "execution_count": 22,
   "id": "f1a7fb03",
   "metadata": {},
   "outputs": [
    {
     "data": {
      "text/plain": [
       "8"
      ]
     },
     "execution_count": 22,
     "metadata": {},
     "output_type": "execute_result"
    }
   ],
   "source": [
    "def find_second_largest(nums):\n",
    "    if len(nums) < 2 :\n",
    "        return None\n",
    "    largest = float('-inf')\n",
    "    second_largest = float('-inf')\n",
    "    \n",
    "    for num in nums:\n",
    "        if num > largest:\n",
    "            second_largest = largest\n",
    "            largest = num\n",
    "        elif num > second_largest and num != largest:\n",
    "            second_largest = num\n",
    "    return second_largest\n",
    "\n",
    "nums = [5, 2, 8, 1, 9]\n",
    "find_second_largest(nums)"
   ]
  },
  {
   "cell_type": "markdown",
   "id": "029259e3",
   "metadata": {},
   "source": [
    "#### 6. Implement a function to remove duplicate elements from a list."
   ]
  },
  {
   "cell_type": "code",
   "execution_count": 24,
   "id": "232f82ca",
   "metadata": {},
   "outputs": [
    {
     "data": {
      "text/plain": [
       "[1, 2, 3, 4, 5]"
      ]
     },
     "execution_count": 24,
     "metadata": {},
     "output_type": "execute_result"
    }
   ],
   "source": [
    "def remove_duplicate(nums):\n",
    "    return list(set(nums))\n",
    "\n",
    "numbers = [1, 2, 3, 2, 4, 3, 5, 1]\n",
    "remove_duplicate(numbers)"
   ]
  },
  {
   "cell_type": "markdown",
   "id": "80d96f70",
   "metadata": {},
   "source": [
    "#### 7. Write a program to calculate the factorial of a given number."
   ]
  },
  {
   "cell_type": "code",
   "execution_count": 2,
   "id": "4c3d3d7e",
   "metadata": {},
   "outputs": [
    {
     "data": {
      "text/plain": [
       "24"
      ]
     },
     "execution_count": 2,
     "metadata": {},
     "output_type": "execute_result"
    }
   ],
   "source": [
    "def factorial(num):\n",
    "    if num < 0:\n",
    "        return None\n",
    "    elif num <= 1:\n",
    "        return 1\n",
    "    else:\n",
    "        return num * factorial(num-1)\n",
    "\n",
    "factorial(4)"
   ]
  },
  {
   "cell_type": "markdown",
   "id": "97c7a7fa",
   "metadata": {},
   "source": [
    "#### 8. Implement a function to check if a given number is prime."
   ]
  },
  {
   "cell_type": "code",
   "execution_count": 8,
   "id": "a994f010",
   "metadata": {},
   "outputs": [
    {
     "data": {
      "text/plain": [
       "True"
      ]
     },
     "execution_count": 8,
     "metadata": {},
     "output_type": "execute_result"
    }
   ],
   "source": [
    "def is_Prime(num):\n",
    "    if num <= 1:\n",
    "        return False\n",
    "    for i in range(2,int(num**0.5)+1):\n",
    "        if num % i == 0:\n",
    "            return False\n",
    "    return True\n",
    "\n",
    "is_Prime(7)"
   ]
  },
  {
   "cell_type": "markdown",
   "id": "91a67d97",
   "metadata": {},
   "source": [
    "#### 10. Implement a function to find the sum of all numbers in a list."
   ]
  },
  {
   "cell_type": "code",
   "execution_count": 11,
   "id": "aac534c2",
   "metadata": {},
   "outputs": [
    {
     "data": {
      "text/plain": [
       "15"
      ]
     },
     "execution_count": 11,
     "metadata": {},
     "output_type": "execute_result"
    }
   ],
   "source": [
    "def calculate_sum(lst):\n",
    "    total = 0\n",
    "    \n",
    "    for num in lst:\n",
    "        total += num\n",
    "    return total\n",
    "\n",
    "lst = [1, 2, 3, 4, 5]\n",
    "calculate_sum(lst)"
   ]
  },
  {
   "cell_type": "markdown",
   "id": "01cfd2c6",
   "metadata": {},
   "source": [
    "#### 11. Write a program to find the common elements between two lists."
   ]
  },
  {
   "cell_type": "code",
   "execution_count": 12,
   "id": "c082108a",
   "metadata": {},
   "outputs": [
    {
     "data": {
      "text/plain": [
       "[4, 5]"
      ]
     },
     "execution_count": 12,
     "metadata": {},
     "output_type": "execute_result"
    }
   ],
   "source": [
    "def find_common_elements(list1, list2):\n",
    "    set1 = set(list1)\n",
    "    common_elements = []\n",
    "    \n",
    "    for element in list2:\n",
    "        if element in set1:\n",
    "            common_elements.append(element)\n",
    "    return common_elements\n",
    "\n",
    "\n",
    "list1 = [1, 2, 3, 4, 5]\n",
    "list2 = [4, 5, 6, 7, 8]\n",
    "find_common_elements(list1, list2)"
   ]
  },
  {
   "cell_type": "markdown",
   "id": "6b5a97dc",
   "metadata": {},
   "source": [
    "#### 12. Implement a function to check if a given string is an anagram of another string."
   ]
  },
  {
   "cell_type": "code",
   "execution_count": 13,
   "id": "50ebabbd",
   "metadata": {},
   "outputs": [
    {
     "name": "stdout",
     "output_type": "stream",
     "text": [
      "listen and silent are anagrams.\n"
     ]
    }
   ],
   "source": [
    "## Two words are called anagrams if they have the same charaters, but in a different order\n",
    "def is_anagram(string1, string2):\n",
    "    if len(string1) != len(string2):\n",
    "        return False\n",
    "\n",
    "    char_count = {}\n",
    "\n",
    "    for char in string1:\n",
    "        if char in char_count:\n",
    "            char_count[char] += 1\n",
    "        else:\n",
    "            char_count[char] = 1\n",
    "\n",
    "    for char in string2:\n",
    "        if char in char_count:\n",
    "            char_count[char] -= 1\n",
    "            if char_count[char] == 0:\n",
    "                del char_count[char]\n",
    "        else:\n",
    "            return False\n",
    "\n",
    "    return len(char_count) == 0\n",
    "\n",
    "# Example usage:\n",
    "word1 = \"listen\"\n",
    "word2 = \"silent\"\n",
    "if is_anagram(word1, word2):\n",
    "    print(f\"{word1} and {word2} are anagrams.\")\n",
    "else:\n",
    "    print(f\"{word1} and {word2} are not anagrams.\")\n"
   ]
  },
  {
   "cell_type": "markdown",
   "id": "34ef9230",
   "metadata": {},
   "source": [
    "#### 13. Write a Python program to generate all permutations of a given string."
   ]
  },
  {
   "cell_type": "code",
   "execution_count": 18,
   "id": "c4ad21a5",
   "metadata": {},
   "outputs": [
    {
     "data": {
      "text/plain": [
       "['abc', 'acb', 'bac', 'bca', 'cab', 'cba']"
      ]
     },
     "execution_count": 18,
     "metadata": {},
     "output_type": "execute_result"
    }
   ],
   "source": [
    "def generate_permutations(string):\n",
    "    if len(string) ==1:\n",
    "        return [string]\n",
    "    permutations = []\n",
    "    \n",
    "    for i in range(len(string)):\n",
    "        first_char = string[i]\n",
    "        remaining_chars = string[:i] + string[i+1:]\n",
    "        sub_permutations = generate_permutations(remaining_chars)\n",
    "        \n",
    "        for sub_permutation in sub_permutations:\n",
    "            permutations.append(first_char + sub_permutation)\n",
    "    return permutations\n",
    "    \n",
    "generate_permutations('abc')\n",
    "        "
   ]
  },
  {
   "cell_type": "markdown",
   "id": "3c3e25d4",
   "metadata": {},
   "source": [
    "#### 14. Implement a function to calculate the Fibonacci sequence up to a given number of terms."
   ]
  },
  {
   "cell_type": "code",
   "execution_count": 28,
   "id": "b4834ae7",
   "metadata": {},
   "outputs": [
    {
     "name": "stdout",
     "output_type": "stream",
     "text": [
      "0\n",
      "1\n",
      "1\n",
      "2\n",
      "3\n",
      "5\n",
      "8\n",
      "13\n",
      "21\n",
      "34\n"
     ]
    }
   ],
   "source": [
    "def fibonacci(n):\n",
    "  if n<=1:\n",
    "    return n\n",
    "  else:\n",
    "    return fibonacci(n-1) + fibonacci(n-2)\n",
    "\n",
    "# Driver Code\n",
    "n = 10\n",
    "for i in range(n):\n",
    "  print(fibonacci(i))"
   ]
  },
  {
   "cell_type": "markdown",
   "id": "374df530",
   "metadata": {},
   "source": [
    "#### 15. Write a program to find the median of a list of numbers."
   ]
  },
  {
   "cell_type": "code",
   "execution_count": 30,
   "id": "3448a9d8",
   "metadata": {},
   "outputs": [
    {
     "name": "stdout",
     "output_type": "stream",
     "text": [
      "The median is: 4\n"
     ]
    }
   ],
   "source": [
    "def find_median(numbers):\n",
    "    numbers.sort()\n",
    "    length = len(numbers)\n",
    "\n",
    "    if length % 2 == 0:\n",
    "        mid1 = length // 2\n",
    "        mid2 = mid1 - 1\n",
    "        median = (numbers[mid1] + numbers[mid2]) / 2\n",
    "    else:\n",
    "        mid = length // 2\n",
    "        median = numbers[mid]\n",
    "\n",
    "    return median\n",
    "\n",
    "# Example usage:\n",
    "number_list = [4, 1, 9, 3, 5, 2,7]\n",
    "median_value = find_median(number_list)\n",
    "print(\"The median is:\", median_value)\n"
   ]
  },
  {
   "cell_type": "markdown",
   "id": "44e618aa",
   "metadata": {},
   "source": [
    "#### 16. Implement a function to check if a given list is sorted in non-decreasing order."
   ]
  },
  {
   "cell_type": "code",
   "execution_count": 31,
   "id": "243aa4f4",
   "metadata": {},
   "outputs": [
    {
     "name": "stdout",
     "output_type": "stream",
     "text": [
      "Is numbers1 sorted? True\n"
     ]
    }
   ],
   "source": [
    "def is_sorted(lst):\n",
    "    return all(lst[i] <= lst[i+1] for i in range(len(lst)-1))\n",
    "\n",
    "numbers1 = [1, 2, 3, 4, 5]\n",
    "print(\"Is numbers1 sorted?\", is_sorted(numbers1))"
   ]
  },
  {
   "cell_type": "markdown",
   "id": "2690732d",
   "metadata": {},
   "source": [
    "#### 17. Write a Python program to find the intersection of two lists."
   ]
  },
  {
   "cell_type": "code",
   "execution_count": 32,
   "id": "28919fc8",
   "metadata": {},
   "outputs": [
    {
     "data": {
      "text/plain": [
       "[4, 5]"
      ]
     },
     "execution_count": 32,
     "metadata": {},
     "output_type": "execute_result"
    }
   ],
   "source": [
    "def find_intersection(list1, list2):\n",
    "    return list(set(list1) & set(list2))\n",
    "\n",
    "list1 = [1, 2, 3, 4, 5]\n",
    "list2 = [4, 5, 6, 7, 8]\n",
    "find_intersection(list1, list2)"
   ]
  },
  {
   "cell_type": "markdown",
   "id": "c2d0eb59",
   "metadata": {},
   "source": [
    "#### 18. Implement a function to find the maximum subarray sum in a given list."
   ]
  },
  {
   "cell_type": "code",
   "execution_count": 33,
   "id": "fbb7808b",
   "metadata": {},
   "outputs": [
    {
     "name": "stdout",
     "output_type": "stream",
     "text": [
      "Maximum subarray sum: 7\n"
     ]
    }
   ],
   "source": [
    "def max_subarray_sum(lst):\n",
    "    if not lst:\n",
    "        return 0\n",
    "\n",
    "    current_sum = max_sum = lst[0]\n",
    "\n",
    "    for num in lst[1:]:\n",
    "        current_sum = max(num, current_sum + num)\n",
    "        max_sum = max(max_sum, current_sum)\n",
    "\n",
    "    return max_sum\n",
    "\n",
    "# Example usage:\n",
    "numbers = [-2, -5, 6, -2, -3, 1, 5, -6]\n",
    "max_sum = max_subarray_sum(numbers)\n",
    "print(\"Maximum subarray sum:\", max_sum)\n"
   ]
  },
  {
   "cell_type": "markdown",
   "id": "5b50c0b0",
   "metadata": {},
   "source": [
    "#### 19. Write a program to remove all vowels from a given string."
   ]
  },
  {
   "cell_type": "code",
   "execution_count": 44,
   "id": "195cf489",
   "metadata": {},
   "outputs": [
    {
     "data": {
      "text/plain": [
       "'Smr Sngh'"
      ]
     },
     "execution_count": 44,
     "metadata": {},
     "output_type": "execute_result"
    }
   ],
   "source": [
    "def removeVowels(string):\n",
    "    vowel =['a','e','i','o','u']\n",
    "    result = []\n",
    "    for i in string:\n",
    "        if i.lower() not in vowel:\n",
    "            result.append(i)\n",
    "    return ''.join(result)\n",
    "\n",
    "removeVowels('Samar Singh')"
   ]
  },
  {
   "cell_type": "markdown",
   "id": "fb625b1c",
   "metadata": {},
   "source": [
    "#### 20. Implement a function to reverse the order of words in a given sentence."
   ]
  },
  {
   "cell_type": "code",
   "execution_count": 46,
   "id": "e23eae8d",
   "metadata": {},
   "outputs": [
    {
     "data": {
      "text/plain": [
       "'sentence a is This'"
      ]
     },
     "execution_count": 46,
     "metadata": {},
     "output_type": "execute_result"
    }
   ],
   "source": [
    "def reverseWords(sentence):\n",
    "    words = sentence.split(\" \")\n",
    "    reversed_words = words[::-1]\n",
    "    reversed_sentence = \" \".join(reversed_words)\n",
    "    return reversed_sentence\n",
    "\n",
    "reverseWords('This is a sentence')"
   ]
  },
  {
   "cell_type": "markdown",
   "id": "1f26a390",
   "metadata": {},
   "source": [
    "#### 21. Write a Python program to check if two strings are anagrams of each other."
   ]
  },
  {
   "cell_type": "code",
   "execution_count": 47,
   "id": "a0cbfaf8",
   "metadata": {},
   "outputs": [
    {
     "name": "stdout",
     "output_type": "stream",
     "text": [
      "listen and silent are anagrams.\n"
     ]
    }
   ],
   "source": [
    "def is_anagram(string1, string2):\n",
    "    if len(string1) != len(string2):\n",
    "        return False\n",
    "\n",
    "    char_count = {}\n",
    "\n",
    "    for char in string1:\n",
    "        if char in char_count:\n",
    "            char_count[char] += 1\n",
    "        else:\n",
    "            char_count[char] = 1\n",
    "\n",
    "    for char in string2:\n",
    "        if char in char_count:\n",
    "            char_count[char] -= 1\n",
    "            if char_count[char] == 0:\n",
    "                del char_count[char]\n",
    "        else:\n",
    "            return False\n",
    "\n",
    "    return len(char_count) == 0\n",
    "\n",
    "# Example usage:\n",
    "word1 = \"listen\"\n",
    "word2 = \"silent\"\n",
    "if is_anagram(word1, word2):\n",
    "    print(f\"{word1} and {word2} are anagrams.\")\n",
    "else:\n",
    "    print(f\"{word1} and {word2} are not anagrams.\")\n"
   ]
  },
  {
   "cell_type": "markdown",
   "id": "d5b0b992",
   "metadata": {},
   "source": [
    "#### 22. Implement a function to find the first non-repeating character in a string."
   ]
  },
  {
   "cell_type": "code",
   "execution_count": 52,
   "id": "68308435",
   "metadata": {},
   "outputs": [
    {
     "data": {
      "text/plain": [
       "'s'"
      ]
     },
     "execution_count": 52,
     "metadata": {},
     "output_type": "execute_result"
    }
   ],
   "source": [
    "def first_non_repeating_character(string):\n",
    "    char_counts = {}\n",
    "    for char in string:\n",
    "        if char in char_counts:\n",
    "            char_counts[char] += 1\n",
    "        else:\n",
    "            char_counts[char] = 1\n",
    "    for char in string:\n",
    "        if char_counts[char] == 1:\n",
    "            return char\n",
    "    return None\n",
    "\n",
    "first_non_repeating_character('samar')"
   ]
  },
  {
   "cell_type": "markdown",
   "id": "7d365e81",
   "metadata": {},
   "source": [
    "#### 23. Write a program to find the prime factors of a given number."
   ]
  },
  {
   "cell_type": "code",
   "execution_count": 3,
   "id": "6e603ee9",
   "metadata": {},
   "outputs": [
    {
     "data": {
      "text/plain": [
       "[2, 2, 3]"
      ]
     },
     "execution_count": 3,
     "metadata": {},
     "output_type": "execute_result"
    }
   ],
   "source": [
    "def prime_factors(num):\n",
    "    factors = []\n",
    "    for i in range(2, num + 1):\n",
    "        while num % i == 0:\n",
    "            factors.append(i)\n",
    "            num //= i\n",
    "\n",
    "    return factors\n",
    "number = 12\n",
    "prime_factors(number)"
   ]
  },
  {
   "cell_type": "markdown",
   "id": "d47dfc4e",
   "metadata": {},
   "source": [
    "#### 24. Implement a function to check if a given number is a power of two."
   ]
  },
  {
   "cell_type": "code",
   "execution_count": 11,
   "id": "84b2e120",
   "metadata": {},
   "outputs": [
    {
     "data": {
      "text/plain": [
       "True"
      ]
     },
     "execution_count": 11,
     "metadata": {},
     "output_type": "execute_result"
    }
   ],
   "source": [
    "def is_power_of_two(num):\n",
    "    if num <= 0:\n",
    "        return False\n",
    "    while num % 2 == 0:\n",
    "        num //= 2\n",
    "    return num == 1\n",
    "\n",
    "is_power_of_two(8)"
   ]
  },
  {
   "cell_type": "markdown",
   "id": "a9de4c54",
   "metadata": {},
   "source": [
    "#### 25. Write a Python program to merge two sorted lists into a single sorted list."
   ]
  },
  {
   "cell_type": "code",
   "execution_count": 17,
   "id": "b8150eca",
   "metadata": {},
   "outputs": [
    {
     "data": {
      "text/plain": [
       "[1, 2, 3, 4, 5, 6, 7, 8, 9, 10]"
      ]
     },
     "execution_count": 17,
     "metadata": {},
     "output_type": "execute_result"
    }
   ],
   "source": [
    "def merge_sorted_lists(list1, list2):\n",
    "    merged_list = []\n",
    "    i = 0\n",
    "    j = 0\n",
    "    while i < len(list1) and j < len(list2):\n",
    "        if list1[i] <= list2[j]:\n",
    "            merged_list.append(list1[i])\n",
    "            i += 1\n",
    "        else:\n",
    "            merged_list.append(list2[j])\n",
    "            j +=1\n",
    "    merged_list += list1[i:]\n",
    "    merged_list += list2[j:]\n",
    "    \n",
    "    return merged_list\n",
    "\n",
    "list1 = [1, 3, 5, 7, 9]\n",
    "list2 = [2, 4, 6, 8, 10]\n",
    "merge_sorted_lists(list1, list2)\n"
   ]
  },
  {
   "cell_type": "markdown",
   "id": "0806cd11",
   "metadata": {},
   "source": [
    "#### 26. Implement a function to find the mode of a list of numbers."
   ]
  },
  {
   "cell_type": "code",
   "execution_count": 22,
   "id": "0d19c570",
   "metadata": {},
   "outputs": [
    {
     "data": {
      "text/plain": [
       "5"
      ]
     },
     "execution_count": 22,
     "metadata": {},
     "output_type": "execute_result"
    }
   ],
   "source": [
    "def mode(numbers):\n",
    "    if not numbers:\n",
    "        return None\n",
    "    \n",
    "    mode_count = 0\n",
    "    model_number = numbers[0]\n",
    "    for num in numbers:\n",
    "        count = numbers.count(num)\n",
    "        if count > mode_count:\n",
    "            mode_count = count \n",
    "            mode_number = num\n",
    "    return mode_number\n",
    "\n",
    "\n",
    "numbers = [1, 2, 3, 3, 3, 4, 5, 5, 5, 5]\n",
    "mode(numbers)"
   ]
  },
  {
   "cell_type": "markdown",
   "id": "433d81e8",
   "metadata": {},
   "source": [
    "#### 27. Write a program to find the greatest common divisor (GCD) of two numbers."
   ]
  },
  {
   "cell_type": "code",
   "execution_count": 23,
   "id": "8b0661b1",
   "metadata": {},
   "outputs": [
    {
     "data": {
      "text/plain": [
       "6"
      ]
     },
     "execution_count": 23,
     "metadata": {},
     "output_type": "execute_result"
    }
   ],
   "source": [
    "def GCD(num1, num2):\n",
    "    if number1 < number2:\n",
    "        smaller_number = number1\n",
    "        larger_number = number2\n",
    "    else:\n",
    "        smaller_number = number2\n",
    "        larger_number = number1\n",
    "\n",
    "    while smaller_number != 0:\n",
    "        remainder = larger_number % smaller_number\n",
    "        larger_number = smaller_number\n",
    "        smaller_number = remainder\n",
    "\n",
    "    return larger_number\n",
    "\n",
    "number1 = 12\n",
    "number2 = 18\n",
    "GCD(number1, number2)"
   ]
  },
  {
   "cell_type": "markdown",
   "id": "9c68cd66",
   "metadata": {},
   "source": [
    "#### 28. Implement a function to calculate the square root of a given number."
   ]
  },
  {
   "cell_type": "code",
   "execution_count": 28,
   "id": "7a3932d3",
   "metadata": {},
   "outputs": [
    {
     "data": {
      "text/plain": [
       "3"
      ]
     },
     "execution_count": 28,
     "metadata": {},
     "output_type": "execute_result"
    }
   ],
   "source": [
    "def square_root(number):\n",
    "    if number < 0:\n",
    "        return \"Cannot calculate the square root of negetive number\"\n",
    "    low = 0\n",
    "    high  = number \n",
    "    mid = 0\n",
    "    while low <=high:\n",
    "        mid = (low + high) // 2\n",
    "        if mid * mid == number:\n",
    "            return mid\n",
    "        elif mid * mid < number:\n",
    "            low = mid + 1\n",
    "        else:\n",
    "            high = mid - 1\n",
    "    return mid \n",
    "\n",
    "number = 9\n",
    "square_root(number)\n",
    "            \n",
    "    "
   ]
  },
  {
   "cell_type": "markdown",
   "id": "eeaa2ee6",
   "metadata": {},
   "source": [
    "#### 29. Write a Python program to check if a given string is a valid palindrome ignoring non-alphanumeric characters."
   ]
  },
  {
   "cell_type": "code",
   "execution_count": 33,
   "id": "5b52d258",
   "metadata": {},
   "outputs": [
    {
     "data": {
      "text/plain": [
       "True"
      ]
     },
     "execution_count": 33,
     "metadata": {},
     "output_type": "execute_result"
    }
   ],
   "source": [
    "import re \n",
    "def is_palindrome(string):\n",
    "    filtered_string = re.sub(r\"[^a-zA-Z0-9]\",\"\", string)\n",
    "    reversed_string = filtered_string[::-1]\n",
    "    return filtered_string == reversed_string\n",
    "\n",
    "string = \"te$et\"\n",
    "is_palindrome(string)"
   ]
  },
  {
   "cell_type": "markdown",
   "id": "fd4d32e8",
   "metadata": {},
   "source": [
    "#### 30. Implement a function to find the minimum element in a rotated sorted list."
   ]
  },
  {
   "cell_type": "code",
   "execution_count": 43,
   "id": "b06a2444",
   "metadata": {},
   "outputs": [
    {
     "data": {
      "text/plain": [
       "1"
      ]
     },
     "execution_count": 43,
     "metadata": {},
     "output_type": "execute_result"
    }
   ],
   "source": [
    "def findMin(arr):\n",
    "    N = len(arr)\n",
    "    min_ele = arr[0]\n",
    "    # Traversing over array to\n",
    "    # find minimum element\n",
    "    for i in range(N) :\n",
    "        if arr[i] < min_ele :\n",
    "            min_ele = arr[i]\n",
    " \n",
    "    return min_ele\n",
    " \n",
    "\n",
    "arr = [5, 6, 1, 2, 3, 4]\n",
    "findMin(arr)"
   ]
  },
  {
   "cell_type": "markdown",
   "id": "6cc754de",
   "metadata": {},
   "source": [
    "#### 31. Write a program to find the sum of all even numbers in a list."
   ]
  },
  {
   "cell_type": "code",
   "execution_count": 50,
   "id": "2db2b92f",
   "metadata": {},
   "outputs": [
    {
     "data": {
      "text/plain": [
       "8"
      ]
     },
     "execution_count": 50,
     "metadata": {},
     "output_type": "execute_result"
    }
   ],
   "source": [
    "def sum_of_even_number(lst):\n",
    "    total = 0\n",
    "    for i in lst:\n",
    "        if i %2 ==0:\n",
    "            total += i\n",
    "    return total\n",
    "\n",
    "\n",
    "lst = [2,3,5,6]\n",
    "sum_of_even_number(lst)"
   ]
  },
  {
   "cell_type": "markdown",
   "id": "fc826800",
   "metadata": {},
   "source": [
    "#### 32. Implement a function to calculate the power of a number using recursion."
   ]
  },
  {
   "cell_type": "code",
   "execution_count": 1,
   "id": "85cbe234",
   "metadata": {},
   "outputs": [
    {
     "name": "stdout",
     "output_type": "stream",
     "text": [
      "8\n"
     ]
    }
   ],
   "source": [
    "def power(base, exponent):\n",
    "    if exponent == 0:\n",
    "        return 1\n",
    "    else:\n",
    "        return base * power(base, exponent-1)\n",
    "    \n",
    "result = power(2, 3)\n",
    "print(result)  "
   ]
  },
  {
   "cell_type": "markdown",
   "id": "2a4802e6",
   "metadata": {},
   "source": [
    "#### 33. Write a Python program to remove duplicates from a list while preserving the order."
   ]
  },
  {
   "cell_type": "code",
   "execution_count": 2,
   "id": "8368a5bb",
   "metadata": {},
   "outputs": [
    {
     "name": "stdout",
     "output_type": "stream",
     "text": [
      "[3, 7, 2, 9, 8, 1]\n"
     ]
    }
   ],
   "source": [
    "def remove_duplicates(lst):\n",
    "    seen = set()\n",
    "    result = []\n",
    "    for item in lst:\n",
    "        if item not in seen:\n",
    "            result.append(item)\n",
    "            seen.add(item)\n",
    "    return result\n",
    "\n",
    "# Example usage\n",
    "my_list = [3, 7, 2, 9, 2, 7, 3, 8, 1]\n",
    "new_list = remove_duplicates(my_list)\n",
    "print(new_list)"
   ]
  },
  {
   "cell_type": "markdown",
   "id": "633d088d",
   "metadata": {},
   "source": [
    "#### 34. Implement a function to find the longest common prefix among a list of strings."
   ]
  },
  {
   "cell_type": "code",
   "execution_count": 6,
   "id": "c0e544c3",
   "metadata": {},
   "outputs": [
    {
     "data": {
      "text/plain": [
       "'fl'"
      ]
     },
     "execution_count": 6,
     "metadata": {},
     "output_type": "execute_result"
    }
   ],
   "source": [
    "def longest_common_prefix(strs):\n",
    "    if not strs:\n",
    "        return \"\"\n",
    "    min_len = min(len(s) for s in strs)\n",
    "    \n",
    "    for i in range(min_len):\n",
    "        char = strs[0][i]\n",
    "        if all(s[i] == char for s in strs):\n",
    "            continue\n",
    "        else:\n",
    "            return strs[0][:i]\n",
    "    return strs[0][:min_len]\n",
    "\n",
    "\n",
    "words = [\"flower\", \"flow\", \"flight\"]\n",
    "longest_common_prefix(words)"
   ]
  },
  {
   "cell_type": "markdown",
   "id": "e0e8dc04",
   "metadata": {},
   "source": [
    "#### 35. Write a program to check if a given number is a perfect square."
   ]
  },
  {
   "cell_type": "code",
   "execution_count": 9,
   "id": "71252688",
   "metadata": {},
   "outputs": [
    {
     "data": {
      "text/plain": [
       "True"
      ]
     },
     "execution_count": 9,
     "metadata": {},
     "output_type": "execute_result"
    }
   ],
   "source": [
    "import math \n",
    "\n",
    "def is_perfect_square(num):\n",
    "    square_root = math.sqrt(num)\n",
    "    return square_root == int(square_root)\n",
    "\n",
    "num = 16\n",
    "is_perfect_square(num)"
   ]
  },
  {
   "cell_type": "markdown",
   "id": "c472512c",
   "metadata": {},
   "source": [
    "#### 36. Implement a function to calculate the product of all elements in a list."
   ]
  },
  {
   "cell_type": "code",
   "execution_count": 10,
   "id": "0ada2410",
   "metadata": {},
   "outputs": [
    {
     "data": {
      "text/plain": [
       "24"
      ]
     },
     "execution_count": 10,
     "metadata": {},
     "output_type": "execute_result"
    }
   ],
   "source": [
    "def product_of_elements(lst):\n",
    "    if len(lst) ==0:\n",
    "        return 0\n",
    "    product = 1\n",
    "    for i in lst:\n",
    "        product *= i\n",
    "    return product\n",
    "\n",
    "product_of_elements([2,3,4])"
   ]
  },
  {
   "cell_type": "markdown",
   "id": "9875ec2c",
   "metadata": {},
   "source": [
    "#### 37. Write a Python program to reverse the order of words in a sentence while preserving the word order."
   ]
  },
  {
   "cell_type": "code",
   "execution_count": 20,
   "id": "d8c4d818",
   "metadata": {},
   "outputs": [
    {
     "data": {
      "text/plain": [
       "'today? you are how Hello,'"
      ]
     },
     "execution_count": 20,
     "metadata": {},
     "output_type": "execute_result"
    }
   ],
   "source": [
    "def reverse_sentence(sentence):\n",
    "    words = sentence.split()\n",
    "    reversed_words = words[::-1]\n",
    "    reversed_sentence = \" \".join(reversed_words)\n",
    "    return reversed_sentence\n",
    "sentence = \"Hello, how are you today?\"\n",
    "reverse_sentence(sentence)"
   ]
  },
  {
   "cell_type": "markdown",
   "id": "485dbf3e",
   "metadata": {},
   "source": [
    "#### 38. Implement a function to find the missing number in a given list of consecutive numbers."
   ]
  },
  {
   "cell_type": "code",
   "execution_count": 28,
   "id": "63376637",
   "metadata": {},
   "outputs": [
    {
     "data": {
      "text/plain": [
       "6"
      ]
     },
     "execution_count": 28,
     "metadata": {},
     "output_type": "execute_result"
    }
   ],
   "source": [
    "def missing_num(lst):\n",
    "    if len(lst) ==0:\n",
    "        return 0\n",
    "    \n",
    "    for i in lst:\n",
    "        if lst[i+1] -lst[i] !=1:\n",
    "            return lst[i]+1\n",
    "                       \n",
    "lst =[1,2,3,4,5,7]\n",
    "missing_num(lst)"
   ]
  },
  {
   "cell_type": "markdown",
   "id": "0eaaa448",
   "metadata": {},
   "source": [
    "#### 39. Write a program to find the sum of digits of a given number."
   ]
  },
  {
   "cell_type": "code",
   "execution_count": 31,
   "id": "9e624daa",
   "metadata": {},
   "outputs": [
    {
     "data": {
      "text/plain": [
       "15"
      ]
     },
     "execution_count": 31,
     "metadata": {},
     "output_type": "execute_result"
    }
   ],
   "source": [
    "def sum_of_digits(nums):\n",
    "    sum = 0\n",
    "    while nums > 0:\n",
    "        digit = nums % 10\n",
    "        sum +=digit\n",
    "        nums //=10\n",
    "    return sum\n",
    "number = 12345\n",
    "sum_of_digits(number)"
   ]
  },
  {
   "cell_type": "markdown",
   "id": "9b253111",
   "metadata": {},
   "source": [
    "#### 40. Implement a function to check if a given string is a valid palindrome considering case sensitivity."
   ]
  },
  {
   "cell_type": "code",
   "execution_count": 58,
   "id": "fe09bb78",
   "metadata": {},
   "outputs": [
    {
     "data": {
      "text/plain": [
       "True"
      ]
     },
     "execution_count": 58,
     "metadata": {},
     "output_type": "execute_result"
    }
   ],
   "source": [
    "def is_palindrome(s):\n",
    "    return s.lower() == s.lower()[::-1]\n",
    "\n",
    "string = \"Madam\"\n",
    "is_palindrome(string)"
   ]
  },
  {
   "cell_type": "markdown",
   "id": "6d6ecb22",
   "metadata": {},
   "source": [
    "#### 41. Write a Python program to find the smallest missing positive integer in a list."
   ]
  },
  {
   "cell_type": "code",
   "execution_count": 66,
   "id": "d706197c",
   "metadata": {},
   "outputs": [
    {
     "name": "stdout",
     "output_type": "stream",
     "text": [
      "{1, 3, 4}\n"
     ]
    },
    {
     "data": {
      "text/plain": [
       "2"
      ]
     },
     "execution_count": 66,
     "metadata": {},
     "output_type": "execute_result"
    }
   ],
   "source": [
    "def find_smallest_missing_positive(nums):\n",
    "    positive_nums = set(num for num in nums if num > 0)\n",
    "    print(positive_nums)\n",
    "    smallest_missing = 1\n",
    "    while smallest_missing in positive_nums:\n",
    "        smallest_missing += 1\n",
    "\n",
    "    return smallest_missing\n",
    "\n",
    "my_list = [3, 0, 1, -2, 4]\n",
    "find_smallest_missing_positive(my_list)\n"
   ]
  },
  {
   "cell_type": "markdown",
   "id": "adcef7d8",
   "metadata": {},
   "source": [
    "#### 42. Implement a function to find the longest palindrome substring in a given string."
   ]
  },
  {
   "cell_type": "code",
   "execution_count": 69,
   "id": "5d867106",
   "metadata": {},
   "outputs": [
    {
     "data": {
      "text/plain": [
       "'aba'"
      ]
     },
     "execution_count": 69,
     "metadata": {},
     "output_type": "execute_result"
    }
   ],
   "source": [
    "def longest_palindrome_substring(s):\n",
    "    n = len(s)\n",
    "    longest_palindrome = \"\"\n",
    "\n",
    "    table = [[False] * n for _ in range(n)]\n",
    "\n",
    "    for i in range(n):\n",
    "        table[i][i] = True\n",
    "        longest_palindrome = s[i]\n",
    "\n",
    "    for i in range(n - 1):\n",
    "        if s[i] == s[i + 1]:\n",
    "            table[i][i + 1] = True\n",
    "            longest_palindrome = s[i:i + 2]\n",
    "\n",
    "    for length in range(3, n + 1):\n",
    "        for i in range(n - length + 1):\n",
    "            j = i + length - 1\n",
    "            if s[i] == s[j] and table[i + 1][j - 1]:\n",
    "                table[i][j] = True\n",
    "                longest_palindrome = s[i:j + 1]\n",
    "\n",
    "    return longest_palindrome\n",
    "\n",
    "# Example usage\n",
    "string = \"aabad\"\n",
    "longest_palindrome_substring(string)\n",
    "\n"
   ]
  },
  {
   "cell_type": "markdown",
   "id": "ce7c1102",
   "metadata": {},
   "source": [
    "#### 43. Write a program to find the number of occurrences of a given element in a list."
   ]
  },
  {
   "cell_type": "code",
   "execution_count": 70,
   "id": "dbed676b",
   "metadata": {},
   "outputs": [
    {
     "data": {
      "text/plain": [
       "4"
      ]
     },
     "execution_count": 70,
     "metadata": {},
     "output_type": "execute_result"
    }
   ],
   "source": [
    "def count_occurrences(lst, element):\n",
    "    count = 0\n",
    "    for item in lst:\n",
    "        if item == element:\n",
    "            count += 1\n",
    "    return count\n",
    "\n",
    "my_list = [1, 2, 3, 4, 2, 2, 5, 2]\n",
    "element = 2\n",
    "count_occurrences(my_list, element)"
   ]
  },
  {
   "cell_type": "markdown",
   "id": "4ed28eb7",
   "metadata": {},
   "source": [
    "#### 44. Implement a function to check if a given number is a perfect number."
   ]
  },
  {
   "cell_type": "code",
   "execution_count": 71,
   "id": "b99ff838",
   "metadata": {},
   "outputs": [
    {
     "data": {
      "text/plain": [
       "True"
      ]
     },
     "execution_count": 71,
     "metadata": {},
     "output_type": "execute_result"
    }
   ],
   "source": [
    "def is_perfect_number(num):\n",
    "    if num <= 0:\n",
    "        return False\n",
    "\n",
    "    divisor_sum = sum(i for i in range(1, num) if num % i == 0)\n",
    "\n",
    "    return divisor_sum == num\n",
    "\n",
    "number = 28\n",
    "is_perfect_number(number)\n",
    "    \n"
   ]
  },
  {
   "cell_type": "markdown",
   "id": "00238ab0",
   "metadata": {},
   "source": [
    "#### 45. Write a Python program to remove all duplicates from a string."
   ]
  },
  {
   "cell_type": "code",
   "execution_count": 74,
   "id": "7c74c907",
   "metadata": {},
   "outputs": [
    {
     "data": {
      "text/plain": [
       "'Helo, Wrd!'"
      ]
     },
     "execution_count": 74,
     "metadata": {},
     "output_type": "execute_result"
    }
   ],
   "source": [
    "def remove_duplicates(string):\n",
    "    seen = set()\n",
    "    result = []\n",
    "    for char in string:\n",
    "        if char not in seen:\n",
    "            result.append(char)\n",
    "            seen.add(char)\n",
    "    return ''.join(result)\n",
    "\n",
    "input_string = \"Hello, World!\"\n",
    "remove_duplicates(input_string)"
   ]
  },
  {
   "cell_type": "markdown",
   "id": "9648b6db",
   "metadata": {},
   "source": [
    "#### 46. Implement a function to find the first missing positive"
   ]
  },
  {
   "cell_type": "code",
   "execution_count": 75,
   "id": "deceec71",
   "metadata": {},
   "outputs": [
    {
     "data": {
      "text/plain": [
       "2"
      ]
     },
     "execution_count": 75,
     "metadata": {},
     "output_type": "execute_result"
    }
   ],
   "source": [
    "def find_first_missing_positive(nums):\n",
    "    nums = [num for num in nums if num > 0]\n",
    "\n",
    "    num_set = set(nums)\n",
    "    i = 1\n",
    "    while i in num_set:\n",
    "        i += 1\n",
    "\n",
    "    return i\n",
    "\n",
    "my_list = [3, 4, -1, 1]\n",
    "find_first_missing_positive(my_list)"
   ]
  }
 ],
 "metadata": {
  "kernelspec": {
   "display_name": "Python 3 (ipykernel)",
   "language": "python",
   "name": "python3"
  },
  "language_info": {
   "codemirror_mode": {
    "name": "ipython",
    "version": 3
   },
   "file_extension": ".py",
   "mimetype": "text/x-python",
   "name": "python",
   "nbconvert_exporter": "python",
   "pygments_lexer": "ipython3",
   "version": "3.9.7"
  }
 },
 "nbformat": 4,
 "nbformat_minor": 5
}
