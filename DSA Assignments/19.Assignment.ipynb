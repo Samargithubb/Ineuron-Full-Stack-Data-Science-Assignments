{
  "nbformat": 4,
  "nbformat_minor": 0,
  "metadata": {
    "colab": {
      "provenance": []
    },
    "kernelspec": {
      "name": "python3",
      "display_name": "Python 3"
    },
    "language_info": {
      "name": "python"
    }
  },
  "cells": [
    {
      "cell_type": "markdown",
      "source": [
        "<aside>\n",
        "💡 1. **Merge k Sorted Lists**\n",
        "\n",
        "You are given an array of `k` linked-lists `lists`, each linked-list is sorted in ascending order.\n",
        "\n",
        "*Merge all the linked-lists into one sorted linked-list and return it.*\n",
        "\n",
        "**Example 1:**\n",
        "\n",
        "```\n",
        "Input: lists = [[1,4,5],[1,3,4],[2,6]]\n",
        "Output: [1,1,2,3,4,4,5,6]\n",
        "Explanation: The linked-lists are:\n",
        "[\n",
        "  1->4->5,\n",
        "  1->3->4,\n",
        "  2->6\n",
        "]\n",
        "merging them into one sorted list:\n",
        "1->1->2->3->4->4->5->6\n",
        "\n",
        "```\n",
        "\n",
        "**Example 2:**\n",
        "\n",
        "```\n",
        "Input: lists = []\n",
        "Output: []\n",
        "\n",
        "```\n",
        "\n",
        "**Example 3:**\n",
        "\n",
        "```\n",
        "Input: lists = [[]]\n",
        "Output: []\n",
        "\n",
        "```\n",
        "\n",
        "**Constraints:**\n",
        "\n",
        "- `k == lists.length`\n",
        "- `0 <= k <= 10000`\n",
        "- `0 <= lists[i].length <= 500`\n",
        "- `-10000 <= lists[i][j] <= 10000`\n",
        "- `lists[i]` is sorted in **ascending order**.\n",
        "- The sum of `lists[i].length` will not exceed `10000`.\n",
        "</aside>"
      ],
      "metadata": {
        "id": "ThrzEfcjQGc2"
      }
    },
    {
      "cell_type": "code",
      "source": [
        "import heapq\n",
        "\n",
        "class ListNode:\n",
        "    def __init__(self, val=0, next=None):\n",
        "        self.val = val\n",
        "        self.next = next\n",
        "\n",
        "    # Define comparison methods for ListNode\n",
        "    def __lt__(self, other):\n",
        "        return self.val < other.val\n",
        "\n",
        "    def __eq__(self, other):\n",
        "        return self.val == other.val\n",
        "\n",
        "def merge_k_lists(lists):\n",
        "    heap = []\n",
        "    for head in lists:\n",
        "        if head:\n",
        "            heapq.heappush(heap, head)\n",
        "\n",
        "    dummy = ListNode()\n",
        "    curr = dummy\n",
        "\n",
        "    while heap:\n",
        "        node = heapq.heappop(heap)\n",
        "        curr.next = node\n",
        "        curr = curr.next\n",
        "\n",
        "        if node.next:\n",
        "            heapq.heappush(heap, node.next)\n",
        "\n",
        "    return dummy.next\n",
        "\n",
        "# Helper function to convert a list to a linked list\n",
        "def array_to_linked_list(arr):\n",
        "    dummy = ListNode()\n",
        "    curr = dummy\n",
        "\n",
        "    for num in arr:\n",
        "        curr.next = ListNode(num)\n",
        "        curr = curr.next\n",
        "\n",
        "    return dummy.next\n",
        "\n",
        "# Helper function to convert a linked list to a list\n",
        "def linked_list_to_array(head):\n",
        "    arr = []\n",
        "    curr = head\n",
        "\n",
        "    while curr:\n",
        "        arr.append(curr.val)\n",
        "        curr = curr.next\n",
        "\n",
        "    return arr\n",
        "\n",
        "lists1 = [array_to_linked_list([1, 4, 5]), array_to_linked_list([1, 3, 4]), array_to_linked_list([2, 6])]\n",
        "merged1 = merge_k_lists(lists1)\n",
        "print(linked_list_to_array(merged1))\n",
        "\n",
        "lists2 = []\n",
        "merged2 = merge_k_lists(lists2)\n",
        "print(linked_list_to_array(merged2))\n",
        "\n",
        "lists3 = [[]]\n",
        "merged3 = merge_k_lists(lists3)\n",
        "print(linked_list_to_array(merged3))\n",
        "\n"
      ],
      "metadata": {
        "colab": {
          "base_uri": "https://localhost:8080/"
        },
        "id": "GvDguv4qQMUR",
        "outputId": "87f9170c-d1b2-4c48-b9b2-b979c100a6f3"
      },
      "execution_count": 13,
      "outputs": [
        {
          "output_type": "stream",
          "name": "stdout",
          "text": [
            "[1, 1, 2, 3, 4, 4, 5, 6]\n",
            "[]\n",
            "[]\n"
          ]
        }
      ]
    },
    {
      "cell_type": "markdown",
      "source": [
        "<aside>\n",
        "💡 2. **Count of Smaller Numbers After Self**\n",
        "\n",
        "Given an integer array `nums`, return *an integer array* `counts` *where* `counts[i]` *is the number of smaller elements to the right of* `nums[i]`.\n",
        "\n",
        "**Example 1:**\n",
        "\n",
        "```\n",
        "Input: nums = [5,2,6,1]\n",
        "Output: [2,1,1,0]\n",
        "Explanation:\n",
        "To the right of 5 there are2 smaller elements (2 and 1).\n",
        "To the right of 2 there is only1 smaller element (1).\n",
        "To the right of 6 there is1 smaller element (1).\n",
        "To the right of 1 there is0 smaller element.\n",
        "\n",
        "```\n",
        "\n",
        "**Example 2:**\n",
        "\n",
        "```\n",
        "Input: nums = [-1]\n",
        "Output: [0]\n",
        "\n",
        "```\n",
        "\n",
        "**Example 3:**\n",
        "\n",
        "```\n",
        "Input: nums = [-1,-1]\n",
        "Output: [0,0]\n",
        "\n",
        "```\n",
        "\n",
        "**Constraints:**\n",
        "\n",
        "- `1 <= nums.length <= 100000`\n",
        "- `-10000 <= nums[i] <= 10000`\n",
        "</aside>"
      ],
      "metadata": {
        "id": "7pzK9xgzQ3iV"
      }
    },
    {
      "cell_type": "code",
      "source": [
        "def count_smaller(nums):\n",
        "    result = [0] * len(nums)\n",
        "    pairs = [(nums[i], i) for i in range(len(nums))]\n",
        "\n",
        "    def merge_sort(arr, start, end):\n",
        "        if end - start < 2:\n",
        "            return\n",
        "\n",
        "        mid = (start + end) // 2\n",
        "        merge_sort(arr, start, mid)\n",
        "        merge_sort(arr, mid, end)\n",
        "\n",
        "        merged = []\n",
        "        i = start\n",
        "        j = mid\n",
        "\n",
        "        while i < mid and j < end:\n",
        "            if arr[i][0] <= arr[j][0]:\n",
        "                merged.append(arr[i])\n",
        "                result[arr[i][1]] += j - mid\n",
        "                i += 1\n",
        "            else:\n",
        "                merged.append(arr[j])\n",
        "                j += 1\n",
        "\n",
        "        while i < mid:\n",
        "            merged.append(arr[i])\n",
        "            result[arr[i][1]] += j - mid\n",
        "            i += 1\n",
        "\n",
        "        while j < end:\n",
        "            merged.append(arr[j])\n",
        "            j += 1\n",
        "\n",
        "        arr[start:end] = merged\n",
        "\n",
        "    merge_sort(pairs, 0, len(pairs))\n",
        "    return result\n",
        "\n",
        "nums1 = [5, 2, 6, 1]\n",
        "print(count_smaller(nums1))\n",
        "\n",
        "nums2 = [-1]\n",
        "print(count_smaller(nums2))\n",
        "\n",
        "nums3 = [-1, -1]\n",
        "print(count_smaller(nums3))\n"
      ],
      "metadata": {
        "colab": {
          "base_uri": "https://localhost:8080/"
        },
        "id": "bO1LKrEOQaws",
        "outputId": "58f990e6-7f66-47b8-e9d1-eed99a997663"
      },
      "execution_count": 15,
      "outputs": [
        {
          "output_type": "stream",
          "name": "stdout",
          "text": [
            "[2, 1, 1, 0]\n",
            "[0]\n",
            "[0, 0]\n"
          ]
        }
      ]
    },
    {
      "cell_type": "markdown",
      "source": [
        "3. **Sort an Array**\n",
        "\n",
        "Given an array of integers `nums`, sort the array in ascending order and return it.\n",
        "\n",
        "You must solve the problem **without using any built-in** functions in `O(nlog(n))` time complexity and with the smallest space complexity possible.\n",
        "\n",
        "**Example 1:**\n",
        "\n",
        "```\n",
        "Input: nums = [5,2,3,1]\n",
        "Output: [1,2,3,5]\n",
        "Explanation: After sorting the array, the positions of some numbers are not changed (for example, 2 and 3), while the positions of other numbers are changed (for example, 1 and 5).\n",
        "\n",
        "```\n",
        "\n",
        "**Example 2:**\n",
        "\n",
        "```\n",
        "Input: nums = [5,1,1,2,0,0]\n",
        "Output: [0,0,1,1,2,5]\n",
        "Explanation: Note that the values of nums are not necessairly unique.\n",
        "\n",
        "```\n",
        "\n",
        "**Constraints:**\n",
        "\n",
        "- `1 <= nums.length <= 5 * 10000`\n",
        "- `-5 * 104 <= nums[i] <= 5 * 10000`\n"
      ],
      "metadata": {
        "id": "yaS7owxkRJMb"
      }
    },
    {
      "cell_type": "code",
      "source": [
        "def sort_array(nums):\n",
        "    def merge_sort(arr, start, end):\n",
        "        if end - start < 2:\n",
        "            return arr[start:end]\n",
        "\n",
        "        mid = (start + end) // 2\n",
        "        left = merge_sort(arr, start, mid)\n",
        "        right = merge_sort(arr, mid, end)\n",
        "\n",
        "        merged = []\n",
        "        i = j = 0\n",
        "\n",
        "        while i < len(left) and j < len(right):\n",
        "            if left[i] <= right[j]:\n",
        "                merged.append(left[i])\n",
        "                i += 1\n",
        "            else:\n",
        "                merged.append(right[j])\n",
        "                j += 1\n",
        "\n",
        "        merged.extend(left[i:])\n",
        "        merged.extend(right[j:])\n",
        "\n",
        "        arr[start:end] = merged\n",
        "        return arr[start:end]\n",
        "\n",
        "    return merge_sort(nums, 0, len(nums))\n",
        "\n",
        "nums1 = [5, 2, 3, 1]\n",
        "print(sort_array(nums1))\n",
        "\n",
        "nums2 = [5, 1, 1, 2, 0, 0]\n",
        "print(sort_array(nums2))\n"
      ],
      "metadata": {
        "colab": {
          "base_uri": "https://localhost:8080/"
        },
        "id": "QTxbxX32Q6lV",
        "outputId": "43e8075a-d029-475a-d270-5291207a042c"
      },
      "execution_count": 16,
      "outputs": [
        {
          "output_type": "stream",
          "name": "stdout",
          "text": [
            "[1, 2, 3, 5]\n",
            "[0, 0, 1, 1, 2, 5]\n"
          ]
        }
      ]
    },
    {
      "cell_type": "markdown",
      "source": [
        "<aside>\n",
        "💡 4. **Move all zeroes to end of array**\n",
        "\n",
        "Given an array of random numbers, Push all the zero’s of a given array to the end of the array. For example, if the given arrays is {1, 9, 8, 4, 0, 0, 2, 7, 0, 6, 0}, it should be changed to {1, 9, 8, 4, 2, 7, 6, 0, 0, 0, 0}. The order of all other elements should be same. Expected time complexity is O(n) and extra space is O(1).\n",
        "\n",
        "**Example:**\n",
        "\n",
        "```\n",
        "Input :  arr[] = {1, 2, 0, 4, 3, 0, 5, 0};\n",
        "Output : arr[] = {1, 2, 4, 3, 5, 0, 0, 0};\n",
        "\n",
        "Input : arr[]  = {1, 2, 0, 0, 0, 3, 6};\n",
        "Output : arr[] = {1, 2, 3, 6, 0, 0, 0};\n",
        "```\n",
        "\n",
        "</aside>"
      ],
      "metadata": {
        "id": "MRCJoaGwRcpF"
      }
    },
    {
      "cell_type": "code",
      "source": [
        "def move_zeroes(arr):\n",
        "    n = len(arr)\n",
        "    j = 0\n",
        "\n",
        "    for i in range(n):\n",
        "        if arr[i] != 0:\n",
        "            arr[i], arr[j] = arr[j], arr[i]\n",
        "            j += 1\n",
        "\n",
        "    for i in range(j, n):\n",
        "        arr[i] = 0\n",
        "\n",
        "    return arr\n",
        "\n",
        "arr1 = [1, 2, 0, 4, 3, 0, 5, 0]\n",
        "print(move_zeroes(arr1))\n",
        "\n",
        "arr2 = [1, 2, 0, 0, 0, 3, 6]\n",
        "print(move_zeroes(arr2))\n"
      ],
      "metadata": {
        "colab": {
          "base_uri": "https://localhost:8080/"
        },
        "id": "fIHzBQ6tRX25",
        "outputId": "ed499a02-06d2-4a4c-85af-be99555c22dc"
      },
      "execution_count": 17,
      "outputs": [
        {
          "output_type": "stream",
          "name": "stdout",
          "text": [
            "[1, 2, 4, 3, 5, 0, 0, 0]\n",
            "[1, 2, 3, 6, 0, 0, 0]\n"
          ]
        }
      ]
    },
    {
      "cell_type": "markdown",
      "source": [
        "<aside>\n",
        "💡 5. **Rearrange array in alternating positive & negative items with O(1) extra space**\n",
        "\n",
        "Given an **array of positive** and **negative numbers**, arrange them in an **alternate** fashion such that every positive number is followed by a negative and vice-versa maintaining the **order of appearance**. The number of positive and negative numbers need not be equal. If there are more positive numbers they appear at the end of the array. If there are more negative numbers, they too appear at the end of the array.\n",
        "\n",
        "**Examples:**\n",
        "\n",
        "> Input:  arr[] = {1, 2, 3, -4, -1, 4}\n",
        "Output: arr[] = {-4, 1, -1, 2, 3, 4}\n",
        "\n",
        "Input:  arr[] = {-5, -2, 5, 2, 4, 7, 1, 8, 0, -8}\n",
        "Output: arr[] = {-5, 5, -2, 2, -8, 4, 7, 1, 8, 0}\n",
        ">\n",
        "</aside>\n"
      ],
      "metadata": {
        "id": "_YWADeSFRvY9"
      }
    },
    {
      "cell_type": "code",
      "source": [
        "def rearrange_array(arr):\n",
        "    n = len(arr)\n",
        "    j = 0\n",
        "\n",
        "    for i in range(n):\n",
        "        if arr[i] > 0:\n",
        "            continue\n",
        "\n",
        "        k = j\n",
        "        while k < n and arr[k] > 0:\n",
        "            k += 1\n",
        "\n",
        "        if k == n:\n",
        "            break\n",
        "\n",
        "        arr[i], arr[k] = arr[k], arr[i]\n",
        "        j = k + 1\n",
        "\n",
        "    return arr\n",
        "\n",
        "arr1 = [1, 2, 3, -4, -1, 4]\n",
        "print(rearrange_array(arr1))\n",
        "\n",
        "arr2 = [-5, -2, 5, 2, 4, 7, 1, 8, 0, -8]\n",
        "print(rearrange_array(arr2))\n"
      ],
      "metadata": {
        "colab": {
          "base_uri": "https://localhost:8080/"
        },
        "id": "5cqpZ18BRrUW",
        "outputId": "a44e447e-879d-4f9a-a3f0-e897a4122f86"
      },
      "execution_count": 18,
      "outputs": [
        {
          "output_type": "stream",
          "name": "stdout",
          "text": [
            "[1, 2, 3, -4, -1, 4]\n",
            "[-5, -2, 5, 2, 4, 7, 1, 8, 0, -8]\n"
          ]
        }
      ]
    },
    {
      "cell_type": "markdown",
      "source": [
        "**6. Merge two sorted arrays**\n",
        "\n",
        "Given two sorted arrays, the task is to merge them in a sorted manner.\n",
        "\n",
        "**Examples:**\n",
        "\n",
        "> Input: arr1[] = { 1, 3, 4, 5}, arr2[] = {2, 4, 6, 8}\n",
        "Output: arr3[] = {1, 2, 3, 4, 4, 5, 6, 8}\n",
        "\n",
        "Input: arr1[] = { 5, 8, 9}, arr2[] = {4, 7, 8}\n",
        "Output: arr3[] = {4, 5, 7, 8, 8, 9}\n",
        ">\n",
        "</aside>"
      ],
      "metadata": {
        "id": "5Amwqy9LSES9"
      }
    },
    {
      "cell_type": "code",
      "source": [
        "def merge_sorted_arrays(arr1, arr2):\n",
        "    merged = []\n",
        "    i = j = 0\n",
        "\n",
        "    while i < len(arr1) and j < len(arr2):\n",
        "        if arr1[i] <= arr2[j]:\n",
        "            merged.append(arr1[i])\n",
        "            i += 1\n",
        "        else:\n",
        "            merged.append(arr2[j])\n",
        "            j += 1\n",
        "\n",
        "    merged.extend(arr1[i:])\n",
        "    merged.extend(arr2[j:])\n",
        "\n",
        "    return merged\n",
        "\n",
        "arr1 = [1, 3, 4, 5]\n",
        "arr2 = [2, 4, 6, 8]\n",
        "print(merge_sorted_arrays(arr1, arr2))\n",
        "\n",
        "arr3 = [5, 8, 9]\n",
        "arr4 = [4, 7, 8]\n",
        "print(merge_sorted_arrays(arr3, arr4))\n"
      ],
      "metadata": {
        "colab": {
          "base_uri": "https://localhost:8080/"
        },
        "id": "LLhvvd69R5ly",
        "outputId": "f3f3f3c6-fcbb-4bc6-bb4b-92ca8e905b72"
      },
      "execution_count": 19,
      "outputs": [
        {
          "output_type": "stream",
          "name": "stdout",
          "text": [
            "[1, 2, 3, 4, 4, 5, 6, 8]\n",
            "[4, 5, 7, 8, 8, 9]\n"
          ]
        }
      ]
    },
    {
      "cell_type": "markdown",
      "source": [
        "<aside>\n",
        "💡 7. **Intersection of Two Arrays**\n",
        "\n",
        "Given two integer arrays `nums1` and `nums2`, return *an array of their intersection*. Each element in the result must be **unique** and you may return the result in **any order**.\n",
        "\n",
        "**Example 1:**\n",
        "\n",
        "```\n",
        "Input: nums1 = [1,2,2,1], nums2 = [2,2]\n",
        "Output: [2]\n",
        "\n",
        "```\n",
        "\n",
        "**Example 2:**\n",
        "\n",
        "```\n",
        "Input: nums1 = [4,9,5], nums2 = [9,4,9,8,4]\n",
        "Output: [9,4]\n",
        "Explanation: [4,9] is also accepted.\n",
        "\n",
        "```\n",
        "\n",
        "**Constraints:**\n",
        "\n",
        "- `1 <= nums1.length, nums2.length <= 1000`\n",
        "- `0 <= nums1[i], nums2[i] <= 1000`\n",
        "</aside>"
      ],
      "metadata": {
        "id": "xnNwsUmrSUBV"
      }
    },
    {
      "cell_type": "code",
      "source": [
        "def intersection(nums1, nums2):\n",
        "    set1 = set(nums1)\n",
        "    intersection = set()\n",
        "\n",
        "    for num in nums2:\n",
        "        if num in set1:\n",
        "            intersection.add(num)\n",
        "\n",
        "    return list(intersection)\n",
        "\n",
        "nums1 = [1, 2, 2, 1]\n",
        "nums2 = [2, 2]\n",
        "print(intersection(nums1, nums2))\n",
        "\n",
        "nums3 = [4, 9, 5]\n",
        "nums4 = [9, 4, 9, 8, 4]\n",
        "print(intersection(nums3, nums4))\n"
      ],
      "metadata": {
        "colab": {
          "base_uri": "https://localhost:8080/"
        },
        "id": "uMQImLCUSPC3",
        "outputId": "c1df1213-210b-44c2-a70a-9c96a74f0f85"
      },
      "execution_count": 20,
      "outputs": [
        {
          "output_type": "stream",
          "name": "stdout",
          "text": [
            "[2]\n",
            "[9, 4]\n"
          ]
        }
      ]
    },
    {
      "cell_type": "markdown",
      "source": [
        "8. **Intersection of Two Arrays II**\n",
        "\n",
        "Given two integer arrays `nums1` and `nums2`, return *an array of their intersection*. Each element in the result must appear as many times as it shows in both arrays and you may return the result in **any order**.\n",
        "\n",
        "**Example 1:**\n",
        "\n",
        "```\n",
        "Input: nums1 = [1,2,2,1], nums2 = [2,2]\n",
        "Output: [2,2]\n",
        "\n",
        "```\n",
        "\n",
        "**Example 2:**\n",
        "\n",
        "```\n",
        "Input: nums1 = [4,9,5], nums2 = [9,4,9,8,4]\n",
        "Output: [4,9]\n",
        "Explanation: [9,4] is also accepted.\n",
        "\n",
        "```\n",
        "\n",
        "**Constraints:**\n",
        "\n",
        "- `1 <= nums1.length, nums2.length <= 1000`\n",
        "- `0 <= nums1[i], nums2[i] <= 1000`\n"
      ],
      "metadata": {
        "id": "6BUIRH76Shql"
      }
    },
    {
      "cell_type": "code",
      "source": [
        "def intersect(nums1, nums2):\n",
        "    freq = {}\n",
        "    intersection = []\n",
        "\n",
        "    for num in nums1:\n",
        "        freq[num] = freq.get(num, 0) + 1\n",
        "\n",
        "    for num in nums2:\n",
        "        if num in freq and freq[num] > 0:\n",
        "            intersection.append(num)\n",
        "            freq[num] -= 1\n",
        "\n",
        "    return intersection\n",
        "\n",
        "nums1 = [1, 2, 2, 1]\n",
        "nums2 = [2, 2]\n",
        "print(intersect(nums1, nums2))\n",
        "\n",
        "nums3 = [4, 9, 5]\n",
        "nums4 = [9, 4, 9, 8, 4]\n",
        "print(intersect(nums3, nums4))\n"
      ],
      "metadata": {
        "colab": {
          "base_uri": "https://localhost:8080/"
        },
        "id": "bEH8SnbPSZe4",
        "outputId": "6858b1e5-5924-4f7b-ec5b-b30197cc1a1c"
      },
      "execution_count": 21,
      "outputs": [
        {
          "output_type": "stream",
          "name": "stdout",
          "text": [
            "[2, 2]\n",
            "[9, 4]\n"
          ]
        }
      ]
    },
    {
      "cell_type": "code",
      "source": [],
      "metadata": {
        "id": "5_pxoW5-St6g"
      },
      "execution_count": null,
      "outputs": []
    }
  ]
}