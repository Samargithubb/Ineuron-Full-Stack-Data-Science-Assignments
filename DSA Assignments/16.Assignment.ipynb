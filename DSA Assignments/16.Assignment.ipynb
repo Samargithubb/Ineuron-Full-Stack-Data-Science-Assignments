{
  "nbformat": 4,
  "nbformat_minor": 0,
  "metadata": {
    "colab": {
      "provenance": []
    },
    "kernelspec": {
      "name": "python3",
      "display_name": "Python 3"
    },
    "language_info": {
      "name": "python"
    }
  },
  "cells": [
    {
      "cell_type": "markdown",
      "source": [
        "<aside>\n",
        "💡 **Question 1**\n",
        "\n",
        "Given an array, for each element find the value of the nearest element to the right which is having a frequency greater than that of the current element. If there does not exist an answer for a position, then make the value ‘-1’.\n",
        "\n",
        "**Examples:**\n",
        "```\n",
        "Input: a[] = [1, 1, 2, 3, 4, 2, 1]\n",
        "Output : [-1, -1, 1, 2, 2, 1, -1]\n",
        "\n",
        "Explanation:\n",
        "Given array a[] = [1, 1, 2, 3, 4, 2, 1]\n",
        "Frequency of each element is: 3, 3, 2, 1, 1, 2, 3\n",
        "\n",
        "Lets calls Next Greater Frequency element as NGF\n",
        "1. For element a[0] = 1 which has a frequency = 3,\n",
        "   As it has frequency of 3 and no other next element\n",
        "   has frequency more than 3 so  '-1'\n",
        "2. For element a[1] = 1 it will be -1 same logic\n",
        "   like a[0]\n",
        "3. For element a[2] = 2 which has frequency = 2,\n",
        "   NGF element is 1 at position = 6  with frequency\n",
        "   of 3 > 2\n",
        "4. For element a[3] = 3 which has frequency = 1,\n",
        "   NGF element is 2 at position = 5 with frequency\n",
        "   of 2 > 1\n",
        "5. For element a[4] = 4 which has frequency = 1,\n",
        "   NGF element is 2 at position = 5 with frequency\n",
        "   of 2 > 1\n",
        "6. For element a[5] = 2 which has frequency = 2,\n",
        "   NGF element is 1 at position = 6 with frequency\n",
        "   of 3 > 2\n",
        "7. For element a[6] = 1 there is no element to its\n",
        "   right, hence -1\n",
        "\n",
        "```\n",
        "```\n",
        "Input : a[] = [1, 1, 1, 2, 2, 2, 2, 11, 3, 3]\n",
        "Output : [2, 2, 2, -1, -1, -1, -1, 3, -1, -1]\n",
        "```"
      ],
      "metadata": {
        "id": "x5pLjdmSb5dJ"
      }
    },
    {
      "cell_type": "code",
      "source": [
        "def findNextGreaterFrequency(arr):\n",
        "    frequency = {}\n",
        "    stack = []\n",
        "    next_greater_frequency = [-1] * len(arr)\n",
        "\n",
        "    for i, num in enumerate(arr):\n",
        "        frequency[num] = frequency.get(num, 0) + 1\n",
        "\n",
        "        while stack and frequency[arr[stack[-1]]] < frequency[num]:\n",
        "            index = stack.pop()\n",
        "            next_greater_frequency[index] = num\n",
        "\n",
        "        stack.append(i)\n",
        "\n",
        "    return next_greater_frequency\n",
        "\n",
        "# Example usage:\n",
        "arr = [1, 1, 2, 3, 4, 2, 1]\n",
        "next_greater_frequency = findNextGreaterFrequency(arr)\n",
        "print(next_greater_frequency)  # Output: [-1, -1, 1, 2, 2, 1, -1]\n"
      ],
      "metadata": {
        "colab": {
          "base_uri": "https://localhost:8080/"
        },
        "id": "O5CypSeKca8T",
        "outputId": "a0dc4584-f8be-4ecf-ec26-fc57e8f2a0e1"
      },
      "execution_count": 14,
      "outputs": [
        {
          "output_type": "stream",
          "name": "stdout",
          "text": [
            "[-1, -1, 1, 2, 2, 1, -1]\n"
          ]
        }
      ]
    },
    {
      "cell_type": "markdown",
      "source": [
        "**Question 2**\n",
        "\n",
        "Given a stack of integers, sort it in ascending order using another temporary stack.\n",
        "\n",
        "**Examples:**\n",
        "Input : [34, 3, 31, 98, 92, 23]\n",
        "Output : [3, 23, 31, 34, 92, 98]\n",
        "\n",
        "Input : [3, 5, 1, 4, 2, 8]\n",
        "Output : [1, 2, 3, 4, 5, 8]\n",
        "\n"
      ],
      "metadata": {
        "id": "Op74nooHc2jU"
      }
    },
    {
      "cell_type": "code",
      "source": [
        "def sortStack(stack):\n",
        "    temp_stack = []\n",
        "\n",
        "    while stack:\n",
        "        temp = stack.pop()\n",
        "\n",
        "        while temp_stack and temp_stack[-1] < temp:\n",
        "            stack.append(temp_stack.pop())\n",
        "\n",
        "        temp_stack.append(temp)\n",
        "\n",
        "    while temp_stack:\n",
        "        stack.append(temp_stack.pop())\n",
        "\n",
        "# Example usage:\n",
        "stack = [34, 3, 31, 98, 92, 23]\n",
        "sortStack(stack)\n",
        "print(stack)\n"
      ],
      "metadata": {
        "colab": {
          "base_uri": "https://localhost:8080/"
        },
        "id": "EcndTG1ocmqS",
        "outputId": "bf28bf7b-00be-4ebc-d0c3-1c5808f1e68c"
      },
      "execution_count": 16,
      "outputs": [
        {
          "output_type": "stream",
          "name": "stdout",
          "text": [
            "[3, 23, 31, 34, 92, 98]\n"
          ]
        }
      ]
    },
    {
      "cell_type": "markdown",
      "source": [
        "**Question 3**\n",
        "\n",
        "Given a stack with **push()**, **pop()**, and **empty()** operations, The task is to delete the **middle** element ****of it without using any additional data structure.\n",
        "\n",
        "Input  : Stack[] = [1, 2, 3, 4, 5]\n",
        "\n",
        "Output : Stack[] = [1, 2, 4, 5]\n",
        "\n",
        "Input  : Stack[] = [1, 2, 3, 4, 5, 6]\n",
        "\n",
        "Output : Stack[] = [1, 2, 4, 5, 6]\n"
      ],
      "metadata": {
        "id": "55E6R5h1dYZg"
      }
    },
    {
      "cell_type": "code",
      "source": [
        "def deleteMiddle(stack):\n",
        "    size = len(stack)\n",
        "    middle_pos = (size // 2) + 1\n",
        "\n",
        "    temp_stack = []\n",
        "    for _ in range(middle_pos - 1):\n",
        "        temp_stack.append(stack.pop())\n",
        "\n",
        "    stack.pop()\n",
        "\n",
        "    while temp_stack:\n",
        "        stack.append(temp_stack.pop())\n",
        "\n",
        "# Example usage:\n",
        "stack = [1, 2, 3, 4, 5]\n",
        "deleteMiddle(stack)\n",
        "print(stack)\n",
        "\n",
        "stack = [1, 2, 3, 4, 5, 6]\n",
        "deleteMiddle(stack)\n",
        "print(stack)\n"
      ],
      "metadata": {
        "colab": {
          "base_uri": "https://localhost:8080/"
        },
        "id": "OFHSmA6edFY0",
        "outputId": "6fa95e0a-354d-48f9-9cd4-74637e87a887"
      },
      "execution_count": 17,
      "outputs": [
        {
          "output_type": "stream",
          "name": "stdout",
          "text": [
            "[1, 2, 4, 5]\n",
            "[1, 2, 4, 5, 6]\n"
          ]
        }
      ]
    },
    {
      "cell_type": "markdown",
      "source": [
        "**Question 4**\n",
        "\n",
        "Given a Queue consisting of first **n** natural numbers (in random order). The task is to check whether the given Queue elements can be arranged in increasing order in another Queue using a stack. The operation allowed are:\n",
        "\n",
        "1. Push and pop elements from the stack\n",
        "2. Pop (Or Dequeue) from the given Queue.\n",
        "3. Push (Or Enqueue) in the another Queue.\n",
        "\n",
        "**Examples :**\n",
        "\n",
        "Input : Queue[] = { 5, 1, 2, 3, 4 }\n",
        "\n",
        "Output : Yes\n",
        "\n",
        "Pop the first element of the given Queue\n",
        "\n",
        "i.e 5. Push 5 into the stack.\n",
        "\n",
        "Now, pop all the elements of the given Queue and push them to second Queue.\n",
        "\n",
        "Now, pop element 5 in the stack and push it to the second Queue.\n",
        "\n",
        "Input : Queue[] = { 5, 1, 2, 6, 3, 4 }\n",
        "\n",
        "Output : No\n",
        "\n",
        "Push 5 to stack.\n",
        "\n",
        "Pop 1, 2 from given Queue and push it to another Queue.\n",
        "\n",
        "Pop 6 from given Queue and push to stack.\n",
        "\n",
        "Pop 3, 4 from given Queue and push to second Queue.\n",
        "\n",
        "Now, from using any of above operation, we cannot push 5 into the second Queue because it is below the 6 in the stack.\n",
        "\n"
      ],
      "metadata": {
        "id": "Yeeq_tQ8dv9x"
      }
    },
    {
      "cell_type": "code",
      "source": [
        "from queue import Queue\n",
        "\n",
        "def checkQueueOrder(queue):\n",
        "    stack = []\n",
        "    second_queue = Queue()\n",
        "\n",
        "    expected_element = 1\n",
        "\n",
        "    while not queue.empty():\n",
        "        element = queue.get()\n",
        "\n",
        "        if element == expected_element:\n",
        "            second_queue.put(element)\n",
        "            expected_element += 1\n",
        "        else:\n",
        "            stack.append(element)\n",
        "\n",
        "        while stack and stack[-1] == expected_element:\n",
        "            second_queue.put(stack.pop())\n",
        "            expected_element += 1\n",
        "\n",
        "    if not stack and all(second_queue.queue[i] < second_queue.queue[i+1] for i in range(second_queue.qsize() - 1)):\n",
        "        return \"Yes\"\n",
        "    else:\n",
        "        return \"No\"\n",
        "\n",
        "# Example usage:\n",
        "queue = Queue()\n",
        "queue.put(5)\n",
        "queue.put(1)\n",
        "queue.put(2)\n",
        "queue.put(3)\n",
        "queue.put(4)\n",
        "result = checkQueueOrder(queue)\n",
        "print(result)\n",
        "\n",
        "queue = Queue()\n",
        "queue.put(5)\n",
        "queue.put(1)\n",
        "queue.put(2)\n",
        "queue.put(6)\n",
        "queue.put(3)\n",
        "queue.put(4)\n",
        "result = checkQueueOrder(queue)\n",
        "print(result)"
      ],
      "metadata": {
        "colab": {
          "base_uri": "https://localhost:8080/"
        },
        "id": "sAK1C5b0dkEW",
        "outputId": "f5b9c9b7-75c2-409d-d671-f623afe8d175"
      },
      "execution_count": 18,
      "outputs": [
        {
          "output_type": "stream",
          "name": "stdout",
          "text": [
            "Yes\n",
            "No\n"
          ]
        }
      ]
    },
    {
      "cell_type": "markdown",
      "source": [
        "**Question 5**\n",
        "\n",
        "Given a number , write a program to reverse this number using stack.\n",
        "\n",
        "**Examples:**\n",
        "\n",
        "Input : 365\n",
        "Output : 563\n",
        "\n",
        "Input : 6899\n",
        "Output : 9986"
      ],
      "metadata": {
        "id": "X6CoebMXeBcK"
      }
    },
    {
      "cell_type": "code",
      "source": [
        "def reverseNumber(number):\n",
        "    number_str = str(number)\n",
        "    stack = []\n",
        "\n",
        "    for char in number_str:\n",
        "        stack.append(char)\n",
        "\n",
        "    reversed_number = \"\"\n",
        "    while stack:\n",
        "        reversed_number += stack.pop()\n",
        "\n",
        "    return int(reversed_number)\n",
        "\n",
        "# Example usage:\n",
        "number = 365\n",
        "reversed_number = reverseNumber(number)\n",
        "print(reversed_number)\n",
        "\n",
        "number = 6899\n",
        "reversed_number = reverseNumber(number)\n",
        "print(reversed_number)\n"
      ],
      "metadata": {
        "colab": {
          "base_uri": "https://localhost:8080/"
        },
        "id": "tXme7ctrd9XJ",
        "outputId": "59cdb613-ca5b-49ef-bad8-39e33f44253d"
      },
      "execution_count": 20,
      "outputs": [
        {
          "output_type": "stream",
          "name": "stdout",
          "text": [
            "563\n",
            "9986\n"
          ]
        }
      ]
    },
    {
      "cell_type": "markdown",
      "source": [
        "**Question 6**\n",
        "\n",
        "Given an integer k and a **[queue](https://www.geeksforgeeks.org/queue-data-structure/)** of integers, The task is to reverse the order of the first **k** elements of the queue, leaving the other elements in the same relative order.\n",
        "\n",
        "Only following standard operations are allowed on queue.\n",
        "\n",
        "- **enqueue(x) :** Add an item x to rear of queue\n",
        "- **dequeue() :** Remove an item from front of queue\n",
        "- **size() :** Returns number of elements in queue.\n",
        "- **front() :** Finds front item.\n"
      ],
      "metadata": {
        "id": "PFdUSFs5eT8X"
      }
    },
    {
      "cell_type": "code",
      "source": [
        "from queue import Queue\n",
        "\n",
        "def reverseKElements(queue, k):\n",
        "    stack = []\n",
        "    for _ in range(k):\n",
        "        stack.append(queue.get())\n",
        "\n",
        "    temp_queue = Queue()\n",
        "    for element in reversed(stack):\n",
        "        temp_queue.put(element)\n",
        "\n",
        "    while not queue.empty():\n",
        "        temp_queue.put(queue.get())\n",
        "\n",
        "    while not temp_queue.empty():\n",
        "        queue.put(temp_queue.get())\n",
        "\n",
        "# Example usage:\n",
        "queue = Queue()\n",
        "queue.put(1)\n",
        "queue.put(2)\n",
        "queue.put(3)\n",
        "queue.put(4)\n",
        "queue.put(5)\n",
        "k = 3\n",
        "\n",
        "reverseKElements(queue, k)\n",
        "\n",
        "while not queue.empty():\n",
        "    print(queue.get(), end=\" \")\n"
      ],
      "metadata": {
        "colab": {
          "base_uri": "https://localhost:8080/"
        },
        "id": "Q1i8qZoleNkk",
        "outputId": "09908be1-6ba7-46ca-8474-7707847eb50e"
      },
      "execution_count": 21,
      "outputs": [
        {
          "output_type": "stream",
          "name": "stdout",
          "text": [
            "3 2 1 4 5 "
          ]
        }
      ]
    },
    {
      "cell_type": "markdown",
      "source": [
        "**Question 7**\n",
        "\n",
        "Given a sequence of n strings, the task is to check if any two similar words come together and then destroy each other then print the number of words left in the sequence after this pairwise destruction.\n",
        "\n",
        "**Examples:**\n",
        "\n",
        "Input : ab aa aa bcd ab\n",
        "\n",
        "Output : 3\n",
        "\n",
        "*As aa, aa destroys each other so,*\n",
        "\n",
        "*ab bcd ab is the new sequence.*\n",
        "\n",
        "Input :  tom jerry jerry tom\n",
        "\n",
        "Output : 0\n",
        "\n",
        "*As first both jerry will destroy each other.*\n",
        "\n",
        "*Then sequence will be tom, tom they will also destroy*\n",
        "\n",
        "*each other. So, the final sequence doesn’t contain any*\n",
        "\n",
        "*word.*\n",
        "\n"
      ],
      "metadata": {
        "id": "3c5prrTefQ5-"
      }
    },
    {
      "cell_type": "code",
      "source": [
        "def countWordsLeft(sequence):\n",
        "    stack = []\n",
        "\n",
        "    for word in sequence:\n",
        "        if stack and word == stack[-1]:\n",
        "            stack.pop()\n",
        "        else:\n",
        "            stack.append(word)\n",
        "\n",
        "    return len(stack)\n",
        "\n",
        "# Example usage:\n",
        "sequence = [\"ab\", \"aa\", \"aa\", \"bcd\", \"ab\"]\n",
        "remaining_words = countWordsLeft(sequence)\n",
        "print(remaining_words)\n",
        "\n",
        "sequence = [\"tom\", \"jerry\", \"jerry\", \"tom\"]\n",
        "remaining_words = countWordsLeft(sequence)\n",
        "print(remaining_words)\n"
      ],
      "metadata": {
        "colab": {
          "base_uri": "https://localhost:8080/"
        },
        "id": "WzjcH3emfIlR",
        "outputId": "f77553f5-2efe-4c3c-aee2-4e3fce948527"
      },
      "execution_count": 22,
      "outputs": [
        {
          "output_type": "stream",
          "name": "stdout",
          "text": [
            "3\n",
            "0\n"
          ]
        }
      ]
    },
    {
      "cell_type": "markdown",
      "source": [
        "**Question 8**\n",
        "\n",
        "Given an array of integers, the task is to find the maximum absolute difference between the nearest left and the right smaller element of every element in the array.\n",
        "\n",
        "**Note:** If there is no smaller element on right side or left side of any element then we take zero as the smaller element. For example for the leftmost element, the nearest smaller element on the left side is considered as 0. Similarly, for rightmost elements, the smaller element on the right side is considered as 0.\n",
        "\n",
        "**Examples:**\n",
        "\n",
        "```\n",
        "Input : arr[] = {2, 1, 8}\n",
        "Output : 1\n",
        "Left smaller  LS[] {0, 0, 1}\n",
        "Right smaller RS[] {1, 0, 0}\n",
        "Maximum Diff of abs(LS[i] - RS[i]) = 1\n",
        "\n",
        "Input  : arr[] = {2, 4, 8, 7, 7, 9, 3}\n",
        "Output : 4\n",
        "Left smaller   LS[] = {0, 2, 4, 4, 4, 7, 2}\n",
        "Right smaller  RS[] = {0, 3, 7, 3, 3, 3, 0}\n",
        "Maximum Diff of abs(LS[i] - RS[i]) = 7 - 3 = 4\n",
        "\n",
        "Input : arr[] = {5, 1, 9, 2, 5, 1, 7}\n",
        "Output : 1\n",
        "```\n",
        "\n"
      ],
      "metadata": {
        "id": "g7p7YZLEfpM5"
      }
    },
    {
      "cell_type": "code",
      "source": [
        "def findMaxDifference(arr):\n",
        "    n = len(arr)\n",
        "    left_smaller = [0] * n\n",
        "    right_smaller = [0] * n\n",
        "\n",
        "    # Find nearest left smaller element\n",
        "    stack = []\n",
        "    for i in range(n):\n",
        "        while stack and arr[stack[-1]] >= arr[i]:\n",
        "            stack.pop()\n",
        "        if stack:\n",
        "            left_smaller[i] = arr[stack[-1]]\n",
        "        stack.append(i)\n",
        "\n",
        "    # Clear the stack\n",
        "    stack = []\n",
        "\n",
        "    # Find nearest right smaller element\n",
        "    for i in range(n-1, -1, -1):\n",
        "        while stack and arr[stack[-1]] >= arr[i]:\n",
        "            stack.pop()\n",
        "        if stack:\n",
        "            right_smaller[i] = arr[stack[-1]]\n",
        "        stack.append(i)\n",
        "\n",
        "    max_diff = 0\n",
        "    for i in range(n):\n",
        "        diff = abs(left_smaller[i] - right_smaller[i])\n",
        "        max_diff = max(max_diff, diff)\n",
        "\n",
        "    return max_diff\n",
        "\n",
        "# Example usage:\n",
        "arr = [2, 1, 8]\n",
        "max_diff = findMaxDifference(arr)\n",
        "print(max_diff)\n",
        "\n",
        "arr = [2, 4, 8, 7, 7, 9, 3]\n",
        "max_diff = findMaxDifference(arr)\n",
        "print(max_diff)\n",
        "\n",
        "arr = [5, 1, 9, 2, 5, 1, 7]\n",
        "max_diff = findMaxDifference(arr)\n",
        "print(max_diff)\n"
      ],
      "metadata": {
        "colab": {
          "base_uri": "https://localhost:8080/"
        },
        "id": "vTv-5LcFfb4t",
        "outputId": "79ffa04b-c87d-4930-f1bb-c8501f85e988"
      },
      "execution_count": 23,
      "outputs": [
        {
          "output_type": "stream",
          "name": "stdout",
          "text": [
            "1\n",
            "4\n",
            "1\n"
          ]
        }
      ]
    },
    {
      "cell_type": "code",
      "source": [],
      "metadata": {
        "id": "EvVTM_KLfz8u"
      },
      "execution_count": null,
      "outputs": []
    }
  ]
}