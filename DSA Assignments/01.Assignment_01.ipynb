{
 "cells": [
  {
   "cell_type": "markdown",
   "id": "b2c474da",
   "metadata": {},
   "source": [
    "## Assignment Solution"
   ]
  },
  {
   "cell_type": "markdown",
   "id": "c4704829",
   "metadata": {},
   "source": [
    "#### Q1.Given an array of integers nums and an integer target, return indices of the two numbers such that they add up to target. You may assume that each input would have exactly one solution, and you may not use the same element twice. You can return the answer in any order.\n",
    "**Example:**\n",
    "Input: nums = [2,7,11,15], target = 9 \\\n",
    "Output0 [0,1]\n",
    "\n",
    "**Explanation:** Because nums[0] + nums[1] == 9, we return [0, 1][\n",
    "\n",
    "</aside>"
   ]
  },
  {
   "cell_type": "markdown",
   "id": "79d9ced2",
   "metadata": {},
   "source": [
    "**Ans:** "
   ]
  },
  {
   "cell_type": "code",
   "execution_count": 21,
   "id": "3ce4ae75",
   "metadata": {},
   "outputs": [
    {
     "name": "stdout",
     "output_type": "stream",
     "text": [
      "[0, 1]\n"
     ]
    }
   ],
   "source": [
    "\"\"\" First created a dict to store value its indices. Iterating for each element and calculating \n",
    "the diff between  target and num. check if the num exists in the dictionary. if it does\n",
    "return the indices. if it is not add the current element and its index to the dictionary\"\"\"\n",
    "\n",
    "def twosum(nums, target):\n",
    "    num_dict = {}\n",
    "    for i, num in enumerate(nums):\n",
    "        diff = target - num\n",
    "        if diff in num_dict:\n",
    "            return[num_dict[diff],i]\n",
    "        num_dict[num]= i  \n",
    "    return [] \n",
    "\n",
    "nums = [2, 7, 11, 15]\n",
    "target = 9\n",
    "result = twosum(nums, target)\n",
    "print(result)"
   ]
  },
  {
   "cell_type": "markdown",
   "id": "1caa8424",
   "metadata": {},
   "source": [
    "#### **Q2.** Given an integer array nums and an integer val, remove all occurrences of val in nums in-place. The order of the elements may be changed. Then return the number of elements in nums which are not equal to val.Consider the number of elements in nums which are not equal to val be k, to get accepted, you need to do the following things:\n",
    "- Change the array nums such that the first k elements of nums contain the elements which are not equal to val. The remaining elements of nums are not important as well as the size of nums.\n",
    "- Return k.\n",
    "\n",
    "**Example :**\n",
    "Input: nums = [3,2,2,3], val = 3\n",
    "Output: 2, nums = [2,2,_*,_*]\n",
    "\n",
    "**Explanation:** Your function should return k = 2, with the first two elements of nums being 2. It does not matter what you leave beyond the returned k (hence they are underscores)[\n",
    "\n"
   ]
  },
  {
   "cell_type": "markdown",
   "id": "36dc3eff",
   "metadata": {},
   "source": [
    "**Ans:**"
   ]
  },
  {
   "cell_type": "code",
   "execution_count": 32,
   "id": "8da7af0a",
   "metadata": {},
   "outputs": [
    {
     "name": "stdout",
     "output_type": "stream",
     "text": [
      "2\n"
     ]
    },
    {
     "data": {
      "text/plain": [
       "[2, 2, 2, 3]"
      ]
     },
     "execution_count": 32,
     "metadata": {},
     "output_type": "execute_result"
    }
   ],
   "source": [
    "\"\"\" In this problem i have use two-pointer approach to remove the occurence of the givern\n",
    "value. Initially I have created pointer i which represent the current position of modified array\n",
    "and J represent the current position of original array. During Iteration the array\n",
    "using pointer j for each element nums[j]:\n",
    "if nums[j] is not equal to the given value 'val' assign nums[j] to nums[i]\n",
    "and increment 'i' by 1 \n",
    "if nums[j] is equal to 'val' skip it and do not increment i \"\"\"\n",
    "def removeVal(nums,val):\n",
    "    i=0\n",
    "    for j in range(len(nums)):\n",
    "        if nums[j] != val:\n",
    "            nums[i] = nums[j]\n",
    "            i +=1\n",
    "    return i\n",
    "\n",
    "nums = [3, 2, 2, 3]\n",
    "val = 3\n",
    "k=removeVal(nums, val)\n",
    "print(k)"
   ]
  },
  {
   "cell_type": "markdown",
   "id": "fc8eba14",
   "metadata": {},
   "source": [
    "#### Q3 Given a sorted array of distinct integers and a target value, return the index if the target is found. If not, return the index where it would be if it were inserted in order. You must write an algorithm with O(log n) runtime complexity.\n",
    "\n",
    "*Example 1:**\n",
    "Input: nums = [1,3,5,6], target = 5\n",
    "Output: 2\n",
    "\n"
   ]
  },
  {
   "cell_type": "markdown",
   "id": "efae056a",
   "metadata": {},
   "source": [
    "**Ans:** "
   ]
  },
  {
   "cell_type": "code",
   "execution_count": 45,
   "id": "cb595e91",
   "metadata": {},
   "outputs": [
    {
     "name": "stdout",
     "output_type": "stream",
     "text": [
      "2\n"
     ]
    }
   ],
   "source": [
    "\"\"\" IN this problem we can use a binary search algorithm. Initialize two pointers,\n",
    "left and right to the start and end of the array. \n",
    "while left <= right :\n",
    "calculate mid index if the middle element nums[mid] == to target return mid \n",
    "If the middle element nums[mid] is less than the target, update left = mid + 1 to search in the right half of the array.\n",
    "If the middle element nums[mid] is greater than the target, update right = mid - 1 to search in the left half of the array.\n",
    "\"\"\"\n",
    "def searchVal(nums,target):\n",
    "    left, right = 0, len(nums) -1 \n",
    "    \n",
    "    while left <= right:\n",
    "        mid = left +(right - left ) //2\n",
    "        \n",
    "        if nums[mid] == target:\n",
    "            return mid\n",
    "        elif nums[mid] < target:\n",
    "            left = mid + 1\n",
    "        else:\n",
    "            right = mid -1\n",
    "            \n",
    "    return left\n",
    "nums = [1, 3, 5, 6]\n",
    "target = 5\n",
    "index = searchVal(nums, target)\n",
    "print(index)"
   ]
  },
  {
   "cell_type": "markdown",
   "id": "2204bbd3",
   "metadata": {},
   "source": [
    "#### **Q4.** You are given a large integer represented as an integer array digits, where each digits[i] is the ith digit of the integer. The digits are ordered from most significant to least significant in left-to-right order. The large integer does not contain any leading 0's.\n",
    "\n",
    "Increment the large integer by one and return the resulting array of digits.\n",
    "\n",
    "**Example 1:**\n",
    "Input: digits = [1,2,3]\n",
    "Output: [1,2,4]\n",
    "\n",
    "**Explanation:** The array represents the integer 123.\n",
    "\n",
    "Incrementing by one gives 123 + 1 = 124.\n",
    "Thus, the result should be [1,2,4].\n",
    "\n"
   ]
  },
  {
   "cell_type": "markdown",
   "id": "12fafe25",
   "metadata": {},
   "source": [
    "**Ans:** "
   ]
  },
  {
   "cell_type": "code",
   "execution_count": 58,
   "id": "d0391ffd",
   "metadata": {},
   "outputs": [],
   "source": [
    "\"\"\"Initialize a carry variable to 1, as we are incrementing the number by one.\n",
    "Iterate over the digits array from right to left.\n",
    "Add the current digit and the carry.\n",
    "Update the digit to the result modulo 10.\n",
    "Update the carry to the result divided by 10.\n",
    "If the carry is still 1 after the loop, it means there is a carry at the most \n",
    "significant digit. Insert 1 at the beginning of the digits array\"\"\"\n",
    "\n",
    "def AddOne(digits):\n",
    "    carry = 1\n",
    "    for i in reversed(range(len(digits))):\n",
    "        result = digits[i] + carry\n",
    "        digits[i] = result % 10\n",
    "        carry = result // 10\n",
    "\n",
    "    if carry == 1:\n",
    "        digits.insert(0, 1)\n",
    "\n",
    "    return digits"
   ]
  },
  {
   "cell_type": "markdown",
   "id": "7296cceb",
   "metadata": {},
   "source": [
    "#### **Q5.** You are given two integer arrays nums1 and nums2, sorted in non-decreasing order, and two integers m and n, representing the number of elements in nums1 and nums2 respectively.  Merge nums1 and nums2 into a single array sorted in non-decreasing order. The final sorted array should not be returned by the function, but instead be stored inside the array nums1. To accommodate this, nums1 has a length of m + n, where the first m elements denote the elements that should be merged, and the last n elements are set to 0 and should be ignored. nums2 has a length of n.\n",
    "\n",
    "**Example 1:**\n",
    "Input: nums1 = [1,2,3,0,0,0], m = 3, nums2 = [2,5,6], n = 3\n",
    "Output: [1,2,2,3,5,6]\n",
    "\n",
    "**Explanation:** The arrays we are merging are [1,2,3] and [2,5,6].\n",
    "The result of the merge is [1,2,2,3,5,6] with the underlined elements coming from nums1.\n",
    "\n",
    "</aside>"
   ]
  },
  {
   "cell_type": "markdown",
   "id": "a7137845",
   "metadata": {},
   "source": [
    "**Ans:** "
   ]
  },
  {
   "cell_type": "code",
   "execution_count": 61,
   "id": "409138a5",
   "metadata": {},
   "outputs": [
    {
     "name": "stdout",
     "output_type": "stream",
     "text": [
      "[1, 2, 2, 3, 5, 6]\n"
     ]
    }
   ],
   "source": [
    "def merge(nums1, m, nums2, n):\n",
    "    p1 = m - 1\n",
    "    p2 = n - 1\n",
    "    p = m + n - 1\n",
    "\n",
    "    while p1 >= 0 and p2 >= 0:\n",
    "        if nums1[p1] > nums2[p2]:\n",
    "            nums1[p] = nums1[p1]\n",
    "            p1 -= 1\n",
    "        else:\n",
    "            nums1[p] = nums2[p2]\n",
    "            p2 -= 1\n",
    "        p -= 1\n",
    "\n",
    "    if p2 >= 0:\n",
    "        nums1[:p2 + 1] = nums2[:p2 + 1]\n",
    "\n",
    "    return nums1\n",
    "\n",
    "nums1 = [1, 2, 3, 0, 0, 0]\n",
    "m = 3\n",
    "nums2 = [2, 5, 6]\n",
    "n = 3\n",
    "\n",
    "result = merge(nums1, m, nums2, n)\n",
    "print(result)"
   ]
  },
  {
   "cell_type": "markdown",
   "id": "c5845de6",
   "metadata": {},
   "source": [
    "#### **Q6.** Given an integer array nums, return true if any value appears at least twice in the array, and return false if every element is distinct.\n",
    "\n",
    "**Example 1:**\n",
    "Input: nums = [1,2,3,1]\n",
    "\n",
    "Output: true\n"
   ]
  },
  {
   "cell_type": "markdown",
   "id": "f16b9653",
   "metadata": {},
   "source": [
    "**Ans:**"
   ]
  },
  {
   "cell_type": "code",
   "execution_count": 63,
   "id": "6e3c4e85",
   "metadata": {},
   "outputs": [
    {
     "name": "stdout",
     "output_type": "stream",
     "text": [
      "True\n"
     ]
    }
   ],
   "source": [
    "def containsDuplicate(nums):\n",
    "    seen = set()\n",
    "\n",
    "    for num in nums:\n",
    "        if num in seen:\n",
    "            return True\n",
    "        seen.add(num)\n",
    "\n",
    "    return False\n",
    "\n",
    "nums = [1, 2, 3, 1]\n",
    "result = containsDuplicate(nums)\n",
    "print(result) "
   ]
  },
  {
   "cell_type": "markdown",
   "id": "affed0fc",
   "metadata": {},
   "source": [
    "#### **Q7.** Given an integer array nums, move all 0's to the end of it while maintaining the relative order of the nonzero elements. Note that you must do this in-place without making a copy of the array.\n",
    "\n",
    "**Example 1:**\n",
    "Input: nums = [0,1,0,3,12]\n",
    "Output: [1,3,12,0,0]\n"
   ]
  },
  {
   "cell_type": "markdown",
   "id": "0afcde49",
   "metadata": {},
   "source": [
    "**Ans:** "
   ]
  },
  {
   "cell_type": "code",
   "execution_count": 65,
   "id": "bca5664f",
   "metadata": {},
   "outputs": [
    {
     "name": "stdout",
     "output_type": "stream",
     "text": [
      "[1, 3, 12, 0, 0]\n"
     ]
    }
   ],
   "source": [
    "def moveZeroes(nums):\n",
    "    i = 0\n",
    "    j = 0\n",
    "\n",
    "    while i < len(nums):\n",
    "        if nums[i] != 0:\n",
    "            nums[i], nums[j] = nums[j], nums[i]\n",
    "            j += 1\n",
    "        i += 1\n",
    "\n",
    "    while j < len(nums):\n",
    "        nums[j] = 0\n",
    "        j += 1\n",
    "\n",
    "    return nums\n",
    "\n",
    "nums = [0, 1, 0, 3, 12]\n",
    "result = moveZeroes(nums)\n",
    "print(result)\n"
   ]
  },
  {
   "cell_type": "markdown",
   "id": "f8a4fb22",
   "metadata": {},
   "source": [
    "**Q8.** You have a set of integers s, which originally contains all the numbers from 1 to n. Unfortunately, due to some error, one of the numbers in s got duplicated to another number in the set, which results in repetition of one number and loss of another number.\n",
    "\n",
    "You are given an integer array nums representing the data status of this set after the error.\n",
    "\n",
    "Find the number that occurs twice and the number that is missing and return them in the form of an array.\n",
    "\n",
    "**Example 1:**\n",
    "Input: nums = [1,2,2,4]\n",
    "Output: [2,3]\n"
   ]
  },
  {
   "cell_type": "markdown",
   "id": "8948c588",
   "metadata": {},
   "source": [
    "**Ans:** "
   ]
  },
  {
   "cell_type": "code",
   "execution_count": 70,
   "id": "cb0288ec",
   "metadata": {},
   "outputs": [
    {
     "name": "stdout",
     "output_type": "stream",
     "text": [
      "[2, 3]\n"
     ]
    }
   ],
   "source": [
    "def findErrorNums(nums):\n",
    "    count = {}\n",
    "    duplicate = -1\n",
    "    missing = -1\n",
    "\n",
    "    for num in nums:\n",
    "        if num in count:\n",
    "            duplicate = num\n",
    "        count[num] = count.get(num, 0) + 1\n",
    "\n",
    "    for i in range(1, len(nums) + 1):\n",
    "        if i not in count:\n",
    "            missing = i\n",
    "            break\n",
    "\n",
    "    return [duplicate, missing]\n",
    "\n",
    "\n",
    "nums = [1, 2, 2, 4]\n",
    "result = findErrorNums(nums)\n",
    "print(result)"
   ]
  }
 ],
 "metadata": {
  "kernelspec": {
   "display_name": "Python 3 (ipykernel)",
   "language": "python",
   "name": "python3"
  },
  "language_info": {
   "codemirror_mode": {
    "name": "ipython",
    "version": 3
   },
   "file_extension": ".py",
   "mimetype": "text/x-python",
   "name": "python",
   "nbconvert_exporter": "python",
   "pygments_lexer": "ipython3",
   "version": "3.9.7"
  }
 },
 "nbformat": 4,
 "nbformat_minor": 5
}
