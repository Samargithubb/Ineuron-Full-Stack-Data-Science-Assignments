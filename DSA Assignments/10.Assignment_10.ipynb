{
 "cells": [
  {
   "cell_type": "markdown",
   "id": "29a8de42",
   "metadata": {},
   "source": [
    "**Question 1**\n",
    "\n",
    "Given an integer `n`, return *`true` if it is a power of three. Otherwise, return `false`*.\n",
    "\n",
    "An integer `n` is a power of three, if there exists an integer `x` such that `n == 3x`.\n",
    "\n",
    "**Example 1:** \\\n",
    "Input: n = 27 \\\n",
    "Output: true \\\n",
    "Explanation: 27 = 33\n",
    "\n",
    "Example 2: \\\n",
    "Input: n = 0 \\\n",
    "Output: false \\\n",
    "Explanation: There is no x where 3x = 0.\n",
    "\n",
    "Example 3: \\\n",
    "Input: n = -1 \\\n",
    "Output: false \\\n",
    "Explanation: There is no x where 3x = (-1)."
   ]
  },
  {
   "cell_type": "code",
   "execution_count": 5,
   "id": "6d104251",
   "metadata": {},
   "outputs": [
    {
     "name": "stdout",
     "output_type": "stream",
     "text": [
      "True\n",
      "False\n",
      "False\n"
     ]
    }
   ],
   "source": [
    "def isPowerOfThree(n):\n",
    "    if n<=0:\n",
    "        return False\n",
    "    \n",
    "    while n%3 == 0:\n",
    "        return True\n",
    "    \n",
    "    return n==1\n",
    "\n",
    "print(isPowerOfThree(27))\n",
    "print(isPowerOfThree(0))\n",
    "print(isPowerOfThree(-1))"
   ]
  },
  {
   "cell_type": "markdown",
   "id": "6c8fbd49",
   "metadata": {},
   "source": [
    "**Question 2**\n",
    "\n",
    "You have a list `arr` of all integers in the range `[1, n]` sorted in a strictly increasing order. Apply the following algorithm on `arr`:\n",
    "\n",
    "- Starting from left to right, remove the first number and every other number afterward until you reach the end of the list.\n",
    "- Repeat the previous step again, but this time from right to left, remove the rightmost number and every other number from the remaining numbers.\n",
    "- Keep repeating the steps again, alternating left to right and right to left, until a single number remains.\n",
    "\n",
    "Given the integer `n`, return *the last number that remains in* `arr`.\n",
    "\n",
    "**Example 1:**  \n",
    "Input: n = 9 \\\n",
    "Output: 6 \\\n",
    "Explanation: \\\n",
    "arr = [1, 2,3, 4,5, 6,7, 8,9] \\\n",
    "arr = [2,4, 6,8] \\\n",
    "arr = [2, 6] \\\n",
    "arr = [6] \n",
    " \n"
   ]
  },
  {
   "cell_type": "code",
   "execution_count": 11,
   "id": "bf6d50c9",
   "metadata": {},
   "outputs": [
    {
     "name": "stdout",
     "output_type": "stream",
     "text": [
      "6\n",
      "1\n"
     ]
    }
   ],
   "source": [
    "def lastRemaining(n):\n",
    "    start = 1\n",
    "    step = 1\n",
    "    leftToRight = True\n",
    "\n",
    "    while n > 1:\n",
    "        if leftToRight or n % 2 == 1:\n",
    "            start += step\n",
    "        step *= 2\n",
    "        n //= 2\n",
    "        leftToRight = not leftToRight\n",
    "\n",
    "    return start\n",
    "\n",
    "\n",
    "\n",
    "\n",
    "print(lastRemaining(9))\n",
    "print(lastRemaining(1))\n"
   ]
  },
  {
   "cell_type": "markdown",
   "id": "680dbcb9",
   "metadata": {},
   "source": [
    "**Question 3**\n",
    "\n",
    "****Given a set represented as a string, write a recursive code to print all subsets of it. The subsets can be printed in any order.\n",
    "\n",
    "**Example 1:**\n",
    "\n",
    "Input :  set = “abc”\n",
    "\n",
    "Output : { “”, “a”, “b”, “c”, “ab”, “ac”, “bc”, “abc”}\n",
    "\n",
    "**Example 2:**\n",
    "\n",
    "Input : set = “abcd”\n",
    "\n",
    "Output : { “”, “a” ,”ab” ,”abc” ,”abcd”, “abd” ,”ac” ,”acd”, “ad” ,”b”, “bc” ,”bcd” ,”bd” ,”c” ,”cd” ,”d” }\n"
   ]
  },
  {
   "cell_type": "code",
   "execution_count": 14,
   "id": "486ffd6a",
   "metadata": {},
   "outputs": [
    {
     "name": "stdout",
     "output_type": "stream",
     "text": [
      "['abc', 'ab', 'ac', 'a', 'bc', 'b', 'c', '']\n"
     ]
    }
   ],
   "source": [
    "def generateSubsets(subset, index, set, subsets):\n",
    "    if index == len(set):\n",
    "        subsets.append(subset)\n",
    "    else:\n",
    "        # Include the current element in the subset and recurse\n",
    "        generateSubsets(subset + set[index], index + 1, set, subsets)\n",
    "        \n",
    "        # Exclude the current element from the subset and recurse\n",
    "        generateSubsets(subset, index + 1, set, subsets)\n",
    "\n",
    "def getAllSubsets(set):\n",
    "    subsets = []\n",
    "    generateSubsets(\"\", 0, set, subsets)\n",
    "    return subsets\n",
    "\n",
    "# Example usage\n",
    "input_set = \"abc\"\n",
    "result =  getAllSubsets(input_set)\n",
    "print(result)\n"
   ]
  },
  {
   "cell_type": "markdown",
   "id": "2be8869e",
   "metadata": {},
   "source": [
    "**Question 4**\n",
    "\n",
    "Given a string calculate length of the string using recursion.\n",
    "\n",
    "**Examples:**\n",
    "Input : str = \"abcd\" \\\n",
    "Output :4\n",
    "\n",
    "Input : str = \"GEEKSFORGEEKS\" \\\n",
    "Output :13"
   ]
  },
  {
   "cell_type": "code",
   "execution_count": 15,
   "id": "cea04b96",
   "metadata": {},
   "outputs": [
    {
     "name": "stdout",
     "output_type": "stream",
     "text": [
      "4\n",
      "13\n"
     ]
    }
   ],
   "source": [
    "def calculateLength(str):\n",
    "    if str == \"\":\n",
    "        return 0\n",
    "    else:\n",
    "        return 1 + calculateLength(str[1:])\n",
    "\n",
    "# Example usage\n",
    "str1 = \"abcd\"\n",
    "length1 = calculateLength(str1)\n",
    "print(length1)  \n",
    "\n",
    "str2 = \"GEEKSFORGEEKS\"\n",
    "length2 = calculateLength(str2)\n",
    "print(length2) \n"
   ]
  },
  {
   "cell_type": "markdown",
   "id": "083a11b6",
   "metadata": {},
   "source": [
    "**Question 5**\n",
    "\n",
    "We are given a string S, we need to find count of all contiguous substrings starting and ending with same character.\n",
    "\n",
    "**Examples :**\n",
    "    \n",
    "Input  : S = \"abcab\" \\\n",
    "Output : 7 \\\n",
    "There are 15 substrings of \"abcab\"\n",
    "a, ab, abc, abca, abcab, b, bc, bca\n",
    "bcab, c, ca, cab, a, ab, b\n",
    "Out of the above substrings, there\n",
    "are 7 substrings : a, abca, b, bcab,\n",
    "c, a and b. \n",
    "\n",
    "Input  : S = \"aba\"\n",
    "Output : 4\n",
    "The substrings are a, b, a and aba"
   ]
  },
  {
   "cell_type": "code",
   "execution_count": 18,
   "id": "85939198",
   "metadata": {},
   "outputs": [
    {
     "name": "stdout",
     "output_type": "stream",
     "text": [
      "7\n",
      "4\n"
     ]
    }
   ],
   "source": [
    "def countContiguousSubstrings(S):\n",
    "    count = 0\n",
    "    for i in range(len(S)):\n",
    "        count += 1  # Single character forms a valid substring\n",
    "        j = i + 1\n",
    "        while j < len(S):\n",
    "            if S[j] == S[i]:\n",
    "                count += 1\n",
    "            j += 1\n",
    "    return count\n",
    "\n",
    "S1 = \"abcab\"\n",
    "count1 = countContiguousSubstrings(S1)\n",
    "print(count1) \n",
    "\n",
    "S2 = \"aba\"\n",
    "count2 = countContiguousSubstrings(S2)\n",
    "print(count2)\n"
   ]
  },
  {
   "cell_type": "markdown",
   "id": "2eedcb26",
   "metadata": {},
   "source": [
    "**Question 6**\n",
    "\n",
    "The [tower of Hanoi](https://en.wikipedia.org/wiki/Tower_of_Hanoi) is a famous puzzle where we have three rods and **N** disks. The objective of the puzzle is to move the entire stack to another rod. You are given the number of discs **N**. Initially, these discs are in the rod 1. You need to print all the steps of discs movement so that all the discs reach the 3rd rod. Also, you need to find the total moves.**Note:** The discs are arranged such that the **top disc is numbered 1** and the **bottom-most disc is numbered N**. Also, all the discs have **different sizes** and a bigger disc **cannot** be put on the top of a smaller disc. Refer the provided link to get a better clarity about the puzzle.\n",
    "\n"
   ]
  },
  {
   "cell_type": "markdown",
   "id": "1688dcb3",
   "metadata": {},
   "source": [
    "def towerOfHanoi(n, source, destination, auxiliary):\n",
    "    if n == 1:\n",
    "        print(\"move disk 1 from rod\", source, \"to rod\", destination)\n",
    "        return 1\n",
    "    else:\n",
    "        count = towerOfHanoi(n - 1, source, auxiliary, destination)\n",
    "        print(\"move disk\", n, \"from rod\", source, \"to rod\", destination)\n",
    "        count += 1\n",
    "        count += towerOfHanoi(n - 1, auxiliary, destination, source)\n",
    "        return count\n",
    "\n",
    "#### Example usage\n",
    "\n",
    "Example 1:\n",
    "N = 2\n",
    "steps = towerOfHanoi(N, 1, 3, 2)\n",
    "print(steps)  \n",
    "\n",
    "Input: \\\n",
    "N = 2 \\\n",
    "Output: \\\n",
    "move disk 1 from rod 1 to rod 2 \\\n",
    "move disk 2 from rod 1 to rod 3 \\\n",
    "move disk 1 from rod 2 to rod 3 \\\n",
    "3 \\\n",
    "Explanation:For N=2 , steps will be\n",
    "as follows in the example and total\n",
    "3 steps will be taken.\n",
    "\n",
    "Example 2:\n",
    "Input: \\\n",
    "N = 3 \\\n",
    "Output: \\\n",
    "move disk 1 from rod 1 to rod 3 \\\n",
    "move disk 2 from rod 1 to rod 2 \\\n",
    "move disk 1 from rod 3 to rod 2 \\\n",
    "move disk 3 from rod 1 to rod 3 \\\n",
    "move disk 1 from rod 2 to rod 1 \\\n",
    "move disk 2 from rod 2 to rod 3 \\ \n",
    "move disk 1 from rod 1 to rod 3 \\\n",
    "7 \\\n",
    "Explanation:For N=3 , steps will be\n",
    "as follows in the example and total\n",
    "7 steps will be taken."
   ]
  },
  {
   "cell_type": "code",
   "execution_count": 22,
   "id": "00082278",
   "metadata": {},
   "outputs": [
    {
     "name": "stdout",
     "output_type": "stream",
     "text": [
      "move disk 1 from rod 1 to rod 2\n",
      "move disk 2 from rod 1 to rod 3\n",
      "move disk 1 from rod 2 to rod 3\n",
      "3\n",
      "move disk 1 from rod 1 to rod 3\n",
      "move disk 2 from rod 1 to rod 2\n",
      "move disk 1 from rod 3 to rod 2\n",
      "move disk 3 from rod 1 to rod 3\n",
      "move disk 1 from rod 2 to rod 1\n",
      "move disk 2 from rod 2 to rod 3\n",
      "move disk 1 from rod 1 to rod 3\n",
      "7\n"
     ]
    }
   ],
   "source": [
    "def towerOfHanoi(n, source, destination, auxiliary):\n",
    "    if n == 1:\n",
    "        print(\"move disk 1 from rod\", source, \"to rod\", destination)\n",
    "        return 1\n",
    "    else:\n",
    "        count = towerOfHanoi(n - 1, source, auxiliary, destination)\n",
    "        print(\"move disk\", n, \"from rod\", source, \"to rod\", destination)\n",
    "        count += 1\n",
    "        count += towerOfHanoi(n - 1, auxiliary, destination, source)\n",
    "        return count\n",
    "\n",
    "# Example usage\n",
    "N = 2\n",
    "steps = towerOfHanoi(N, 1, 3, 2)\n",
    "print(steps) \n",
    "\n",
    "N = 3\n",
    "steps = towerOfHanoi(N, 1, 3, 2)\n",
    "print(steps) \n"
   ]
  },
  {
   "cell_type": "markdown",
   "id": "6779aa44",
   "metadata": {},
   "source": [
    "**Question 7**\n",
    "\n",
    "Given a string **str**, the task is to print all the permutations of **str**. A **permutation** is an arrangement of all or part of a set of objects, with regard to the order of the arrangement. For instance, the words ‘bat’ and ‘tab’ represents two distinct permutation (or arrangements) of a similar three letter word.\n",
    "\n",
    "**Examples:**\n",
    "\n",
    "> Input: str = “cd”\n",
    "> \n",
    "> \n",
    "> **Output:** cd dc\n",
    "> \n",
    "> **Input:** str = “abb”\n",
    "> \n",
    "> **Output:** abb abb bab bba bab bba\n"
   ]
  },
  {
   "cell_type": "code",
   "execution_count": 32,
   "id": "c7379500",
   "metadata": {},
   "outputs": [
    {
     "name": "stdout",
     "output_type": "stream",
     "text": [
      "['cd', 'dc']\n",
      "['abb', 'bab', 'bba']\n"
     ]
    }
   ],
   "source": [
    "def permute(string):\n",
    "    permutations = []\n",
    "    used = [False] * len(string)  # Keep track of used characters\n",
    "    generate_permutations(string, \"\", used, permutations)\n",
    "    return permutations\n",
    "\n",
    "def generate_permutations(string, current, used, permutations):\n",
    "    if len(current) == len(string):\n",
    "        permutations.append(current)\n",
    "        return\n",
    "\n",
    "    for i in range(len(string)):\n",
    "        if not used[i]:\n",
    "            # Check if the current character is a duplicate\n",
    "            if i > 0 and string[i] == string[i - 1] and not used[i - 1]:\n",
    "                continue\n",
    "            used[i] = True\n",
    "            generate_permutations(string, current + string[i], used, permutations)\n",
    "            used[i] = False\n",
    "\n",
    "# Example usage\n",
    "str = \"cd\"\n",
    "permutations = permute(str)\n",
    "print(permutations)\n",
    "\n",
    "\n",
    "str = \"abb\"\n",
    "permutations = permute(str)\n",
    "print(permutations)\n"
   ]
  },
  {
   "cell_type": "markdown",
   "id": "d53f76e8",
   "metadata": {},
   "source": [
    "**Question 8**\n",
    "\n",
    "Given a string, count total number of consonants in it. A consonant is an English alphabet character that is not vowel (a, e, i, o and u). Examples of constants are b, c, d, f, and g.\n",
    "\n",
    "**Examples :**\n",
    "Input : abc de\n",
    "Output : 3\n",
    "There are three consonants b, c and d.\n",
    "\n",
    "Input : geeksforgeeks portal\n",
    "Output : 12"
   ]
  },
  {
   "cell_type": "code",
   "execution_count": 33,
   "id": "a57ac816",
   "metadata": {},
   "outputs": [
    {
     "name": "stdout",
     "output_type": "stream",
     "text": [
      "3\n",
      "12\n"
     ]
    }
   ],
   "source": [
    "def count_consonants(string):\n",
    "    consonants = 0\n",
    "    vowels = ['a', 'e', 'i', 'o', 'u']\n",
    "    for char in string:\n",
    "        if char.isalpha() and char.lower() not in vowels:\n",
    "            consonants += 1\n",
    "    return consonants\n",
    "\n",
    "# Example usage\n",
    "str1 = \"abc de\"\n",
    "str2 = \"geeksforgeeks portal\"\n",
    "count1 = count_consonants(str1)\n",
    "count2 = count_consonants(str2)\n",
    "print(count1)  # Output: 3\n",
    "print(count2)  # Output: 12\n"
   ]
  }
 ],
 "metadata": {
  "kernelspec": {
   "display_name": "Python 3 (ipykernel)",
   "language": "python",
   "name": "python3"
  },
  "language_info": {
   "codemirror_mode": {
    "name": "ipython",
    "version": 3
   },
   "file_extension": ".py",
   "mimetype": "text/x-python",
   "name": "python",
   "nbconvert_exporter": "python",
   "pygments_lexer": "ipython3",
   "version": "3.9.7"
  }
 },
 "nbformat": 4,
 "nbformat_minor": 5
}
