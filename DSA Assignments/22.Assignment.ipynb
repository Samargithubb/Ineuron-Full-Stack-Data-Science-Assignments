{
  "nbformat": 4,
  "nbformat_minor": 0,
  "metadata": {
    "colab": {
      "provenance": []
    },
    "kernelspec": {
      "name": "python3",
      "display_name": "Python 3"
    },
    "language_info": {
      "name": "python"
    }
  },
  "cells": [
    {
      "cell_type": "markdown",
      "source": [
        "<aside>\n",
        "💡 Question-1:\n",
        "\n",
        "Given a Binary Tree (Bt), convert it to a Doubly Linked List(DLL). The left and right pointers in nodes are to be used as previous and next pointers respectively in converted DLL. The order of nodes in DLL must be the same as in Inorder for the given Binary Tree. The first node of Inorder traversal (leftmost node in BT) must be the head node of the DLL.\n",
        "\n",
        "</aside>"
      ],
      "metadata": {
        "id": "pt8_fCRdXzgH"
      }
    },
    {
      "cell_type": "code",
      "source": [
        "class TreeNode:\n",
        "    def __init__(self, val):\n",
        "        self.val = val\n",
        "        self.left = None\n",
        "        self.right = None\n",
        "        self.prev = None\n",
        "        self.next = None\n",
        "\n",
        "def convertToDLL(root):\n",
        "    global prev, head\n",
        "    prev = None\n",
        "    head = None\n",
        "    inorderTraversal(root)\n",
        "    return head\n",
        "\n",
        "def inorderTraversal(node):\n",
        "    global prev, head\n",
        "    if node is None:\n",
        "        return\n",
        "    inorderTraversal(node.left)\n",
        "    if prev is None:\n",
        "        head = node\n",
        "    else:\n",
        "        prev.next = node\n",
        "        node.prev = prev\n",
        "    prev = node\n",
        "    inorderTraversal(node.right)\n",
        "\n",
        "# Example usage\n",
        "root = TreeNode(10)\n",
        "root.left = TreeNode(5)\n",
        "root.right = TreeNode(20)\n",
        "root.right.left = TreeNode(30)\n",
        "root.right.right = TreeNode(35)\n",
        "\n",
        "dll_head = convertToDLL(root)\n",
        "\n",
        "# Print the doubly linked list\n",
        "def printDLL(head):\n",
        "    curr = head\n",
        "    while curr is not None:\n",
        "        print(curr.val, end=\" \")\n",
        "        curr = curr.next\n",
        "\n",
        "printDLL(dll_head)\n"
      ],
      "metadata": {
        "colab": {
          "base_uri": "https://localhost:8080/"
        },
        "id": "oUsGNQ4BX3aP",
        "outputId": "4b53ec32-68fd-49ed-f26d-c70222308bda"
      },
      "execution_count": 38,
      "outputs": [
        {
          "output_type": "stream",
          "name": "stdout",
          "text": [
            "5 10 30 20 35 "
          ]
        }
      ]
    },
    {
      "cell_type": "markdown",
      "source": [
        "<aside>\n",
        "💡 Question-2\n",
        "\n",
        "A Given a binary tree, the task is to flip the binary tree towards the right direction that is clockwise. See the below examples to see the transformation.\n",
        "\n",
        "In the flip operation, the leftmost node becomes the root of the flipped tree and its parent becomes its right child and the right sibling becomes its left child and the same should be done for all left most nodes recursively.\n",
        "\n",
        "</aside>"
      ],
      "metadata": {
        "id": "KQBRSrSGYS2j"
      }
    },
    {
      "cell_type": "code",
      "source": [
        "class TreeNode:\n",
        "    def __init__(self, val):\n",
        "        self.val = val\n",
        "        self.left = None\n",
        "        self.right = None\n",
        "\n",
        "def flipBinaryTree(root):\n",
        "    if root is None or (root.left is None and root.right is None):\n",
        "        return root\n",
        "\n",
        "    flipped_left = flipBinaryTree(root.left)\n",
        "    flipped_right = flipBinaryTree(root.right)\n",
        "\n",
        "    root.left = flipped_right\n",
        "    root.right = flipped_left\n",
        "\n",
        "    return root\n",
        "\n",
        "# Helper function to print the tree in pre-order traversal\n",
        "def printTree(root):\n",
        "    if root is None:\n",
        "        return\n",
        "    print(root.val, end=\" \")\n",
        "    printTree(root.left)\n",
        "    printTree(root.right)\n",
        "\n",
        "# Example usage\n",
        "root = TreeNode(1)\n",
        "root.left = TreeNode(2)\n",
        "root.right = TreeNode(3)\n",
        "root.left.left = TreeNode(4)\n",
        "root.left.right = TreeNode(5)\n",
        "\n",
        "flipped_root = flipBinaryTree(root)\n",
        "\n",
        "# Print the flipped tree\n",
        "printTree(flipped_root)\n"
      ],
      "metadata": {
        "colab": {
          "base_uri": "https://localhost:8080/"
        },
        "id": "BpQx1RVbYB7s",
        "outputId": "739fb413-6561-4d2a-9b68-c69210d7d12c"
      },
      "execution_count": 39,
      "outputs": [
        {
          "output_type": "stream",
          "name": "stdout",
          "text": [
            "1 3 2 5 4 "
          ]
        }
      ]
    },
    {
      "cell_type": "code",
      "source": [
        "class TreeNode:\n",
        "    def __init__(self, val):\n",
        "        self.val = val\n",
        "        self.left = None\n",
        "        self.right = None\n",
        "\n",
        "def printRootToLeafPaths(root):\n",
        "    if root is None:\n",
        "        return\n",
        "\n",
        "    stack = [(root, [])]\n",
        "\n",
        "    while stack:\n",
        "        node, path = stack.pop()\n",
        "\n",
        "        if node.left is None and node.right is None:\n",
        "            path.append(node.val)\n",
        "            print(\"->\".join(map(str, path)))\n",
        "            continue\n",
        "\n",
        "        if node.right is not None:\n",
        "            stack.append((node.right, path + [node.val]))\n",
        "\n",
        "        if node.left is not None:\n",
        "            stack.append((node.left, path + [node.val]))\n",
        "\n",
        "# Example usage\n",
        "root = TreeNode(6)\n",
        "root.left = TreeNode(3)\n",
        "root.right = TreeNode(5)\n",
        "root.left.left = TreeNode(2)\n",
        "root.left.right = TreeNode(5)\n",
        "root.right.right = TreeNode(4)\n",
        "root.left.right.left = TreeNode(7)\n",
        "root.left.right.right = TreeNode(4)\n",
        "\n",
        "printRootToLeafPaths(root)\n"
      ],
      "metadata": {
        "colab": {
          "base_uri": "https://localhost:8080/"
        },
        "id": "m0PlBeWZYWJo",
        "outputId": "dcf89963-3afc-400a-d950-bd02c1daaa9e"
      },
      "execution_count": 40,
      "outputs": [
        {
          "output_type": "stream",
          "name": "stdout",
          "text": [
            "6->3->2\n",
            "6->3->5->7\n",
            "6->3->5->4\n",
            "6->5->4\n"
          ]
        }
      ]
    },
    {
      "cell_type": "markdown",
      "source": [
        "<aside>\n",
        "💡 Question-4:\n",
        "\n",
        "Given Preorder, Inorder and Postorder traversals of some tree. Write a program to check if they all are of the same tree.\n",
        "\n",
        "**Examples:**\n",
        "\n",
        "Input :\n",
        "\n",
        "        Inorder -> 4 2 5 1 3\n",
        "        Preorder -> 1 2 4 5 3\n",
        "        Postorder -> 4 5 2 3 1\n",
        "Output :\n",
        "\n",
        "Yes\n",
        "Explanation :\n",
        "\n",
        "All of the above three traversals are of\n",
        "the same tree\n",
        "\n",
        "                           1\n",
        "                         /   \\\n",
        "                        2     3\n",
        "                      /   \\\n",
        "                     4     5\n",
        "\n",
        "Input :\n",
        "\n",
        "        Inorder -> 4 2 5 1 3\n",
        "        Preorder -> 1 5 4 2 3\n",
        "        Postorder -> 4 1 2 3 5\n",
        "Output :\n",
        "\n",
        "No\n",
        "\n",
        "</aside>"
      ],
      "metadata": {
        "id": "b1w6Ee06Yj16"
      }
    },
    {
      "cell_type": "code",
      "source": [
        "def isSameTree(preorder, inorder, postorder):\n",
        "    if not preorder or not inorder or not postorder:\n",
        "        return preorder == inorder == postorder == []\n",
        "\n",
        "    if preorder[0] != postorder[-1]:\n",
        "        return False\n",
        "\n",
        "    root = preorder[0]\n",
        "    root_index = inorder.index(root)\n",
        "\n",
        "    left_preorder = preorder[1:root_index + 1]\n",
        "    left_inorder = inorder[:root_index]\n",
        "    left_postorder = postorder[:root_index]\n",
        "\n",
        "    right_preorder = preorder[root_index + 1:]\n",
        "    right_inorder = inorder[root_index + 1:]\n",
        "    right_postorder = postorder[root_index:-1]\n",
        "\n",
        "    return isSameTree(left_preorder, left_inorder, left_postorder) and isSameTree(right_preorder, right_inorder, right_postorder)\n",
        "\n",
        "# Example usage\n",
        "preorder = [1, 2, 4, 5, 3]\n",
        "inorder = [4, 2, 5, 1, 3]\n",
        "postorder = [4, 5, 2, 3, 1]\n",
        "\n",
        "print(isSameTree(preorder, inorder, postorder))\n",
        "\n",
        "preorder = [1, 5, 4, 2, 3]\n",
        "inorder = [4, 2, 5, 1, 3]\n",
        "postorder = [4, 1, 2, 3, 5]\n",
        "\n",
        "print(isSameTree(preorder, inorder, postorder))\n"
      ],
      "metadata": {
        "colab": {
          "base_uri": "https://localhost:8080/"
        },
        "id": "XGybLdorYf9x",
        "outputId": "ded8a1fd-c168-48fe-d6f7-e308ea90c0e4"
      },
      "execution_count": 42,
      "outputs": [
        {
          "output_type": "stream",
          "name": "stdout",
          "text": [
            "True\n",
            "False\n"
          ]
        }
      ]
    },
    {
      "cell_type": "code",
      "source": [],
      "metadata": {
        "id": "EMV8UOuYY0Mq"
      },
      "execution_count": null,
      "outputs": []
    }
  ]
}