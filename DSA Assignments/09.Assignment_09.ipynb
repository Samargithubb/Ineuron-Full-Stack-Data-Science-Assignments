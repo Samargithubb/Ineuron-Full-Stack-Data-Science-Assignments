{
 "cells": [
  {
   "cell_type": "markdown",
   "id": "b3d0b434",
   "metadata": {},
   "source": [
    "**Question 1**\n",
    "\n",
    "Given an integer `n`, return *`true` if it is a power of two. Otherwise, return `false`*.\n",
    "\n",
    "An integer `n` is a power of two, if there exists an integer `x` such that `n == 2x`.\n",
    "\n",
    "**Example 1:**\n",
    "Input: n = 1 \n",
    "\n",
    "Output: true\n",
    "\n",
    "**Example 2:**\n",
    "Input: n = 16 \n",
    "\n",
    "Output: true\n",
    "\n",
    "**Example 3:**\n",
    "Input: n = 3 \n",
    "\n",
    "Output: false\n"
   ]
  },
  {
   "cell_type": "code",
   "execution_count": 4,
   "id": "96795998",
   "metadata": {},
   "outputs": [],
   "source": [
    "def isPowerOfTwo(n):\n",
    "    if n<=0:\n",
    "        return False\n",
    "    \n",
    "    while n>1:\n",
    "        if n%2!=0:\n",
    "            return False\n",
    "        else:\n",
    "            n //=2\n",
    "    return n==1"
   ]
  },
  {
   "cell_type": "code",
   "execution_count": 7,
   "id": "767cd1fd",
   "metadata": {},
   "outputs": [
    {
     "name": "stdout",
     "output_type": "stream",
     "text": [
      "True\n",
      "True\n",
      "False\n"
     ]
    }
   ],
   "source": [
    "print(isPowerOfTwo(1))  \n",
    "print(isPowerOfTwo(16))  \n",
    "print(isPowerOfTwo(3))   "
   ]
  },
  {
   "cell_type": "markdown",
   "id": "cf289823",
   "metadata": {},
   "source": [
    "**Question 2**\n",
    "\n",
    "Given a number n, find the sum of the first natural numbers.\n",
    "\n",
    "**Example 1:**\n",
    "\n",
    "Input: n = 3 \n",
    "\n",
    "Output: 6\n",
    "\n",
    "**Example 2:**\n",
    "\n",
    "Input  : 5 \n",
    "\n",
    "Output : 15\n",
    "\n"
   ]
  },
  {
   "cell_type": "code",
   "execution_count": 13,
   "id": "871c72a8",
   "metadata": {},
   "outputs": [
    {
     "name": "stdout",
     "output_type": "stream",
     "text": [
      "6\n",
      "15\n"
     ]
    }
   ],
   "source": [
    "def sumOfFirstNumbers(n):\n",
    "    sum = (n*(n+1))//2\n",
    "    return sum \n",
    "\n",
    "print(sumOfFirstNumbers(3))  \n",
    "print(sumOfFirstNumbers(5))  \n"
   ]
  },
  {
   "cell_type": "markdown",
   "id": "b0b9771a",
   "metadata": {},
   "source": [
    "**Question 3**\n",
    "\n",
    "****Given a positive integer, N. Find the factorial of N. \n",
    "\n",
    "**Example 1:**\n",
    "\n",
    "Input: N = 5 \n",
    "\n",
    "Output: 120\n",
    "\n",
    "**Example 2:**\n",
    "\n",
    "Input: N = 4\n",
    "\n",
    "Output: 24\n"
   ]
  },
  {
   "cell_type": "code",
   "execution_count": 15,
   "id": "a142d6cb",
   "metadata": {},
   "outputs": [],
   "source": [
    "def factorial(n):\n",
    "    fact = 1\n",
    "    for i in range(1,n+1):\n",
    "        fact*=i\n",
    "    return fact"
   ]
  },
  {
   "cell_type": "code",
   "execution_count": 16,
   "id": "adbde6f7",
   "metadata": {},
   "outputs": [
    {
     "name": "stdout",
     "output_type": "stream",
     "text": [
      "120\n",
      "24\n"
     ]
    }
   ],
   "source": [
    "print(factorial(5)) \n",
    "print(factorial(4))  "
   ]
  },
  {
   "cell_type": "markdown",
   "id": "b175b4bf",
   "metadata": {},
   "source": [
    "**Question 4**\n",
    "\n",
    "Given a number N and a power P, the task is to find the exponent of this number raised to the given power, i.e. N^P.\n",
    "\n",
    "**Example 1 :** \n",
    "\n",
    "Input: N = 5, P = 2\n",
    "\n",
    "Output: 25\n",
    "\n",
    "**Example 2 :**\n",
    "Input: N = 2, P = 5\n",
    "\n",
    "Output: 32"
   ]
  },
  {
   "cell_type": "code",
   "execution_count": 18,
   "id": "92000478",
   "metadata": {},
   "outputs": [
    {
     "name": "stdout",
     "output_type": "stream",
     "text": [
      "25\n",
      "32\n"
     ]
    }
   ],
   "source": [
    "def findExponent(N, P):\n",
    "    result = N ** P\n",
    "    return result\n",
    "\n",
    "print(findExponent(5, 2)) \n",
    "print(findExponent(2, 5))"
   ]
  },
  {
   "cell_type": "markdown",
   "id": "c5ca07da",
   "metadata": {},
   "source": [
    "**Question 5**\n",
    "\n",
    "Given an array of integers **arr**, the task is to find maximum element of that array using recursion.\n",
    "\n",
    "**Example 1:**\n",
    "\n",
    "Input: arr = {1, 4, 3, -5, -4, 8, 6};\n",
    "Output: 8\n",
    "\n",
    "**Example 2:**\n",
    "\n",
    "Input: arr = {1, 4, 45, 6, 10, -8};\n",
    "Output: 45\n"
   ]
  },
  {
   "cell_type": "code",
   "execution_count": 26,
   "id": "91008c0a",
   "metadata": {},
   "outputs": [
    {
     "name": "stdout",
     "output_type": "stream",
     "text": [
      "8\n",
      "45\n"
     ]
    }
   ],
   "source": [
    "def findMax(arr):\n",
    "    if len(arr) == 1:\n",
    "        return arr[0]\n",
    "    else:\n",
    "        mid = len(arr) // 2\n",
    "        left_max = findMax(arr[:mid])\n",
    "        right_max = findMax(arr[mid:])\n",
    "        return max(left_max, right_max)\n",
    "\n",
    "\n",
    "arr = [1, 4, 3, -5, -4, 8, 6]\n",
    "print(findMax(arr))  \n",
    "\n",
    "arr = [1, 4, 45, 6, 10, -8]\n",
    "print(findMax(arr))  \n"
   ]
  },
  {
   "cell_type": "markdown",
   "id": "f25952fe",
   "metadata": {},
   "source": [
    "**Question 6**\n",
    "\n",
    "Given first term (a), common difference (d) and a integer N of the Arithmetic Progression series, the task is to find Nth term of the series.\n",
    "\n",
    "**Example 1:**\n",
    "\n",
    "Input : a = 2 d = 1 N = 5\n",
    "Output : 6\n",
    "The 5th term of the series is : 6\n",
    "\n",
    "**Example 2:**\n",
    "\n",
    "Input : a = 5 d = 2 N = 10\n",
    "Output : 23\n",
    "The 10th term of the series is : 23"
   ]
  },
  {
   "cell_type": "code",
   "execution_count": 28,
   "id": "6b9fd03c",
   "metadata": {},
   "outputs": [
    {
     "name": "stdout",
     "output_type": "stream",
     "text": [
      "6\n",
      "23\n"
     ]
    }
   ],
   "source": [
    "def findNthTerm(a, d, N):\n",
    "    nthTerm = a + (N - 1) * d\n",
    "    return nthTerm\n",
    "\n",
    "a = 2\n",
    "d = 1\n",
    "N = 5\n",
    "print(findNthTerm(a, d, N))  \n",
    "\n",
    "a = 5\n",
    "d = 2\n",
    "N = 10\n",
    "print(findNthTerm(a, d, N))  \n"
   ]
  },
  {
   "cell_type": "markdown",
   "id": "991e1272",
   "metadata": {},
   "source": [
    "**Question 7**\n",
    "\n",
    "Given a string S, the task is to write a program to print all permutations of a given string.\n",
    "\n",
    "**Example 1:**\n",
    "\n",
    "***Input:***\n",
    "\n",
    "*S = “ABC”*\n",
    "\n",
    "***Output:***\n",
    "\n",
    "*“ABC”, “ACB”, “BAC”, “BCA”, “CBA”, “CAB”*\n",
    "\n",
    "**Example 2:**\n",
    "\n",
    "***Input:***\n",
    "\n",
    "*S = “XY”*\n",
    "\n",
    "***Output:***\n",
    "\n",
    "*“XY”, “YX”*\n"
   ]
  },
  {
   "cell_type": "code",
   "execution_count": 29,
   "id": "ec489b32",
   "metadata": {},
   "outputs": [
    {
     "name": "stdout",
     "output_type": "stream",
     "text": [
      "['ABC', 'ACB', 'BAC', 'BCA', 'CBA', 'CAB']\n",
      "['XY', 'YX']\n"
     ]
    }
   ],
   "source": [
    "def permutations(string):\n",
    "    # Convert the string to a list for easier manipulation\n",
    "    char_list = list(string)\n",
    "    n = len(char_list)\n",
    "    result = []\n",
    "    permute(char_list, 0, n - 1, result)\n",
    "    return result\n",
    "\n",
    "\n",
    "def permute(char_list, l, r, result):\n",
    "    if l == r:\n",
    "        # Found a permutation, convert the list back to a string\n",
    "        result.append(\"\".join(char_list))\n",
    "    else:\n",
    "        for i in range(l, r + 1):\n",
    "            # Swap the current character with each character in the remaining part\n",
    "            char_list[l], char_list[i] = char_list[i], char_list[l]\n",
    "            # Recursively generate permutations for the remaining part\n",
    "            permute(char_list, l + 1, r, result)\n",
    "            # Restore the original order by swapping back\n",
    "            char_list[l], char_list[i] = char_list[i], char_list[l]\n",
    "\n",
    "\n",
    "S = \"ABC\"\n",
    "print(permutations(S)) \n",
    "\n",
    "S = \"XY\"\n",
    "print(permutations(S)) \n"
   ]
  },
  {
   "cell_type": "markdown",
   "id": "54d79874",
   "metadata": {},
   "source": [
    "**Question 8**\n",
    "\n",
    "Given an array, find a product of all array elements.\n",
    "\n",
    "**Example 1:**\n",
    "\n",
    "Input  : arr[] = {1, 2, 3, 4, 5}\n",
    "Output : 120\n",
    "\n",
    "**Example 2:**\n",
    "\n",
    "Input  : arr[] = {1, 6, 3}\n",
    "Output : 18"
   ]
  },
  {
   "cell_type": "code",
   "execution_count": 31,
   "id": "c554b475",
   "metadata": {},
   "outputs": [
    {
     "name": "stdout",
     "output_type": "stream",
     "text": [
      "120\n"
     ]
    }
   ],
   "source": [
    "def productOfArray(arr):\n",
    "    product = 1\n",
    "    for num in arr:\n",
    "        product *= num\n",
    "    return product\n",
    "arr = {1, 2, 3, 4, 5}\n",
    "print(productOfArray(arr))"
   ]
  }
 ],
 "metadata": {
  "kernelspec": {
   "display_name": "Python 3 (ipykernel)",
   "language": "python",
   "name": "python3"
  },
  "language_info": {
   "codemirror_mode": {
    "name": "ipython",
    "version": 3
   },
   "file_extension": ".py",
   "mimetype": "text/x-python",
   "name": "python",
   "nbconvert_exporter": "python",
   "pygments_lexer": "ipython3",
   "version": "3.9.7"
  }
 },
 "nbformat": 4,
 "nbformat_minor": 5
}
