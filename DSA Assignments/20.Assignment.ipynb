{
  "nbformat": 4,
  "nbformat_minor": 0,
  "metadata": {
    "colab": {
      "provenance": []
    },
    "kernelspec": {
      "name": "python3",
      "display_name": "Python 3"
    },
    "language_info": {
      "name": "python"
    }
  },
  "cells": [
    {
      "cell_type": "markdown",
      "source": [
        "\n",
        "💡 Question-1\n",
        "\n",
        "Given a binary tree, your task is to find subtree with maximum sum in tree.\n",
        "\n",
        "Examples:\n",
        "```\n",
        "Input1 :\n",
        "\n",
        "       1\n",
        "\n",
        "     /   \\\n",
        "\n",
        "   2      3\n",
        "\n",
        "  / \\    / \\\n",
        "\n",
        "4   5  6   7\n",
        "\n",
        "Output1 : 28\n",
        "\n",
        "As all the tree elements are positive, the largest subtree sum is equal to sum of all tree elements.\n",
        "\n",
        "Input2 :\n",
        "\n",
        "       1\n",
        "\n",
        "     /    \\\n",
        "\n",
        "  -2      3\n",
        "\n",
        "  / \\    /  \\\n",
        "\n",
        "4   5  -6   2\n",
        "\n",
        "Output2 : 7\n",
        "\n",
        "Subtree with largest sum is :\n",
        "\n",
        " -2\n",
        "\n",
        " / \\\n",
        "\n",
        "4   5\n",
        "\n",
        "Also, entire tree sum is also 7.\n",
        "\n",
        "```"
      ],
      "metadata": {
        "id": "dCIrqwPLTCCi"
      }
    },
    {
      "cell_type": "code",
      "source": [
        "class Node:\n",
        "    def __init__(self, val):\n",
        "        self.val = val\n",
        "        self.left = None\n",
        "        self.right = None\n",
        "\n",
        "def findMaxSubtreeSum(root):\n",
        "    if root is None:\n",
        "        return 0\n",
        "\n",
        "    global maxSum, maxRoot\n",
        "    leftSum = findMaxSubtreeSum(root.left)\n",
        "    rightSum = findMaxSubtreeSum(root.right)\n",
        "\n",
        "    currentSum = root.val + leftSum + rightSum\n",
        "\n",
        "    if currentSum > maxSum:\n",
        "        maxSum = currentSum\n",
        "        maxRoot = root\n",
        "\n",
        "    return currentSum\n",
        "\n",
        "# Example usage\n",
        "# Constructing the binary tree from the example\n",
        "root = Node(1)\n",
        "root.left = Node(-2)\n",
        "root.right = Node(3)\n",
        "root.left.left = Node(4)\n",
        "root.left.right = Node(5)\n",
        "root.right.left = Node(-6)\n",
        "root.right.right = Node(2)\n",
        "\n",
        "# Initialize maxSum and maxRoot\n",
        "maxSum = float('-inf')\n",
        "maxRoot = None\n",
        "\n",
        "# Call the function to find the subtree with maximum sum\n",
        "findMaxSubtreeSum(root)\n",
        "\n",
        "# Print the maximum sum and the subtree\n",
        "print(\"Maximum Sum:\", maxSum)\n",
        "print(\"Subtree with Maximum Sum:\", maxRoot.val)\n"
      ],
      "metadata": {
        "colab": {
          "base_uri": "https://localhost:8080/"
        },
        "id": "Ck3QKFEJTa6n",
        "outputId": "bdb2664e-5132-4900-f13e-b88b870737d7"
      },
      "execution_count": 22,
      "outputs": [
        {
          "output_type": "stream",
          "name": "stdout",
          "text": [
            "Maximum Sum: 7\n",
            "Subtree with Maximum Sum: -2\n"
          ]
        }
      ]
    },
    {
      "cell_type": "markdown",
      "source": [
        "\n",
        "💡 Question-2\n",
        "```\n",
        "Construct the BST (Binary Search Tree) from its given level order traversal.\n",
        "\n",
        "Example:\n",
        "\n",
        "Input: arr[] = {7, 4, 12, 3, 6, 8, 1, 5, 10}\n",
        "\n",
        "Output: BST:\n",
        "\n",
        "            7\n",
        "\n",
        "         /    \\\n",
        "\n",
        "       4     12\n",
        "\n",
        "     /  \\     /\n",
        "\n",
        "    3   6  8\n",
        "\n",
        "   /    /     \\\n",
        "\n",
        " 1    5      10\n",
        "\n",
        "```"
      ],
      "metadata": {
        "id": "0kxTuX_oT21k"
      }
    },
    {
      "cell_type": "code",
      "source": [
        "class Node:\n",
        "    def __init__(self, val):\n",
        "        self.val = val\n",
        "        self.left = None\n",
        "        self.right = None\n",
        "\n",
        "def constructBST(arr):\n",
        "    if not arr:\n",
        "        return None\n",
        "\n",
        "    root = Node(arr[0])\n",
        "    queue = [root]\n",
        "    i = 1\n",
        "\n",
        "    while queue:\n",
        "        node = queue.pop(0)\n",
        "\n",
        "        if i < len(arr):\n",
        "            if arr[i] < node.val:\n",
        "                node.left = Node(arr[i])\n",
        "                queue.append(node.left)\n",
        "                i += 1\n",
        "\n",
        "        if i < len(arr):\n",
        "            if arr[i] > node.val:\n",
        "                node.right = Node(arr[i])\n",
        "                queue.append(node.right)\n",
        "                i += 1\n",
        "\n",
        "    return root\n",
        "\n",
        "# Example usage\n",
        "arr = [7, 4, 12, 3, 6, 8, 1, 5, 10]\n",
        "root = constructBST(arr)\n",
        "\n",
        "# Function to print the BST in in-order traversal\n",
        "def inorder(node):\n",
        "    if node:\n",
        "        inorder(node.left)\n",
        "        print(node.val, end=\" \")\n",
        "        inorder(node.right)\n",
        "\n",
        "# Print the BST in in-order traversal\n",
        "inorder(root)\n"
      ],
      "metadata": {
        "colab": {
          "base_uri": "https://localhost:8080/"
        },
        "id": "YZNX0gMYTuMF",
        "outputId": "91bf1db9-7091-477d-e50d-bba00a348787"
      },
      "execution_count": 23,
      "outputs": [
        {
          "output_type": "stream",
          "name": "stdout",
          "text": [
            "1 3 5 4 6 10 7 8 12 "
          ]
        }
      ]
    },
    {
      "cell_type": "markdown",
      "source": [
        "<aside>\n",
        "💡 Question-3\n",
        "\n",
        "Given an array of size n. The problem is to check whether the given array can represent the level order traversal of a Binary Search Tree or not.\n",
        "\n",
        "Examples:\n",
        "```\n",
        "Input1 : arr[] = {7, 4, 12, 3, 6, 8, 1, 5, 10}\n",
        "\n",
        "Output1 : Yes\n",
        "\n",
        "For the given arr[], the Binary Search Tree is:\n",
        "\n",
        "            7\n",
        "\n",
        "         /    \\\n",
        "\n",
        "       4     12\n",
        "\n",
        "     /  \\     /\n",
        "\n",
        "    3   6  8\n",
        "\n",
        "   /    /     \\\n",
        "\n",
        " 1    5      10\n",
        "\n",
        "Input2 : arr[] = {11, 6, 13, 5, 12, 10}\n",
        "\n",
        "Output2 : No\n",
        "\n",
        "The given arr[] does not represent the level order traversal of a BST.\n",
        "```\n",
        "</aside>"
      ],
      "metadata": {
        "id": "6FriQD_QUPcK"
      }
    },
    {
      "cell_type": "code",
      "source": [
        "def isValidLevelOrder(arr):\n",
        "    if not arr:\n",
        "        return True\n",
        "\n",
        "    n = len(arr)\n",
        "    i = 0\n",
        "\n",
        "    def checkBSTUtil(arr, n, index, min_val, max_val):\n",
        "        if index >= n:\n",
        "            return True\n",
        "\n",
        "        if arr[index] < min_val or arr[index] > max_val:\n",
        "            return False\n",
        "\n",
        "        left_index = 2 * index + 1\n",
        "        right_index = 2 * index + 2\n",
        "\n",
        "        if left_index < n and arr[left_index] > arr[index]:\n",
        "            return False\n",
        "\n",
        "        if right_index < n and arr[right_index] < arr[index]:\n",
        "            return False\n",
        "\n",
        "        return (\n",
        "            checkBSTUtil(arr, n, left_index, min_val, arr[index])\n",
        "            and checkBSTUtil(arr, n, right_index, arr[index], max_val)\n",
        "        )\n",
        "\n",
        "    return checkBSTUtil(arr, n, i, float('-inf'), float('inf'))\n",
        "\n",
        "\n",
        "# Example usage\n",
        "arr1 = [7, 4, 12, 3, 6, 8, 1, 5, 10]\n",
        "print(isValidLevelOrder(arr1))\n",
        "\n",
        "arr2 = [11, 6, 13, 5, 12, 10]\n",
        "print(isValidLevelOrder(arr2))\n"
      ],
      "metadata": {
        "colab": {
          "base_uri": "https://localhost:8080/"
        },
        "id": "srrq9H29UCna",
        "outputId": "c17ebe3e-76c5-41ff-d403-84bcc7829598"
      },
      "execution_count": 28,
      "outputs": [
        {
          "output_type": "stream",
          "name": "stdout",
          "text": [
            "False\n",
            "False\n"
          ]
        }
      ]
    },
    {
      "cell_type": "code",
      "source": [],
      "metadata": {
        "id": "PLGyCbptUVPp"
      },
      "execution_count": null,
      "outputs": []
    }
  ]
}