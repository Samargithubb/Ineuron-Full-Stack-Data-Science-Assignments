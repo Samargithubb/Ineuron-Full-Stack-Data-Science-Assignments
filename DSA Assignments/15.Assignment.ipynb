{
  "nbformat": 4,
  "nbformat_minor": 0,
  "metadata": {
    "colab": {
      "provenance": []
    },
    "kernelspec": {
      "name": "python3",
      "display_name": "Python 3"
    },
    "language_info": {
      "name": "python"
    }
  },
  "cells": [
    {
      "cell_type": "markdown",
      "source": [
        "<aside>\n",
        "💡 **Question 1**\n",
        "\n",
        "Given an array **arr[ ]** of size **N** having elements, the task is to find the next greater element for each element of the array in order of their appearance in the array.Next greater element of an element in the array is the nearest element on the right which is greater than the current element.If there does not exist next greater of current element, then next greater element for current element is -1. For example, next greater of the last element is always -1.\n",
        "\n",
        "**Example 1:**\n",
        "\n",
        "```\n",
        "Input:\n",
        "N = 4, arr[] = [1 3 2 4]\n",
        "Output:\n",
        "3 4 4 -1\n",
        "Explanation:\n",
        "In the array, the next larger element\n",
        "to 1 is 3 , 3 is 4 , 2 is 4 and for 4 ?\n",
        "since it doesn't exist, it is -1.\n",
        "\n",
        "```\n",
        "\n",
        "**Example 2:**\n",
        "```\n",
        "Input:\n",
        "N = 5, arr[] [6 8 0 1 3]\n",
        "Output:\n",
        "8 -1 1 3 -1\n",
        "Explanation:\n",
        "In the array, the next larger element to\n",
        "6 is 8, for 8 there is no larger elements\n",
        "hence it is -1, for 0 it is 1 , for 1 it\n",
        "is 3 and then for 3 there is no larger\n",
        "element on right and hence -1.\n"
      ],
      "metadata": {
        "id": "5vLUET3SWN26"
      }
    },
    {
      "cell_type": "code",
      "source": [
        "def findNextGreaterElements(arr):\n",
        "    stack = []\n",
        "    result = [-1] * len(arr)\n",
        "\n",
        "    for i in range(len(arr)-1, -1, -1):\n",
        "        while stack and stack[-1] <= arr[i]:\n",
        "            stack.pop()\n",
        "\n",
        "        if stack:\n",
        "            result[i] = stack[-1]\n",
        "\n",
        "        stack.append(arr[i])\n",
        "\n",
        "    return result\n",
        "\n",
        "# Example usage:\n",
        "arr = [1, 3, 2, 4]\n",
        "nextGreaterElements = findNextGreaterElements(arr)\n",
        "print(nextGreaterElements)\n"
      ],
      "metadata": {
        "colab": {
          "base_uri": "https://localhost:8080/"
        },
        "id": "R6L2DNlJWNDX",
        "outputId": "7ac274a5-b04a-4fd2-cd80-7c2d3508749f"
      },
      "execution_count": 1,
      "outputs": [
        {
          "output_type": "stream",
          "name": "stdout",
          "text": [
            "[3, 4, 4, -1]\n"
          ]
        }
      ]
    },
    {
      "cell_type": "markdown",
      "source": [
        "**Question 2**\n",
        "\n",
        "Given an array **a** of integers of length **n**, find the nearest smaller number for every element such that the smaller element is on left side.If no small element present on the left print -1.\n",
        "\n",
        "**Example 1:**\n",
        "\n",
        "```\n",
        "Input: n = 3\n",
        "a = {1, 6, 2}\n",
        "Output: -1 1 1\n",
        "Explaination: There is no number at the\n",
        "left of 1. Smaller number than 6 and 2 is 1.\n",
        "```\n",
        "\n",
        "**Example 2:**\n",
        "\n",
        "```\n",
        "Input: n = 6\n",
        "a = {1, 5, 0, 3, 4, 5}\n",
        "Output: -1 1 -1 0 3 4\n",
        "Explaination: Upto 3 it is easy to see\n",
        "the smaller numbers. But for 4 the smaller\n",
        "numbers are 1, 0 and 3. But among them 3\n",
        "is closest. Similary for 5 it is 4.\n",
        "```"
      ],
      "metadata": {
        "id": "CpORCdxLWwP5"
      }
    },
    {
      "cell_type": "code",
      "source": [
        "def findNearestSmallerNumbers(arr):\n",
        "    stack = []\n",
        "    result = [-1] * len(arr)\n",
        "\n",
        "    for i in range(len(arr)):\n",
        "        while stack and stack[-1] >= arr[i]:\n",
        "            stack.pop()\n",
        "\n",
        "        if stack:\n",
        "            result[i] = stack[-1]\n",
        "\n",
        "        stack.append(arr[i])\n",
        "\n",
        "    return result\n",
        "\n",
        "# Example usage:\n",
        "arr = [1, 6, 2]\n",
        "nearestSmallerNumbers = findNearestSmallerNumbers(arr)\n",
        "print(nearestSmallerNumbers)\n"
      ],
      "metadata": {
        "colab": {
          "base_uri": "https://localhost:8080/"
        },
        "id": "ULXOiXqeWiuv",
        "outputId": "0560a072-f482-4813-c046-741efe4c6be3"
      },
      "execution_count": 2,
      "outputs": [
        {
          "output_type": "stream",
          "name": "stdout",
          "text": [
            "[-1, 1, 1]\n"
          ]
        }
      ]
    },
    {
      "cell_type": "markdown",
      "source": [
        "<aside>\n",
        "💡 **Question 3**\n",
        "\n",
        "Implement a Stack using two queues **q1** and **q2**.\n",
        "\n",
        "**Example 1:**\n",
        "\n",
        "```\n",
        "Input:\n",
        "push(2)\n",
        "push(3)\n",
        "pop()\n",
        "push(4)\n",
        "pop()\n",
        "Output:3 4\n",
        "Explanation:\n",
        "push(2) the stack will be {2}\n",
        "push(3) the stack will be {2 3}\n",
        "pop()   poped element will be 3 the\n",
        "        stack will be {2}\n",
        "push(4) the stack will be {2 4}\n",
        "pop()   poped element will be 4\n",
        "\n",
        "```\n",
        "\n",
        "**Example 2:**\n",
        "\n",
        "```\n",
        "Input:\n",
        "push(2)\n",
        "pop()\n",
        "pop()\n",
        "push(3)\n",
        "Output:2 -1\n",
        "```"
      ],
      "metadata": {
        "id": "FaE1ZWH9XEAp"
      }
    },
    {
      "cell_type": "code",
      "source": [
        "class StackUsingQueues:\n",
        "    def __init__(self):\n",
        "        self.q1 = []\n",
        "        self.q2 = []\n",
        "\n",
        "    def push(self, element):\n",
        "        self.q1.append(element)\n",
        "\n",
        "    def pop(self):\n",
        "        if not self.q1 and not self.q2:\n",
        "            return -1\n",
        "\n",
        "        while len(self.q1) > 1:\n",
        "            self.q2.append(self.q1.pop(0))\n",
        "\n",
        "        return self.q1.pop(0) if self.q1 else self.q2.pop(0)\n",
        "\n",
        "    def top(self):\n",
        "        if self.q1:\n",
        "            return self.q1[-1] if self.q1 else -1\n",
        "        else:\n",
        "            return -1\n",
        "\n",
        "# Example usage:\n",
        "stack = StackUsingQueues()\n",
        "stack.push(2)\n",
        "stack.push(3)\n",
        "print(stack.pop())\n",
        "stack.push(4)\n",
        "print(stack.pop())\n"
      ],
      "metadata": {
        "colab": {
          "base_uri": "https://localhost:8080/"
        },
        "id": "LHwGQ9H3XP13",
        "outputId": "9ff14415-272b-4f41-f511-6eaf5f756ca7"
      },
      "execution_count": 6,
      "outputs": [
        {
          "output_type": "stream",
          "name": "stdout",
          "text": [
            "3\n",
            "4\n"
          ]
        }
      ]
    },
    {
      "cell_type": "markdown",
      "source": [
        "**Question 4**\n",
        "\n",
        "You are given a stack **St**. You have to reverse the stack using recursion.\n",
        "\n",
        "**Example 1:**\n",
        "\n",
        "```\n",
        "Input:St = {3,2,1,7,6}\n",
        "Output:{6,7,1,2,3}\n",
        "```\n",
        "\n",
        "**Example 2:**\n",
        "\n",
        "```\n",
        "Input:St = {4,3,9,6}\n",
        "Output:{6,9,3,4}\n",
        "\n",
        "```"
      ],
      "metadata": {
        "id": "ZjlEFk8OXaFX"
      }
    },
    {
      "cell_type": "code",
      "source": [
        "def reverseStack(stack):\n",
        "    if len(stack) <= 1:\n",
        "        return\n",
        "\n",
        "    topElement = stack.pop()\n",
        "    reverseStack(stack)\n",
        "    insertAtBottom(stack, topElement)\n",
        "\n",
        "def insertAtBottom(stack, element):\n",
        "    if len(stack) == 0:\n",
        "        stack.append(element)\n",
        "    else:\n",
        "        top = stack.pop()\n",
        "        insertAtBottom(stack, element)\n",
        "        stack.append(top)\n",
        "\n",
        "# Example usage:\n",
        "stack = [3, 2, 1, 7, 6]\n",
        "reverseStack(stack)\n",
        "print(stack)\n"
      ],
      "metadata": {
        "colab": {
          "base_uri": "https://localhost:8080/"
        },
        "id": "IiwWwFS_Xngz",
        "outputId": "b468c53f-f219-4943-bd6d-53796fdf309f"
      },
      "execution_count": 7,
      "outputs": [
        {
          "output_type": "stream",
          "name": "stdout",
          "text": [
            "[6, 7, 1, 2, 3]\n"
          ]
        }
      ]
    },
    {
      "cell_type": "markdown",
      "source": [
        "**Question 5**\n",
        "\n",
        "You are given a string **S**, the task is to reverse the string using stack.\n",
        "\n",
        "**Example 1:**\n",
        "Input: S=\"GeeksforGeeks\"\n",
        "Output: skeeGrofskeeG\n"
      ],
      "metadata": {
        "id": "tiw4t2KlYdMX"
      }
    },
    {
      "cell_type": "code",
      "source": [
        "def reverseString(S):\n",
        "    stack = []\n",
        "    for char in S:\n",
        "        stack.append(char)\n",
        "\n",
        "    reversed_string = \"\"\n",
        "    while stack:\n",
        "        reversed_string += stack.pop()\n",
        "\n",
        "    return reversed_string\n",
        "\n",
        "# Example usage:\n",
        "S = \"GeeksforGeeks\"\n",
        "reversed_string = reverseString(S)\n",
        "print(reversed_string)"
      ],
      "metadata": {
        "colab": {
          "base_uri": "https://localhost:8080/"
        },
        "id": "4ZcXDHgoXskB",
        "outputId": "1d3ef254-967a-4083-baae-5e6f57e8ee14"
      },
      "execution_count": 8,
      "outputs": [
        {
          "output_type": "stream",
          "name": "stdout",
          "text": [
            "skeeGrofskeeG\n"
          ]
        }
      ]
    },
    {
      "cell_type": "markdown",
      "source": [
        "**Question 6**\n",
        "\n",
        "Given string **S** representing a postfix expression, the task is to evaluate the expression and find the final value. Operators will only include the basic arithmetic operators like ***, /, + and -**.\n",
        "\n",
        "**Example 1:**\n",
        "\n",
        "```\n",
        "Input: S = \"231*+9-\"\n",
        "Output: -4\n",
        "Explanation:\n",
        "After solving the given expression,\n",
        "we have -4 as result.\n",
        "\n",
        "```\n",
        "\n",
        "**Example 2:**\n",
        "```\n",
        "Input: S = \"123+*8-\"\n",
        "Output: -3\n",
        "Explanation:\n",
        "After solving the given postfix\n",
        "expression, we have -3 as result.\n",
        "\n",
        "```"
      ],
      "metadata": {
        "id": "rcy_IVXnYuDX"
      }
    },
    {
      "cell_type": "code",
      "source": [
        "def evaluatePostfixExpression(S):\n",
        "    stack = []\n",
        "\n",
        "    for char in S:\n",
        "        if char.isdigit():\n",
        "            stack.append(int(char))\n",
        "        else:\n",
        "            operand2 = stack.pop()\n",
        "            operand1 = stack.pop()\n",
        "\n",
        "            if char == '+':\n",
        "                result = operand1 + operand2\n",
        "            elif char == '-':\n",
        "                result = operand1 - operand2\n",
        "            elif char == '*':\n",
        "                result = operand1 * operand2\n",
        "            elif char == '/':\n",
        "                result = operand1 / operand2\n",
        "\n",
        "            stack.append(result)\n",
        "\n",
        "    return stack.pop()\n",
        "\n",
        "# Example usage:\n",
        "S = \"231*+9-\"\n",
        "result = evaluatePostfixExpression(S)\n",
        "print(result)\n"
      ],
      "metadata": {
        "colab": {
          "base_uri": "https://localhost:8080/"
        },
        "id": "SbgCxh5GYoLL",
        "outputId": "ba8dea8f-5f80-484a-c08a-4775284aa7b0"
      },
      "execution_count": 9,
      "outputs": [
        {
          "output_type": "stream",
          "name": "stdout",
          "text": [
            "-4\n"
          ]
        }
      ]
    },
    {
      "cell_type": "markdown",
      "source": [
        "**Question 7**\n",
        "\n",
        "Design a stack that supports push, pop, top, and retrieving the minimum element in constant time.\n",
        "\n",
        "Implement the `MinStack` class:\n",
        "\n",
        "- `MinStack()` initializes the stack object.\n",
        "- `void push(int val)` pushes the element `val` onto the stack.\n",
        "- `void pop()` removes the element on the top of the stack.\n",
        "- `int top()` gets the top element of the stack.\n",
        "- `int getMin()` retrieves the minimum element in the stack.\n",
        "\n",
        "You must implement a solution with `O(1)` time complexity for each function.\n",
        "\n",
        "**Example 1:**\n",
        "\n",
        "```\n",
        "Input\n",
        "[\"MinStack\",\"push\",\"push\",\"push\",\"getMin\",\"pop\",\"top\",\"getMin\"]\n",
        "[[],[-2],[0],[-3],[],[],[],[]]\n",
        "\n",
        "Output\n",
        "[null,null,null,null,-3,null,0,-2]\n",
        "\n",
        "Explanation\n",
        "MinStack minStack = new MinStack();\n",
        "minStack.push(-2);\n",
        "minStack.push(0);\n",
        "minStack.push(-3);\n",
        "minStack.getMin(); // return -3\n",
        "minStack.pop();\n",
        "minStack.top();    // return 0\n",
        "minStack.getMin(); // return -2\n",
        "```\n"
      ],
      "metadata": {
        "id": "VXvR7CNbZHBD"
      }
    },
    {
      "cell_type": "code",
      "source": [
        "class MinStack:\n",
        "    def __init__(self):\n",
        "        self.stack = []\n",
        "        self.min_stack = []\n",
        "\n",
        "    def push(self, val):\n",
        "        self.stack.append(val)\n",
        "        if not self.min_stack or val <= self.min_stack[-1]:\n",
        "            self.min_stack.append(val)\n",
        "\n",
        "    def pop(self):\n",
        "        if self.stack[-1] == self.min_stack[-1]:\n",
        "            self.min_stack.pop()\n",
        "        self.stack.pop()\n",
        "\n",
        "    def top(self):\n",
        "        return self.stack[-1]\n",
        "\n",
        "    def getMin(self):\n",
        "        return self.min_stack[-1]\n",
        "\n",
        "# Example usage:\n",
        "minStack = MinStack()\n",
        "minStack.push(-2)\n",
        "minStack.push(0)\n",
        "minStack.push(-3)\n",
        "print(minStack.getMin())\n",
        "minStack.pop()\n",
        "print(minStack.top())\n",
        "print(minStack.getMin())\n"
      ],
      "metadata": {
        "colab": {
          "base_uri": "https://localhost:8080/"
        },
        "id": "VrdhQLd4Y9Ty",
        "outputId": "33c6762b-f416-406a-c44b-fc2a79e7574b"
      },
      "execution_count": 10,
      "outputs": [
        {
          "output_type": "stream",
          "name": "stdout",
          "text": [
            "-3\n",
            "0\n",
            "-2\n"
          ]
        }
      ]
    },
    {
      "cell_type": "markdown",
      "source": [
        " **Question 8**\n",
        "\n",
        "Given `n` non-negative integers representing an elevation map where the width of each bar is `1`, compute how much water it can trap after raining.\n",
        "\n",
        "**Example 1:**\n",
        "\n",
        "\n",
        "```\n",
        "Input: height = [0,1,0,2,1,0,1,3,2,1,2,1]\n",
        "Output: 6\n",
        "Explanation: The above elevation map (black section) is represented by array [0,1,0,2,1,0,1,3,2,1,2,1]. In this case, 6 units of rain water (blue section) are being trapped.\n",
        "\n",
        "```\n",
        "\n",
        "**Example 2:**\n",
        "\n",
        "Input: height = [4,2,0,3,2,5]\n",
        "Output: 9"
      ],
      "metadata": {
        "id": "FZt89cW4ZjQ3"
      }
    },
    {
      "cell_type": "code",
      "source": [
        "def trap(height):\n",
        "    left = 0\n",
        "    right = len(height) - 1\n",
        "    left_max = right_max = water_trapped = 0\n",
        "\n",
        "    while left <= right:\n",
        "        if height[left] <= height[right]:\n",
        "            if height[left] > left_max:\n",
        "                left_max = height[left]\n",
        "            else:\n",
        "                water_trapped += left_max - height[left]\n",
        "            left += 1\n",
        "        else:\n",
        "            if height[right] > right_max:\n",
        "                right_max = height[right]\n",
        "            else:\n",
        "                water_trapped += right_max - height[right]\n",
        "            right -= 1\n",
        "\n",
        "    return water_trapped\n",
        "\n",
        "# Example usage:\n",
        "height = [0, 1, 0, 2, 1, 0, 1, 3, 2, 1, 2, 1]\n",
        "water_trapped = trap(height)\n",
        "print(water_trapped)\n"
      ],
      "metadata": {
        "colab": {
          "base_uri": "https://localhost:8080/"
        },
        "id": "VuYJKkTQZW6m",
        "outputId": "eacfe86a-d173-449d-b622-404edffc2eb5"
      },
      "execution_count": 12,
      "outputs": [
        {
          "output_type": "stream",
          "name": "stdout",
          "text": [
            "6\n"
          ]
        }
      ]
    }
  ]
}