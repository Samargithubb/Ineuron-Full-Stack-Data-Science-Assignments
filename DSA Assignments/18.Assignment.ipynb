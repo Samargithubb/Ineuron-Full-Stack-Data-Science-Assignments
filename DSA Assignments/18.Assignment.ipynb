{
  "nbformat": 4,
  "nbformat_minor": 0,
  "metadata": {
    "colab": {
      "provenance": []
    },
    "kernelspec": {
      "name": "python3",
      "display_name": "Python 3"
    },
    "language_info": {
      "name": "python"
    }
  },
  "cells": [
    {
      "cell_type": "markdown",
      "source": [
        "1. **Merge Intervals**\n",
        "\n",
        "Given an array of `intervals` where `intervals[i] = [starti, endi]`, merge all overlapping intervals, and return *an array of the non-overlapping intervals that cover all the intervals in the input*.\n",
        "\n",
        "**Example 1:**\n",
        "\n",
        "```\n",
        "Input: intervals = [[1,3],[2,6],[8,10],[15,18]]\n",
        "Output: [[1,6],[8,10],[15,18]]\n",
        "Explanation: Since intervals [1,3] and [2,6] overlap, merge them into [1,6].\n",
        "\n",
        "```\n",
        "\n",
        "**Example 2:**\n",
        "\n",
        "```\n",
        "Input: intervals = [[1,4],[4,5]]\n",
        "Output: [[1,5]]\n",
        "Explanation: Intervals [1,4] and [4,5] are considered overlapping.\n",
        "\n",
        "```\n",
        "\n",
        "**Constraints:**\n",
        "\n",
        "- `1 <= intervals.length <= 10000`\n",
        "- `intervals[i].length == 2`\n",
        "- `0 <= starti <= endi <= 10000`\n"
      ],
      "metadata": {
        "id": "JVyAjKxjNB1Q"
      }
    },
    {
      "cell_type": "code",
      "source": [
        "def merge_intervals(intervals):\n",
        "    # Sort the intervals based on start times\n",
        "    intervals.sort(key=lambda x: x[0])\n",
        "\n",
        "    merged = []\n",
        "    prev_start, prev_end = intervals[0]\n",
        "\n",
        "    for i in range(1, len(intervals)):\n",
        "        start, end = intervals[i]\n",
        "\n",
        "        if start <= prev_end:\n",
        "            # Merge the intervals\n",
        "            prev_end = max(prev_end, end)\n",
        "        else:\n",
        "            # Add the previous merged interval to the list\n",
        "            merged.append([prev_start, prev_end])\n",
        "            prev_start, prev_end = start, end\n",
        "\n",
        "    # Add the last merged interval\n",
        "    merged.append([prev_start, prev_end])\n",
        "\n",
        "    return merged\n",
        "\n",
        "intervals1 = [[1, 3], [2, 6], [8, 10], [15, 18]]\n",
        "print(merge_intervals(intervals1))\n",
        "\n",
        "intervals2 = [[1, 4], [4, 5]]\n",
        "print(merge_intervals(intervals2))\n",
        "\n",
        "\n",
        "\n"
      ],
      "metadata": {
        "colab": {
          "base_uri": "https://localhost:8080/"
        },
        "id": "wME3ChyZNH2u",
        "outputId": "731ec4c9-45af-4b40-9817-06f303cfdd70"
      },
      "execution_count": 2,
      "outputs": [
        {
          "output_type": "stream",
          "name": "stdout",
          "text": [
            "[[1, 6], [8, 10], [15, 18]]\n",
            "[[1, 5]]\n"
          ]
        }
      ]
    },
    {
      "cell_type": "markdown",
      "source": [
        "2. **Sort Colors**\n",
        "\n",
        "Given an array `nums` with `n` objects colored red, white, or blue, sort them **[in-place](https://en.wikipedia.org/wiki/In-place_algorithm)** so that objects of the same color are adjacent, with the colors in the order red, white, and blue.\n",
        "\n",
        "We will use the integers `0`, `1`, and `2` to represent the color red, white, and blue, respectively.\n",
        "\n",
        "You must solve this problem without using the library's sort function.\n",
        "\n",
        "**Example 1:**\n",
        "\n",
        "```\n",
        "Input: nums = [2,0,2,1,1,0]\n",
        "Output: [0,0,1,1,2,2]\n",
        "\n",
        "```\n",
        "\n",
        "**Example 2:**\n",
        "\n",
        "```\n",
        "Input: nums = [2,0,1]\n",
        "Output: [0,1,2]\n",
        "\n",
        "```\n",
        "\n",
        "**Constraints:**\n",
        "\n",
        "- `n == nums.length`\n",
        "- `1 <= n <= 300`\n",
        "- `nums[i]` is either `0`, `1`, or `2`.\n"
      ],
      "metadata": {
        "id": "95GiDN82NfPa"
      }
    },
    {
      "cell_type": "code",
      "source": [
        "def sort_colors(nums):\n",
        "    low = 0\n",
        "    mid = 0\n",
        "    high = len(nums) - 1\n",
        "\n",
        "    while mid <= high:\n",
        "        if nums[mid] == 0:\n",
        "            nums[low], nums[mid] = nums[mid], nums[low]\n",
        "            low += 1\n",
        "            mid += 1\n",
        "        elif nums[mid] == 1:\n",
        "            mid += 1\n",
        "        else:\n",
        "            nums[mid], nums[high] = nums[high], nums[mid]\n",
        "            high -= 1\n",
        "\n",
        "    return nums\n",
        "\n",
        "nums1 = [2, 0, 2, 1, 1, 0]\n",
        "print(sort_colors(nums1))\n",
        "\n",
        "nums2 = [2, 0, 1]\n",
        "print(sort_colors(nums2))\n"
      ],
      "metadata": {
        "colab": {
          "base_uri": "https://localhost:8080/"
        },
        "id": "eD1u7tcjNUeL",
        "outputId": "b0c92f7a-4ed9-44a8-8af1-740b40bbcaef"
      },
      "execution_count": 3,
      "outputs": [
        {
          "output_type": "stream",
          "name": "stdout",
          "text": [
            "[0, 0, 1, 1, 2, 2]\n",
            "[0, 1, 2]\n"
          ]
        }
      ]
    },
    {
      "cell_type": "markdown",
      "source": [
        "3. **First Bad Version Solution**\n",
        "\n",
        "You are a product manager and currently leading a team to develop a new product. Unfortunately, the latest version of your product fails the quality check. Since each version is developed based on the previous version, all the versions after a bad version are also bad.\n",
        "\n",
        "Suppose you have `n` versions `[1, 2, ..., n]` and you want to find out the first bad one, which causes all the following ones to be bad.\n",
        "\n",
        "You are given an API `bool isBadVersion(version)` which returns whether `version` is bad. Implement a function to find the first bad version. You should minimize the number of calls to the API.\n",
        "\n",
        "**Example 1:**\n",
        "\n",
        "```\n",
        "Input: n = 5, bad = 4\n",
        "Output: 4\n",
        "Explanation:\n",
        "call isBadVersion(3) -> false\n",
        "call isBadVersion(5) -> true\n",
        "call isBadVersion(4) -> true\n",
        "Then 4 is the first bad version.\n",
        "\n",
        "```\n",
        "\n",
        "**Example 2:**\n",
        "\n",
        "```\n",
        "Input: n = 1, bad = 1\n",
        "Output: 1\n",
        "\n",
        "```\n",
        "\n",
        "**Constraints:**\n",
        "\n",
        "- `1 <= bad <= n <= 2^31 - 1`\n"
      ],
      "metadata": {
        "id": "02l3C3cBNzL_"
      }
    },
    {
      "cell_type": "code",
      "source": [
        "def first_bad_version(n):\n",
        "    left = 1\n",
        "    right = n\n",
        "\n",
        "    while left < right:\n",
        "        mid = left + (right - left) // 2\n",
        "\n",
        "        if isBadVersion(mid):\n",
        "            right = mid\n",
        "        else:\n",
        "            left = mid + 1\n",
        "\n",
        "    return left\n",
        "\n",
        "# Simulating the isBadVersion API\n",
        "def isBadVersion(version):\n",
        "    if version >= 4:\n",
        "        return True\n",
        "    else:\n",
        "        return False\n",
        "\n",
        "n1 = 5\n",
        "bad1 = 4\n",
        "print(first_bad_version(n1))\n",
        "\n",
        "n2 = 1\n",
        "bad2 = 1\n",
        "print(first_bad_version(n2))\n"
      ],
      "metadata": {
        "colab": {
          "base_uri": "https://localhost:8080/"
        },
        "id": "litmPY4-NthR",
        "outputId": "fdc33c2f-cab9-436e-b63c-b0d9e13c4564"
      },
      "execution_count": 4,
      "outputs": [
        {
          "output_type": "stream",
          "name": "stdout",
          "text": [
            "4\n",
            "1\n"
          ]
        }
      ]
    },
    {
      "cell_type": "markdown",
      "source": [
        "4. **Maximum Gap**\n",
        "\n",
        "Given an integer array `nums`, return *the maximum difference between two successive elements in its sorted form*. If the array contains less than two elements, return `0`.\n",
        "\n",
        "You must write an algorithm that runs in linear time and uses linear extra space.\n",
        "\n",
        "**Example 1:**\n",
        "\n",
        "```\n",
        "Input: nums = [3,6,9,1]\n",
        "Output: 3\n",
        "Explanation: The sorted form of the array is [1,3,6,9], either (3,6) or (6,9) has the maximum difference 3.\n",
        "\n",
        "```\n",
        "\n",
        "**Example 2:**\n",
        "\n",
        "```\n",
        "Input: nums = [10]\n",
        "Output: 0\n",
        "Explanation: The array contains less than 2 elements, therefore return 0.\n",
        "\n",
        "```\n",
        "\n",
        "**Constraints:**\n",
        "\n",
        "- `1 <= nums.length <= 10^5`\n",
        "- `0 <= nums[i] <= 10^9`\n"
      ],
      "metadata": {
        "id": "q63SdQGxOJcx"
      }
    },
    {
      "cell_type": "code",
      "source": [
        "def maximum_gap(nums):\n",
        "    if len(nums) < 2:\n",
        "        return 0\n",
        "\n",
        "    max_num = max(nums)\n",
        "    exp = 1\n",
        "\n",
        "    while max_num >= exp:\n",
        "        buckets = [[] for _ in range(10)]\n",
        "\n",
        "        for num in nums:\n",
        "            digit = (num // exp) % 10\n",
        "            buckets[digit].append(num)\n",
        "\n",
        "        nums = [num for bucket in buckets for num in bucket]\n",
        "        exp *= 10\n",
        "\n",
        "    max_gap = 0\n",
        "\n",
        "    for i in range(1, len(nums)):\n",
        "        max_gap = max(max_gap, nums[i] - nums[i - 1])\n",
        "\n",
        "    return max_gap\n",
        "\n",
        "nums1 = [3, 6, 9, 1]\n",
        "print(maximum_gap(nums1))\n",
        "\n",
        "nums2 = [10]\n",
        "print(maximum_gap(nums2))\n"
      ],
      "metadata": {
        "colab": {
          "base_uri": "https://localhost:8080/"
        },
        "id": "xXmdqmlqOEJX",
        "outputId": "73f46553-1a34-4c45-e55a-175596584389"
      },
      "execution_count": 6,
      "outputs": [
        {
          "output_type": "stream",
          "name": "stdout",
          "text": [
            "3\n",
            "0\n"
          ]
        }
      ]
    },
    {
      "cell_type": "markdown",
      "source": [
        "5. **Contains Duplicate**\n",
        "\n",
        "Given an integer array `nums`, return `true` if any value appears **at least twice** in the array, and return `false` if every element is distinct.\n",
        "\n",
        "**Example 1:**\n",
        "\n",
        "```\n",
        "Input: nums = [1,2,3,1]\n",
        "Output: true\n",
        "\n",
        "```\n",
        "\n",
        "**Example 2:**\n",
        "\n",
        "```\n",
        "Input: nums = [1,2,3,4]\n",
        "Output: false\n",
        "\n",
        "```\n",
        "\n",
        "**Example 3:**\n",
        "\n",
        "```\n",
        "Input: nums = [1,1,1,3,3,4,3,2,4,2]\n",
        "Output: true\n",
        "\n",
        "```\n",
        "\n",
        "**Constraints:**\n",
        "\n",
        "- `1 <= nums.length <= 10^5`\n",
        "- `109 <= nums[i] <= 10^9`\n"
      ],
      "metadata": {
        "id": "nCWvZWGrOdP1"
      }
    },
    {
      "cell_type": "code",
      "source": [
        "def contains_duplicate(nums):\n",
        "    unique = set()\n",
        "\n",
        "    for num in nums:\n",
        "        if num in unique:\n",
        "            return True\n",
        "        else:\n",
        "            unique.add(num)\n",
        "\n",
        "    return False\n",
        "\n",
        "nums1 = [1, 2, 3, 1]\n",
        "print(contains_duplicate(nums1))\n",
        "\n",
        "nums2 = [1, 2, 3, 4]\n",
        "print(contains_duplicate(nums2))\n",
        "\n",
        "nums3 = [1, 1, 1, 3, 3, 4, 3, 2, 4, 2]\n",
        "print(contains_duplicate(nums3))\n"
      ],
      "metadata": {
        "colab": {
          "base_uri": "https://localhost:8080/"
        },
        "id": "9RbrdP3DOR_V",
        "outputId": "72472cce-36ae-4b3e-8d1b-368fcfe1b5b7"
      },
      "execution_count": 7,
      "outputs": [
        {
          "output_type": "stream",
          "name": "stdout",
          "text": [
            "True\n",
            "False\n",
            "True\n"
          ]
        }
      ]
    },
    {
      "cell_type": "markdown",
      "source": [
        "6. **Minimum Number of Arrows to Burst Balloons**\n",
        "\n",
        "There are some spherical balloons taped onto a flat wall that represents the XY-plane. The balloons are represented as a 2D integer array `points` where `points[i] = [xstart, xend]` denotes a balloon whose **horizontal diameter** stretches between `xstart` and `xend`. You do not know the exact y-coordinates of the balloons.\n",
        "\n",
        "Arrows can be shot up **directly vertically** (in the positive y-direction) from different points along the x-axis. A balloon with `xstart` and `xend` is **burst** by an arrow shot at `x` if `xstart <= x <= xend`. There is **no limit** to the number of arrows that can be shot. A shot arrow keeps traveling up infinitely, bursting any balloons in its path.\n",
        "\n",
        "Given the array `points`, return *the **minimum** number of arrows that must be shot to burst all balloons*.\n",
        "\n",
        "**Example 1:**\n",
        "\n",
        "```\n",
        "Input: points = [[10,16],[2,8],[1,6],[7,12]]\n",
        "Output: 2\n",
        "Explanation: The balloons can be burst by 2 arrows:\n",
        "- Shoot an arrow at x = 6, bursting the balloons [2,8] and [1,6].\n",
        "- Shoot an arrow at x = 11, bursting the balloons [10,16] and [7,12].\n",
        "\n",
        "```\n",
        "\n",
        "**Example 2:**\n",
        "\n",
        "```\n",
        "Input: points = [[1,2],[3,4],[5,6],[7,8]]\n",
        "Output: 4\n",
        "Explanation: One arrow needs to be shot for each balloon for a total of 4 arrows.\n",
        "\n",
        "```\n",
        "\n",
        "**Example 3:**\n",
        "\n",
        "```\n",
        "Input: points = [[1,2],[2,3],[3,4],[4,5]]\n",
        "Output: 2\n",
        "Explanation: The balloons can be burst by 2 arrows:\n",
        "- Shoot an arrow at x = 2, bursting the balloons [1,2] and [2,3].\n",
        "- Shoot an arrow at x = 4, bursting the balloons [3,4] and [4,5].\n",
        "\n",
        "```\n",
        "\n",
        "**Constraints:**\n",
        "\n",
        "- `1 <= points.length <= 10^5`\n",
        "- `points[i].length == 2`\n",
        "- `231 <= xstart < xend <= 2^31 - 1`\n"
      ],
      "metadata": {
        "id": "akizH-M-OsD8"
      }
    },
    {
      "cell_type": "code",
      "source": [
        "def find_min_arrows(points):\n",
        "    if not points:\n",
        "        return 0\n",
        "\n",
        "    points.sort(key=lambda x: x[1])  # Sort based on end coordinates\n",
        "    count = 1\n",
        "    end = points[0][1]\n",
        "\n",
        "    for i in range(1, len(points)):\n",
        "        if points[i][0] > end:\n",
        "            count += 1\n",
        "            end = points[i][1]\n",
        "\n",
        "    return count\n",
        "\n",
        "points1 = [[10, 16], [2, 8], [1, 6], [7, 12]]\n",
        "print(find_min_arrows(points1))\n",
        "\n",
        "points2 = [[1, 2], [3, 4], [5, 6], [7, 8]]\n",
        "print(find_min_arrows(points2))\n",
        "\n",
        "points3 = [[1, 2], [2, 3], [3, 4], [4, 5]]\n",
        "print(find_min_arrows(points3))\n"
      ],
      "metadata": {
        "colab": {
          "base_uri": "https://localhost:8080/"
        },
        "id": "WEaAGtdLOjp4",
        "outputId": "28c85081-8f37-47b0-cebc-4883b3a88d9c"
      },
      "execution_count": 8,
      "outputs": [
        {
          "output_type": "stream",
          "name": "stdout",
          "text": [
            "2\n",
            "4\n",
            "2\n"
          ]
        }
      ]
    },
    {
      "cell_type": "markdown",
      "source": [
        "7. **Longest Increasing Subsequence**\n",
        "\n",
        "Given an integer array `nums`, return *the length of the longest **strictly increasing***\n",
        "\n",
        "***subsequence***\n",
        "\n",
        ".\n",
        "\n",
        "**Example 1:**\n",
        "\n",
        "```\n",
        "Input: nums = [10,9,2,5,3,7,101,18]\n",
        "Output: 4\n",
        "Explanation: The longest increasing subsequence is [2,3,7,101], therefore the length is 4.\n",
        "\n",
        "```\n",
        "\n",
        "**Example 2:**\n",
        "\n",
        "```\n",
        "Input: nums = [0,1,0,3,2,3]\n",
        "Output: 4\n",
        "\n",
        "```\n",
        "\n",
        "**Example 3:**\n",
        "\n",
        "```\n",
        "Input: nums = [7,7,7,7,7,7,7]\n",
        "Output: 1\n",
        "\n",
        "```\n",
        "\n",
        "**Constraints:**\n",
        "\n",
        "- `1 <= nums.length <= 2500`\n",
        "- `-10^4 <= nums[i] <= 10^4`\n"
      ],
      "metadata": {
        "id": "e1h0In4WO_9j"
      }
    },
    {
      "cell_type": "code",
      "source": [
        "def length_of_lis(nums):\n",
        "    if not nums:\n",
        "        return 0\n",
        "\n",
        "    n = len(nums)\n",
        "    dp = [1] * n\n",
        "\n",
        "    for i in range(1, n):\n",
        "        for j in range(i):\n",
        "            if nums[i] > nums[j]:\n",
        "                dp[i] = max(dp[i], dp[j] + 1)\n",
        "\n",
        "    return max(dp)\n",
        "nums1 = [10, 9, 2, 5, 3, 7, 101, 18]\n",
        "print(length_of_lis(nums1))\n",
        "\n",
        "nums2 = [0, 1, 0, 3, 2, 3]\n",
        "print(length_of_lis(nums2))\n",
        "\n",
        "nums3 = [7, 7, 7, 7, 7, 7, 7]\n",
        "print(length_of_lis(nums3))\n"
      ],
      "metadata": {
        "colab": {
          "base_uri": "https://localhost:8080/"
        },
        "id": "n_mbIyaPO5c6",
        "outputId": "52831790-8b26-4f9d-cef2-e7a485d01ac2"
      },
      "execution_count": 9,
      "outputs": [
        {
          "output_type": "stream",
          "name": "stdout",
          "text": [
            "4\n",
            "4\n",
            "1\n"
          ]
        }
      ]
    },
    {
      "cell_type": "markdown",
      "source": [
        "8. **132 Pattern**\n",
        "\n",
        "Given an array of `n` integers `nums`, a **132 pattern** is a subsequence of three integers `nums[i]`, `nums[j]` and `nums[k]` such that `i < j < k` and `nums[i] < nums[k] < nums[j]`.\n",
        "\n",
        "Return `true` *if there is a **132 pattern** in* `nums`*, otherwise, return* `false`*.*\n",
        "\n",
        "**Example 1:**\n",
        "\n",
        "```\n",
        "Input: nums = [1,2,3,4]\n",
        "Output: false\n",
        "Explanation: There is no 132 pattern in the sequence.\n",
        "\n",
        "```\n",
        "\n",
        "**Example 2:**\n",
        "\n",
        "```\n",
        "Input: nums = [3,1,4,2]\n",
        "Output: true\n",
        "Explanation: There is a 132 pattern in the sequence: [1, 4, 2].\n",
        "\n",
        "```\n",
        "\n",
        "**Example 3:**\n",
        "\n",
        "```\n",
        "Input: nums = [-1,3,2,0]\n",
        "Output: true\n",
        "Explanation: There are three 132 patterns in the sequence: [-1, 3, 2], [-1, 3, 0] and [-1, 2, 0].\n",
        "\n",
        "```\n",
        "\n",
        "**Constraints:**\n",
        "\n",
        "- `n == nums.length`\n",
        "- `1 <= n <= 2 * 10^5`\n",
        "- `-10^9 <= nums[i] <= 10^9`\n",
        "\n"
      ],
      "metadata": {
        "id": "FLbFPArfPSLp"
      }
    },
    {
      "cell_type": "code",
      "source": [
        "def find132pattern(nums):\n",
        "    stack = []\n",
        "    s3 = float('-inf')\n",
        "\n",
        "    for num in reversed(nums):\n",
        "        if num < s3:\n",
        "            return True\n",
        "        while stack and stack[-1] < num:\n",
        "            s3 = stack.pop()\n",
        "        stack.append(num)\n",
        "\n",
        "    return False\n",
        "nums1 = [1, 2, 3, 4]\n",
        "print(find132pattern(nums1))\n",
        "\n",
        "nums2 = [3, 1, 4, 2]\n",
        "print(find132pattern(nums2))\n",
        "\n",
        "nums3 = [-1, 3, 2, 0]\n",
        "print(find132pattern(nums3))\n"
      ],
      "metadata": {
        "colab": {
          "base_uri": "https://localhost:8080/"
        },
        "id": "lWNG1jf2PNCg",
        "outputId": "6d3ef469-5dcc-49d4-f5ed-1fb8eac78704"
      },
      "execution_count": 11,
      "outputs": [
        {
          "output_type": "stream",
          "name": "stdout",
          "text": [
            "False\n",
            "True\n",
            "True\n"
          ]
        }
      ]
    },
    {
      "cell_type": "code",
      "source": [],
      "metadata": {
        "id": "h4kNwwnWPdoh"
      },
      "execution_count": null,
      "outputs": []
    }
  ]
}