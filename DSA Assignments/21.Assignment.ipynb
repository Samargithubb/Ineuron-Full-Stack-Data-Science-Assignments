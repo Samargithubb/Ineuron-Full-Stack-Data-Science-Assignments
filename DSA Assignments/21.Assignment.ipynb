{
  "nbformat": 4,
  "nbformat_minor": 0,
  "metadata": {
    "colab": {
      "provenance": []
    },
    "kernelspec": {
      "name": "python3",
      "display_name": "Python 3"
    },
    "language_info": {
      "name": "python"
    }
  },
  "cells": [
    {
      "cell_type": "markdown",
      "source": [
        "<aside>\n",
        "💡 Question-1\n",
        "\n",
        "You are given a binary tree. The binary tree is represented using the TreeNode class. Each TreeNode has an integer value and left and right children, represented using the TreeNode class itself. Convert this binary tree into a binary search tree.\n",
        "```\n",
        "Input:\n",
        "\n",
        "        10\n",
        "\n",
        "       /   \\\n",
        "\n",
        "     2      7\n",
        "\n",
        "   /   \\\n",
        "\n",
        " 8      4\n",
        "\n",
        "Output:\n",
        "\n",
        "        8\n",
        "\n",
        "      /   \\\n",
        "\n",
        "    4     10\n",
        "\n",
        "  /   \\\n",
        "\n",
        "2      7\n",
        "```\n",
        "</aside>"
      ],
      "metadata": {
        "id": "IncQ-2TGVXh_"
      }
    },
    {
      "cell_type": "code",
      "source": [
        "class TreeNode:\n",
        "    def __init__(self, val):\n",
        "        self.val = val\n",
        "        self.left = None\n",
        "        self.right = None\n",
        "\n",
        "def convertToBST(root):\n",
        "    if root is None:\n",
        "        return None\n",
        "\n",
        "    node_values = []\n",
        "    inorderTraversal(root, node_values)\n",
        "    node_values.sort()\n",
        "\n",
        "    def buildBST(values, start, end):\n",
        "        if start > end:\n",
        "            return None\n",
        "\n",
        "        mid = (start + end) // 2\n",
        "        node = TreeNode(values[mid])\n",
        "        node.left = buildBST(values, start, mid - 1)\n",
        "        node.right = buildBST(values, mid + 1, end)\n",
        "        return node\n",
        "\n",
        "    return buildBST(node_values, 0, len(node_values) - 1)\n",
        "\n",
        "def inorderTraversal(node, values):\n",
        "    if node is None:\n",
        "        return\n",
        "    inorderTraversal(node.left, values)\n",
        "    values.append(node.val)\n",
        "    inorderTraversal(node.right, values)\n",
        "\n",
        "# Example usage\n",
        "root = TreeNode(10)\n",
        "root.left = TreeNode(2)\n",
        "root.right = TreeNode(7)\n",
        "root.left.left = TreeNode(8)\n",
        "root.left.right = TreeNode(4)\n",
        "\n",
        "bst_root = convertToBST(root)\n",
        "\n",
        "# Print the converted BST using in-order traversal\n",
        "def inorderPrint(node):\n",
        "    if node is None:\n",
        "        return\n",
        "    inorderPrint(node.left)\n",
        "    print(node.val, end=\" \")\n",
        "    inorderPrint(node.right)\n",
        "\n",
        "inorderPrint(bst_root)\n"
      ],
      "metadata": {
        "colab": {
          "base_uri": "https://localhost:8080/"
        },
        "id": "I-BleCnZVYwP",
        "outputId": "688026d8-6d29-4bbf-801c-d91aa6b8e57a"
      },
      "execution_count": 31,
      "outputs": [
        {
          "output_type": "stream",
          "name": "stdout",
          "text": [
            "2 4 7 8 10 "
          ]
        }
      ]
    },
    {
      "cell_type": "markdown",
      "source": [
        "<aside>\n",
        "💡 Question-2:\n",
        "\n",
        "Given a Binary Search Tree with all unique values and two keys. Find the distance between two nodes in BST. The given keys always exist in BST.\n",
        "\n",
        "Example:\n",
        "\n",
        "Consider the following BST:\n",
        "\n",
        "**Input-1:**\n",
        "\n",
        "n = 9\n",
        "\n",
        "values = [8, 3, 1, 6, 4, 7, 10, 14,13]\n",
        "\n",
        "node-1 = 6\n",
        "\n",
        "node-2 = 14\n",
        "\n",
        "**Output-1:**\n",
        "\n",
        "The distance between the two keys = 4\n",
        "\n",
        "**Input-2:**\n",
        "\n",
        "n = 9\n",
        "\n",
        "values = [8, 3, 1, 6, 4, 7, 10, 14,13]\n",
        "\n",
        "node-1 = 3\n",
        "\n",
        "node-2 = 4\n",
        "\n",
        "**Output-2:**\n",
        "\n",
        "The distance between the two keys = 2\n",
        "\n",
        "</aside>"
      ],
      "metadata": {
        "id": "uQ8754XkWOUH"
      }
    },
    {
      "cell_type": "code",
      "source": [
        "class TreeNode:\n",
        "    def __init__(self, val):\n",
        "        self.val = val\n",
        "        self.left = None\n",
        "        self.right = None\n",
        "\n",
        "def distanceBetweenNodes(root, node1, node2):\n",
        "    lca = findLCA(root, node1, node2)\n",
        "    dist1 = distanceFromNode(lca, node1)  # Distance from LCA to node1\n",
        "    dist2 = distanceFromNode(lca, node2)  # Distance from LCA to node2\n",
        "    return dist1 + dist2\n",
        "\n",
        "def findLCA(root, node1, node2):\n",
        "    if root is None:\n",
        "        return None\n",
        "\n",
        "    # If both nodes are smaller than the root, move to the left subtree\n",
        "    if root.val > node1 and root.val > node2:\n",
        "        return findLCA(root.left, node1, node2)\n",
        "\n",
        "    # If both nodes are greater than the root, move to the right subtree\n",
        "    if root.val < node1 and root.val < node2:\n",
        "        return findLCA(root.right, node1, node2)\n",
        "\n",
        "    # Found the LCA (node1 < root.val < node2)\n",
        "    return root\n",
        "\n",
        "def distanceFromNode(node, target):\n",
        "    if node is None:\n",
        "        return 0\n",
        "\n",
        "    # If the target is smaller than the current node, move to the left subtree\n",
        "    if target < node.val:\n",
        "        return 1 + distanceFromNode(node.left, target)\n",
        "\n",
        "    # If the target is greater than the current node, move to the right subtree\n",
        "    if target > node.val:\n",
        "        return 1 + distanceFromNode(node.right, target)\n",
        "\n",
        "    # Target node found\n",
        "    return 0\n",
        "\n",
        "# Example usage\n",
        "root = TreeNode(8)\n",
        "root.left = TreeNode(3)\n",
        "root.right = TreeNode(10)\n",
        "root.left.left = TreeNode(1)\n",
        "root.left.right = TreeNode(6)\n",
        "root.left.right.left = TreeNode(4)\n",
        "root.left.right.right = TreeNode(7)\n",
        "root.right.right = TreeNode(14)\n",
        "root.right.right.left = TreeNode(13)\n",
        "\n",
        "node1 = 6\n",
        "node2 = 14\n",
        "\n",
        "distance = distanceBetweenNodes(root, node1, node2)\n",
        "print(\"The distance between the two keys =\", distance)\n"
      ],
      "metadata": {
        "colab": {
          "base_uri": "https://localhost:8080/"
        },
        "id": "OTigv4oTVdwd",
        "outputId": "b583350e-0168-495e-d88d-d88856cf5592"
      },
      "execution_count": 32,
      "outputs": [
        {
          "output_type": "stream",
          "name": "stdout",
          "text": [
            "The distance between the two keys = 4\n"
          ]
        }
      ]
    },
    {
      "cell_type": "markdown",
      "source": [
        "<aside>\n",
        "💡 Question-3:\n",
        "\n",
        "Write a program to convert a binary tree to a doubly linked list.\n",
        "\n",
        "Input:\n",
        "\n",
        "        10\n",
        "\n",
        "       /   \\\n",
        "\n",
        "     5     20\n",
        "\n",
        "           /   \\\n",
        "\n",
        "        30     35\n",
        "\n",
        "Output:\n",
        "\n",
        "5 10 30 20 35\n",
        "\n",
        "</aside>"
      ],
      "metadata": {
        "id": "_WHGKR2BWmN-"
      }
    },
    {
      "cell_type": "code",
      "source": [
        "class TreeNode:\n",
        "    def __init__(self, val):\n",
        "        self.val = val\n",
        "        self.left = None\n",
        "        self.right = None\n",
        "        self.prev = None\n",
        "        self.next = None\n",
        "\n",
        "def convertToDLL(root):\n",
        "    global prev, head\n",
        "    prev = None\n",
        "    head = None\n",
        "    inorderTraversal(root)\n",
        "    return head\n",
        "\n",
        "def inorderTraversal(node):\n",
        "    global prev, head\n",
        "    if node is None:\n",
        "        return\n",
        "    inorderTraversal(node.left)\n",
        "    if prev is None:\n",
        "        head = node\n",
        "    else:\n",
        "        prev.next = node\n",
        "        node.prev = prev\n",
        "    prev = node\n",
        "    inorderTraversal(node.right)\n",
        "\n",
        "# Example usage\n",
        "root = TreeNode(10)\n",
        "root.left = TreeNode(5)\n",
        "root.right = TreeNode(20)\n",
        "root.right.left = TreeNode(30)\n",
        "root.right.right = TreeNode(35)\n",
        "\n",
        "dll_head = convertToDLL(root)\n",
        "\n",
        "# Print the doubly linked list\n",
        "def printDLL(head):\n",
        "    curr = head\n",
        "    while curr is not None:\n",
        "        print(curr.val, end=\" \")\n",
        "        curr = curr.next\n",
        "\n",
        "printDLL(dll_head)\n"
      ],
      "metadata": {
        "colab": {
          "base_uri": "https://localhost:8080/"
        },
        "id": "L79NL5qLWZOy",
        "outputId": "da1fd16b-554a-4ed6-e755-aad9c4c5d190"
      },
      "execution_count": 35,
      "outputs": [
        {
          "output_type": "stream",
          "name": "stdout",
          "text": [
            "5 10 30 20 35 "
          ]
        }
      ]
    },
    {
      "cell_type": "markdown",
      "source": [
        "<aside>\n",
        "💡 Question-4:\n",
        "\n",
        "Write a program to connect nodes at the same level.\n",
        "```\n",
        "Input:\n",
        "\n",
        "        1\n",
        "\n",
        "      /   \\\n",
        "\n",
        "    2      3\n",
        "\n",
        "  /   \\   /   \\\n",
        "\n",
        "4     5 6    7\n",
        "\n",
        "Output:\n",
        "\n",
        "1 → -1\n",
        "\n",
        "2 → 3\n",
        "\n",
        "3 → -1\n",
        "\n",
        "4 → 5\n",
        "\n",
        "5 → 6\n",
        "\n",
        "6 → 7\n",
        "\n",
        "7 → -1\n",
        "```\n",
        "</aside>"
      ],
      "metadata": {
        "id": "Mru7T6sgW40z"
      }
    },
    {
      "cell_type": "code",
      "source": [
        "from collections import deque\n",
        "\n",
        "class TreeNode:\n",
        "    def __init__(self, val):\n",
        "        self.val = val\n",
        "        self.left = None\n",
        "        self.right = None\n",
        "        self.next = None\n",
        "\n",
        "def connectNodes(root):\n",
        "    if not root:\n",
        "        return root\n",
        "\n",
        "    queue = deque()\n",
        "    queue.append(root)\n",
        "\n",
        "    while queue:\n",
        "        levelSize = len(queue)\n",
        "        prev = None\n",
        "\n",
        "        for _ in range(levelSize):\n",
        "            node = queue.popleft()\n",
        "\n",
        "            if prev:\n",
        "                prev.next = node\n",
        "\n",
        "            prev = node\n",
        "\n",
        "            if node.left:\n",
        "                queue.append(node.left)\n",
        "            if node.right:\n",
        "                queue.append(node.right)\n",
        "\n",
        "        prev.next = None\n",
        "\n",
        "    return root\n",
        "\n",
        "# Example usage\n",
        "root = TreeNode(1)\n",
        "root.left = TreeNode(2)\n",
        "root.right = TreeNode(3)\n",
        "root.left.left = TreeNode(4)\n",
        "root.left.right = TreeNode(5)\n",
        "root.right.left = TreeNode(6)\n",
        "root.right.right = TreeNode(7)\n",
        "\n",
        "connectedTree = connectNodes(root)\n",
        "\n",
        "# Print the connected nodes\n",
        "def printConnectedNodes(root):\n",
        "    while root:\n",
        "        print(root.val, end=\" → \")\n",
        "        root = root.next\n",
        "    print(\"-1\")\n",
        "\n",
        "printConnectedNodes(root.left.left)\n"
      ],
      "metadata": {
        "colab": {
          "base_uri": "https://localhost:8080/"
        },
        "id": "gmcNEHqvW4lW",
        "outputId": "c02d6a90-95a6-4fdd-adc2-4fd2055d6602"
      },
      "execution_count": 36,
      "outputs": [
        {
          "output_type": "stream",
          "name": "stdout",
          "text": [
            "4 → 5 → 6 → 7 → -1\n"
          ]
        }
      ]
    },
    {
      "cell_type": "code",
      "source": [],
      "metadata": {
        "id": "j14Gfb24XE4j"
      },
      "execution_count": null,
      "outputs": []
    }
  ]
}