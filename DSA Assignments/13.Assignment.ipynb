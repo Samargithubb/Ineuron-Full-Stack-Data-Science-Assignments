{
  "nbformat": 4,
  "nbformat_minor": 0,
  "metadata": {
    "colab": {
      "provenance": [],
      "gpuType": "T4"
    },
    "kernelspec": {
      "name": "python3",
      "display_name": "Python 3"
    },
    "language_info": {
      "name": "python"
    },
    "accelerator": "GPU"
  },
  "cells": [
    {
      "cell_type": "markdown",
      "source": [
        "**Question 1**\n",
        "\n",
        "Given two linked list of the same size, the task is to create a new linked list using those linked lists. The condition is that the greater node among both linked list will be added to the new linked list.\n",
        "\n",
        "**Examples:**\n",
        "```\n",
        "Input: list1 = 5->2->3->8\n",
        "list2 = 1->7->4->5\n",
        "Output: New list = 5->7->4->8\n",
        "\n",
        "Input:list1 = 2->8->9->3\n",
        "list2 = 5->3->6->4\n",
        "Output: New list = 5->8->9->4\n",
        "```"
      ],
      "metadata": {
        "id": "7Y789Ft5-5hX"
      }
    },
    {
      "cell_type": "code",
      "source": [
        "class Node:\n",
        "    def __init__(self, data):\n",
        "        self.data = data\n",
        "        self.next = None\n",
        "\n",
        "def create_new_linked_list(list1, list2):\n",
        "    new_list = None\n",
        "    curr_node = None\n",
        "    i = 0\n",
        "    while list1 and list2:\n",
        "        node = Node(max(list1.data, list2.data))\n",
        "        if new_list is None:\n",
        "            new_list = node\n",
        "        else:\n",
        "            curr_node.next = node\n",
        "        curr_node = node\n",
        "        list1 = list1.next\n",
        "        list2 = list2.next\n",
        "        i += 1\n",
        "    if list1:\n",
        "        curr_node.next = list1\n",
        "    elif list2:\n",
        "        curr_node.next = list2\n",
        "    return new_list\n",
        "\n",
        "def print_linked_list(head):\n",
        "    while head:\n",
        "        print(head.data, end=\" \")\n",
        "        head = head.next\n",
        "\n",
        "def main():\n",
        "    list1 = Node(5)\n",
        "    list1.next = Node(2)\n",
        "    list1.next.next = Node(3)\n",
        "    list1.next.next.next = Node(8)\n",
        "\n",
        "    list2 = Node(1)\n",
        "    list2.next = Node(7)\n",
        "    list2.next.next = Node(4)\n",
        "    list2.next.next.next = Node(5)\n",
        "\n",
        "    new_list = create_new_linked_list(list1, list2)\n",
        "    print_linked_list(new_list)\n",
        "\n",
        "if __name__ == \"__main__\":\n",
        "    main()\n"
      ],
      "metadata": {
        "colab": {
          "base_uri": "https://localhost:8080/"
        },
        "id": "t5bgBCDY_DCt",
        "outputId": "f92176c3-b272-48c5-d2b6-a44f86fb5e90"
      },
      "execution_count": 19,
      "outputs": [
        {
          "output_type": "stream",
          "name": "stdout",
          "text": [
            "5 7 4 8 "
          ]
        }
      ]
    },
    {
      "cell_type": "markdown",
      "source": [
        "**Question 2**\n",
        "\n",
        "Write a function that takes a list sorted in non-decreasing order and deletes any duplicate nodes from the list. The list should only be traversed once.\n",
        "\n",
        "For example if the linked list is 11->11->11->21->43->43->60 then removeDuplicates() should convert the list to 11->21->43->60.\n",
        "\n",
        "**Example 1:**\n",
        "\n",
        "```\n",
        "Input:\n",
        "LinkedList:\n",
        "11->11->11->21->43->43->60\n",
        "Output:\n",
        "11->21->43->60\n",
        "```\n",
        "\n",
        "**Example 2:**\n",
        "\n",
        "```\n",
        "Input:\n",
        "LinkedList:\n",
        "10->12->12->25->25->25->34\n",
        "Output:\n",
        "10->12->25->34\n",
        "```"
      ],
      "metadata": {
        "id": "UVdWZ_aeCgsE"
      }
    },
    {
      "cell_type": "code",
      "source": [
        "class ListNode:\n",
        "    def __init__(self, val=0, next=None):\n",
        "        self.val = val\n",
        "        self.next = next\n",
        "\n",
        "def remove_duplicates(head):\n",
        "    if head is None or head.next is None:\n",
        "        return head\n",
        "\n",
        "    current = head\n",
        "    while current.next is not None:\n",
        "        if current.val == current.next.val:\n",
        "            current.next = current.next.next\n",
        "        else:\n",
        "            current = current.next\n",
        "\n",
        "    return head\n",
        "\n",
        "# Example 1\n",
        "head1 = ListNode(11)\n",
        "head1.next = ListNode(11)\n",
        "head1.next.next = ListNode(11)\n",
        "head1.next.next.next = ListNode(21)\n",
        "head1.next.next.next.next = ListNode(43)\n",
        "head1.next.next.next.next.next = ListNode(43)\n",
        "head1.next.next.next.next.next.next = ListNode(60)\n",
        "\n",
        "result1 = remove_duplicates(head1)\n",
        "\n",
        "while result1 is not None:\n",
        "    print(result1.val, end=\" \")\n",
        "    result1 = result1.next\n",
        "\n",
        "print(\"\\n\")\n",
        "\n",
        "# Example 2\n",
        "head2 = ListNode(10)\n",
        "head2.next = ListNode(12)\n",
        "head2.next.next = ListNode(12)\n",
        "head2.next.next.next = ListNode(25)\n",
        "head2.next.next.next.next = ListNode(25)\n",
        "head2.next.next.next.next.next = ListNode(25)\n",
        "head2.next.next.next.next.next.next = ListNode(34)\n",
        "\n",
        "result2 = remove_duplicates(head2)\n",
        "\n",
        "while result2 is not None:\n",
        "    print(result2.val, end=\" \")\n",
        "    result2 = result2.next\n",
        "\n"
      ],
      "metadata": {
        "colab": {
          "base_uri": "https://localhost:8080/"
        },
        "id": "HGpUdwFO_hqI",
        "outputId": "54e3d9fe-b878-4800-fe47-4480b5b9ea7c"
      },
      "execution_count": 2,
      "outputs": [
        {
          "output_type": "stream",
          "name": "stdout",
          "text": [
            "11 21 43 60 \n",
            "\n",
            "10 12 25 34 "
          ]
        }
      ]
    },
    {
      "cell_type": "markdown",
      "source": [
        "**Question 3**\n",
        "\n",
        "Given a linked list of size **N**. The task is to reverse every **k** nodes (where k is an input to the function) in the linked list. If the number of nodes is not a multiple of *k* then left-out nodes, in the end, should be considered as a group and must be reversed (See Example 2 for clarification).\n",
        "\n",
        "**Example 1:**\n",
        "```\n",
        "Input:\n",
        "LinkedList: 1->2->2->4->5->6->7->8\n",
        "K = 4\n",
        "Output:4 2 2 1 8 7 6 5\n",
        "Explanation:\n",
        "The first 4 elements 1,2,2,4 are reversed first\n",
        "and then the next 4 elements 5,6,7,8. Hence, the\n",
        "resultant linked list is 4->2->2->1->8->7->6->5.\n",
        "\n",
        "```\n",
        "Example 2:\n",
        "```\n",
        "Input:\n",
        "LinkedList: 1->2->3->4->5\n",
        "K = 3\n",
        "Output:3 2 1 5 4\n",
        "Explanation:\n",
        "The first 3 elements are 1,2,3 are reversed\n",
        "first and then elements 4,5 are reversed.Hence,\n",
        "the resultant linked list is 3->2->1->5->4.\n",
        "```"
      ],
      "metadata": {
        "id": "X6dqueH7Jbf5"
      }
    },
    {
      "cell_type": "code",
      "source": [
        "class ListNode:\n",
        "    def __init__(self, val=0, next=None):\n",
        "        self.val = val\n",
        "        self.next = next\n",
        "\n",
        "def reverse_k_nodes(head, k):\n",
        "    if head is None or k <= 1:\n",
        "        return head\n",
        "\n",
        "    dummy = ListNode(0)\n",
        "    dummy.next = head\n",
        "    prev = dummy\n",
        "\n",
        "    while prev.next is not None:\n",
        "        # Find the start and end of the current group\n",
        "        start = prev.next\n",
        "        end = prev.next\n",
        "\n",
        "        count = 1\n",
        "        while end.next is not None and count < k:\n",
        "            end = end.next\n",
        "            count += 1\n",
        "\n",
        "        if count < k:\n",
        "            break\n",
        "\n",
        "        # Reverse the current group\n",
        "        next_group = end.next\n",
        "        end.next = None\n",
        "        prev.next = reverse_linked_list(start)\n",
        "        start.next = next_group\n",
        "        prev = start\n",
        "\n",
        "    return dummy.next\n",
        "\n",
        "def reverse_linked_list(head):\n",
        "    prev = None\n",
        "    current = head\n",
        "\n",
        "    while current is not None:\n",
        "        next_node = current.next\n",
        "        current.next = prev\n",
        "        prev = current\n",
        "        current = next_node\n",
        "\n",
        "    return prev\n",
        "\n",
        "# Example 1\n",
        "head1 = ListNode(1)\n",
        "head1.next = ListNode(2)\n",
        "head1.next.next = ListNode(2)\n",
        "head1.next.next.next = ListNode(4)\n",
        "head1.next.next.next.next = ListNode(5)\n",
        "head1.next.next.next.next.next = ListNode(6)\n",
        "head1.next.next.next.next.next.next = ListNode(7)\n",
        "head1.next.next.next.next.next.next.next = ListNode(8)\n",
        "\n",
        "result1 = reverse_k_nodes(head1, 4)\n",
        "\n",
        "while result1 is not None:\n",
        "    print(result1.val, end=\" \")\n",
        "    result1 = result1.next\n",
        "\n",
        "print(\"\\n\")\n",
        "\n",
        "# Example 2\n",
        "head2 = ListNode(1)\n",
        "head2.next = ListNode(2)\n",
        "head2.next.next = ListNode(3)\n",
        "head2.next.next.next = ListNode(4)\n",
        "head2.next.next.next.next = ListNode(5)\n",
        "\n",
        "result2 = reverse_k_nodes(head2, 3)\n",
        "\n",
        "while result2 is not None:\n",
        "    print(result2.val, end=\" \")\n",
        "    result2 = result2.next\n",
        "\n"
      ],
      "metadata": {
        "colab": {
          "base_uri": "https://localhost:8080/"
        },
        "id": "jG_3QBrwJSIw",
        "outputId": "8e0b2ae5-d145-43a8-9067-e59be3d2850a"
      },
      "execution_count": 4,
      "outputs": [
        {
          "output_type": "stream",
          "name": "stdout",
          "text": [
            "4 2 2 1 8 7 6 5 \n",
            "\n",
            "3 2 1 4 5 "
          ]
        }
      ]
    },
    {
      "cell_type": "markdown",
      "source": [
        "<aside>\n",
        "💡 **Question 4**\n",
        "\n",
        "Given a linked list, write a function to reverse every alternate k nodes (where k is an input to the function) in an efficient way. Give the complexity of your algorithm.\n",
        "\n",
        "**Example:**\n",
        "```\n",
        "Inputs:   1->2->3->4->5->6->7->8->9->NULL and k = 3\n",
        "Output:   3->2->1->4->5->6->9->8->7->NULL.\n",
        "```\n",
        "</aside>"
      ],
      "metadata": {
        "id": "wBRw8JWrKKjn"
      }
    },
    {
      "cell_type": "code",
      "source": [
        "class ListNode:\n",
        "    def __init__(self, val=0, next=None):\n",
        "        self.val = val\n",
        "        self.next = next\n",
        "\n",
        "def reverse_alternate_k_nodes(head, k):\n",
        "    if head is None or k <= 1:\n",
        "        return head\n",
        "\n",
        "    dummy = ListNode(0)\n",
        "    dummy.next = head\n",
        "    prev = dummy\n",
        "\n",
        "    while prev.next is not None:\n",
        "        # Skip the nodes that will not be reversed\n",
        "        skip_count = 0\n",
        "        current = prev.next\n",
        "        while current is not None and skip_count < k - 1:\n",
        "            current = current.next\n",
        "            skip_count += 1\n",
        "\n",
        "        if current is None:\n",
        "            break\n",
        "\n",
        "        # Reverse the alternate group of k nodes\n",
        "        next_group = current.next\n",
        "        current.next = None\n",
        "        prev.next = reverse_linked_list(prev.next)\n",
        "        prev.next.next = next_group\n",
        "        prev = prev.next\n",
        "\n",
        "    return dummy.next\n",
        "\n",
        "def reverse_linked_list(head):\n",
        "    prev = None\n",
        "    current = head\n",
        "\n",
        "    while current is not None:\n",
        "        next_node = current.next\n",
        "        current.next = prev\n",
        "        prev = current\n",
        "        current = next_node\n",
        "\n",
        "    return prev\n",
        "\n",
        "head = ListNode(1)\n",
        "head.next = ListNode(2)\n",
        "head.next.next = ListNode(3)\n",
        "head.next.next.next = ListNode(4)\n",
        "head.next.next.next.next = ListNode(5)\n",
        "head.next.next.next.next.next = ListNode(6)\n",
        "head.next.next.next.next.next.next = ListNode(7)\n",
        "head.next.next.next.next.next.next.next = ListNode(8)\n",
        "head.next.next.next.next.next.next.next.next = ListNode(9)\n",
        "\n",
        "result = reverse_alternate_k_nodes(head, 3)\n",
        "\n",
        "while result is not None:\n",
        "    print(result.val, end=\" \")\n",
        "    result = result.next\n",
        "\n"
      ],
      "metadata": {
        "colab": {
          "base_uri": "https://localhost:8080/"
        },
        "id": "p_0_NFx2Klrr",
        "outputId": "1e4a489f-31e4-4e73-bf17-3d7dca6e5d1e"
      },
      "execution_count": 5,
      "outputs": [
        {
          "output_type": "stream",
          "name": "stdout",
          "text": [
            "3 6 9 "
          ]
        }
      ]
    },
    {
      "cell_type": "markdown",
      "source": [
        "<aside>\n",
        "💡 **Question 5**\n",
        "\n",
        "Given a linked list and a key to be deleted. Delete last occurrence of key from linked. The list may have duplicates.\n",
        "\n",
        "**Examples**:\n",
        "Input:   1->2->3->5->2->10, key = 2\n",
        "\n",
        "Output:  1->2->3->5->10"
      ],
      "metadata": {
        "id": "i_FnlRUDKdAM"
      }
    },
    {
      "cell_type": "code",
      "source": [
        "class ListNode:\n",
        "    def __init__(self, val=0, next=None):\n",
        "        self.val = val\n",
        "        self.next = next\n",
        "\n",
        "def delete_last_occurrence(head, key):\n",
        "    if head is None:\n",
        "        return head\n",
        "\n",
        "    dummy = ListNode(0)\n",
        "    dummy.next = head\n",
        "\n",
        "    last_occurrence = None\n",
        "    prev = dummy\n",
        "    current = head\n",
        "\n",
        "    while current is not None:\n",
        "        if current.val == key:\n",
        "            last_occurrence = current\n",
        "        current = current.next\n",
        "\n",
        "    if last_occurrence is None:\n",
        "        return head\n",
        "\n",
        "    current = head\n",
        "    while current.next is not None:\n",
        "        if current.next == last_occurrence:\n",
        "            prev = current\n",
        "        current = current.next\n",
        "\n",
        "    prev.next = last_occurrence.next\n",
        "\n",
        "    return dummy.next\n",
        "\n",
        "head = ListNode(1)\n",
        "head.next = ListNode(2)\n",
        "head.next.next = ListNode(3)\n",
        "head.next.next.next = ListNode(5)\n",
        "head.next.next.next.next = ListNode(2)\n",
        "head.next.next.next.next.next = ListNode(10)\n",
        "\n",
        "result = delete_last_occurrence(head, 2)\n",
        "\n",
        "while result is not None:\n",
        "    print(result.val, end=\" \")\n",
        "    result = result.next\n",
        "\n"
      ],
      "metadata": {
        "colab": {
          "base_uri": "https://localhost:8080/"
        },
        "id": "tdNpKNLNJ8-N",
        "outputId": "c4934d98-8e45-459b-ed40-33dfed4caabc"
      },
      "execution_count": 6,
      "outputs": [
        {
          "output_type": "stream",
          "name": "stdout",
          "text": [
            "1 2 3 5 10 "
          ]
        }
      ]
    },
    {
      "cell_type": "markdown",
      "source": [
        "**Question 6**\n",
        "\n",
        "Given two sorted linked lists consisting of **N** and **M** nodes respectively. The task is to merge both of the lists (in place) and return the head of the merged list.\n",
        "\n",
        "**Examples:**\n",
        "\n",
        "Input: a: 5->10->15, b: 2->3->20\n",
        "\n",
        "Output: 2->3->5->10->15->20\n",
        "\n",
        "Input: a: 1->1, b: 2->4\n",
        "\n",
        "Output: 1->1->2->4\n"
      ],
      "metadata": {
        "id": "FQ49pNF6LRcI"
      }
    },
    {
      "cell_type": "code",
      "source": [
        "class ListNode:\n",
        "    def __init__(self, val=0, next=None):\n",
        "        self.val = val\n",
        "        self.next = next\n",
        "\n",
        "def merge_sorted_lists(a, b):\n",
        "    if a is None:\n",
        "        return b\n",
        "    if b is None:\n",
        "        return a\n",
        "\n",
        "    # Set the head of the merged list\n",
        "    if a.val <= b.val:\n",
        "        head = a\n",
        "        a = a.next\n",
        "    else:\n",
        "        head = b\n",
        "        b = b.next\n",
        "\n",
        "    # Merge the remaining nodes\n",
        "    current = head\n",
        "\n",
        "    while a is not None and b is not None:\n",
        "        if a.val <= b.val:\n",
        "            current.next = a\n",
        "            a = a.next\n",
        "        else:\n",
        "            current.next = b\n",
        "            b = b.next\n",
        "        current = current.next\n",
        "\n",
        "    # Append the remaining nodes from either list\n",
        "    if a is not None:\n",
        "        current.next = a\n",
        "    elif b is not None:\n",
        "        current.next = b\n",
        "\n",
        "    return head\n",
        "\n",
        "# Example 1\n",
        "a = ListNode(5)\n",
        "a.next = ListNode(10)\n",
        "a.next.next = ListNode(15)\n",
        "\n",
        "b = ListNode(2)\n",
        "b.next = ListNode(3)\n",
        "b.next.next = ListNode(20)\n",
        "\n",
        "result1 = merge_sorted_lists(a, b)\n",
        "\n",
        "while result1 is not None:\n",
        "    print(result1.val, end=\" \")\n",
        "    result1 = result1.next\n",
        "\n",
        "print(\"\\n\")\n",
        "\n",
        "\n",
        "# Example 2\n",
        "a = ListNode(1)\n",
        "a.next = ListNode(1)\n",
        "\n",
        "b = ListNode(2)\n",
        "b.next = ListNode(4)\n",
        "\n",
        "result2 = merge_sorted_lists(a, b)\n",
        "\n",
        "while result2 is not None:\n",
        "    print(result2.val, end=\" \")\n",
        "    result2 = result2.next\n",
        "\n"
      ],
      "metadata": {
        "colab": {
          "base_uri": "https://localhost:8080/"
        },
        "id": "qFSxo6hhLJPH",
        "outputId": "fc051fb4-9408-4e42-ac9a-ef4525c99dca"
      },
      "execution_count": 8,
      "outputs": [
        {
          "output_type": "stream",
          "name": "stdout",
          "text": [
            "2 3 5 10 15 20 \n",
            "\n",
            "1 1 2 4 "
          ]
        }
      ]
    },
    {
      "cell_type": "markdown",
      "source": [
        "**Question 7**\n",
        "\n",
        "Given a **Doubly Linked List**, the task is to reverse the given Doubly Linked List.\n",
        "\n",
        "**Example:**\n",
        "\n",
        "Original Linked list 10 8 4 2\n",
        "Reversed Linked list 2 4 8 10"
      ],
      "metadata": {
        "id": "Og-CvvGLLvB1"
      }
    },
    {
      "cell_type": "code",
      "source": [
        "class ListNode:\n",
        "    def __init__(self, val=0, prev=None, next=None):\n",
        "        self.val = val\n",
        "        self.prev = prev\n",
        "        self.next = next\n",
        "\n",
        "def reverse_doubly_linked_list(head):\n",
        "    if head is None or head.next is None:\n",
        "        return head\n",
        "\n",
        "    current = head\n",
        "    while current is not None:\n",
        "        # Swap prev and next pointers\n",
        "        temp = current.prev\n",
        "        current.prev = current.next\n",
        "        current.next = temp\n",
        "\n",
        "        # Move to the next node\n",
        "        current = current.prev\n",
        "\n",
        "    # Update the head pointer\n",
        "    head = temp.prev\n",
        "\n",
        "    return head\n",
        "\n",
        "head = ListNode(10)\n",
        "head.next = ListNode(8)\n",
        "head.next.prev = head\n",
        "head.next.next = ListNode(4)\n",
        "head.next.next.prev = head.next\n",
        "head.next.next.next = ListNode(2)\n",
        "head.next.next.next.prev = head.next.next\n",
        "\n",
        "result = reverse_doubly_linked_list(head)\n",
        "\n",
        "while result is not None:\n",
        "    print(result.val, end=\" \")\n",
        "    result = result.next\n",
        "\n"
      ],
      "metadata": {
        "colab": {
          "base_uri": "https://localhost:8080/"
        },
        "id": "UFb18BvlLiz6",
        "outputId": "d4b4019c-6002-476b-cae2-b371ada9adef"
      },
      "execution_count": 9,
      "outputs": [
        {
          "output_type": "stream",
          "name": "stdout",
          "text": [
            "2 4 8 10 "
          ]
        }
      ]
    },
    {
      "cell_type": "markdown",
      "source": [
        "<aside>\n",
        "💡 **Question 8**\n",
        "\n",
        "Given a doubly linked list and a position. The task is to delete a node from given position in a doubly linked list.\n",
        "\n",
        "**Example 1:**\n",
        "\n",
        "```\n",
        "Input:\n",
        "LinkedList = 1 <--> 3 <--> 4\n",
        "x = 3\n",
        "Output:1 3\n",
        "Explanation:After deleting the node at\n",
        "position 3 (position starts from 1),\n",
        "the linked list will be now as 1->3.\n",
        "\n",
        "```\n",
        "\n",
        "**Example 2:**\n",
        "\n",
        "```\n",
        "Input:\n",
        "LinkedList = 1 <--> 5 <--> 2 <--> 9\n",
        "x = 1\n",
        "Output:5 2 9\n",
        "```"
      ],
      "metadata": {
        "id": "nJd4R5ueMq2u"
      }
    },
    {
      "cell_type": "code",
      "source": [
        "class ListNode:\n",
        "    def __init__(self, val=0, prev=None, next=None):\n",
        "        self.val = val\n",
        "        self.prev = prev\n",
        "        self.next = next\n",
        "\n",
        "def delete_node(head, position):\n",
        "    if head is None:\n",
        "        return head\n",
        "\n",
        "    if position == 1:\n",
        "        if head.next is None:\n",
        "            return None\n",
        "        else:\n",
        "            new_head = head.next\n",
        "            new_head.prev = None\n",
        "            return new_head\n",
        "\n",
        "    current = head\n",
        "    count = 1\n",
        "\n",
        "    while current is not None and count < position:\n",
        "        current = current.next\n",
        "        count += 1\n",
        "\n",
        "    if current is None:\n",
        "        return head\n",
        "\n",
        "    current.prev.next = current.next\n",
        "\n",
        "    if current.next is not None:\n",
        "        current.next.prev = current.prev\n",
        "\n",
        "    return head\n",
        "\n",
        "\n",
        "# Example 1\n",
        "head1 = ListNode(1)\n",
        "head1.next = ListNode(3)\n",
        "head1.next.prev = head1\n",
        "head1.next.next = ListNode(4)\n",
        "head1.next.next.prev = head1.next\n",
        "\n",
        "result1 = delete_node(head1, 3)\n",
        "\n",
        "while result1 is not None:\n",
        "    print(result1.val, end=\" \")\n",
        "    result1 = result1.next\n",
        "\n",
        "print(\"\\n\")\n",
        "\n",
        "# Example 2\n",
        "head2 = ListNode(1)\n",
        "head2.next = ListNode(5)\n",
        "head2.next.prev = head2\n",
        "head2.next.next = ListNode(2)\n",
        "head2.next.next.prev = head2.next\n",
        "head2.next.next.next = ListNode(9)\n",
        "head2.next.next.next.prev = head2.next.next\n",
        "\n",
        "result2 = delete_node(head2, 1)\n",
        "\n",
        "while result2 is not None:\n",
        "    print(result2.val, end=\" \")\n",
        "    result2 = result2.next\n",
        "\n"
      ],
      "metadata": {
        "colab": {
          "base_uri": "https://localhost:8080/"
        },
        "id": "_eW0q55pMieh",
        "outputId": "a3614ebc-05af-442c-bba2-f781196f6c8f"
      },
      "execution_count": 11,
      "outputs": [
        {
          "output_type": "stream",
          "name": "stdout",
          "text": [
            "1 3 \n",
            "\n",
            "5 2 9 "
          ]
        }
      ]
    }
  ]
}