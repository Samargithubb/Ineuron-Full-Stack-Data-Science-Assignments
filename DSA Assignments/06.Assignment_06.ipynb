{
 "cells": [
  {
   "cell_type": "markdown",
   "id": "290aed65",
   "metadata": {},
   "source": [
    "#### **Question 1** A permutation perm of n + 1 integers of all the integers in the range [0, n] can be represented as a string s of length n where:\n",
    "\n",
    "- s[i] == 'I' if perm[i] < perm[i + 1], and\n",
    "- s[i] == 'D' if perm[i] > perm[i + 1].\n",
    "\n",
    "Given a string s, reconstruct the permutation perm and return it. If there are multiple valid permutations perm, return **any of them**.\n",
    "\n",
    "**Example 1:**\n",
    "\n",
    "**Input:** s = \"IDID\"\n",
    "\n",
    "**Output:**\n",
    "\n",
    "[0,4,1,3,2]\n",
    "\n",
    "</aside>"
   ]
  },
  {
   "cell_type": "code",
   "execution_count": 1,
   "id": "30a54416",
   "metadata": {},
   "outputs": [
    {
     "name": "stdout",
     "output_type": "stream",
     "text": [
      "[0, 4, 1, 3, 2]\n"
     ]
    }
   ],
   "source": [
    "def findPermutation(s):\n",
    "    perm = []\n",
    "    start, end = 0, len(s)\n",
    "    \n",
    "    for c in s:\n",
    "        if c == 'I':\n",
    "            perm.append(start)\n",
    "            start += 1\n",
    "        elif c == 'D':\n",
    "            perm.append(end)\n",
    "            end -= 1\n",
    "    \n",
    "    perm.append(start)  \n",
    "    return perm\n",
    "\n",
    "s = \"IDID\"\n",
    "print(findPermutation(s))\n"
   ]
  },
  {
   "cell_type": "markdown",
   "id": "70254415",
   "metadata": {},
   "source": [
    "**Question 2**\n",
    "\n",
    "You are given an m x n integer matrix matrix with the following two properties:\n",
    "\n",
    "- Each row is sorted in non-decreasing order.\n",
    "- The first integer of each row is greater than the last integer of the previous row.\n",
    "\n",
    "Given an integer target, return true *if* target *is in* matrix *or* false *otherwise*.\n",
    "\n",
    "You must write a solution in O(log(m * n)) time complexity.\n",
    "\n",
    "**Example 1:**\n",
    "\n",
    "**Input:** matrix = [[1,3,5,7],[10,11,16,20],[23,30,34,60]], target = 3\n",
    "\n",
    "**Output:** true\n",
    "\n",
    "</aside>"
   ]
  },
  {
   "cell_type": "code",
   "execution_count": 2,
   "id": "bc2c8d0a",
   "metadata": {},
   "outputs": [
    {
     "name": "stdout",
     "output_type": "stream",
     "text": [
      "True\n"
     ]
    }
   ],
   "source": [
    "def searchMatrix(matrix, target):\n",
    "    m, n = len(matrix), len(matrix[0])\n",
    "    left, right = 0, m * n - 1\n",
    "    \n",
    "    while left <= right:\n",
    "        middle_index = (left + right) // 2\n",
    "        row = middle_index // n\n",
    "        col = middle_index % n\n",
    "        \n",
    "        if matrix[row][col] == target:\n",
    "            return True\n",
    "        elif matrix[row][col] < target:\n",
    "            left = middle_index + 1\n",
    "        else:\n",
    "            right = middle_index - 1\n",
    "    \n",
    "    return False\n",
    "\n",
    "matrix = [[1,3,5,7],[10,11,16,20],[23,30,34,60]]\n",
    "target = 3\n",
    "print(searchMatrix(matrix, target))\n"
   ]
  },
  {
   "cell_type": "markdown",
   "id": "7661f5af",
   "metadata": {},
   "source": [
    "\n",
    "**Question 3**\n",
    "\n",
    "Given an array of integers arr, return *true if and only if it is a valid mountain array*.\n",
    "\n",
    "Recall that arr is a mountain array if and only if:\n",
    "\n",
    "- arr.length >= 3\n",
    "- There exists some i with 0 < i < arr.length - 1 such that:\n",
    "    - arr[0] < arr[1] < ... < arr[i - 1] < arr[i]\n",
    "    - arr[i] > arr[i + 1] > ... > arr[arr.length - 1]\n",
    "\n",
    "**Example 1:**\n",
    "\n",
    "**Input:** arr = [2,1]\n",
    "\n",
    "**Output:**\n",
    "\n",
    "false\n"
   ]
  },
  {
   "cell_type": "code",
   "execution_count": 4,
   "id": "555fc541",
   "metadata": {},
   "outputs": [
    {
     "name": "stdout",
     "output_type": "stream",
     "text": [
      "False\n"
     ]
    }
   ],
   "source": [
    "def validMountainArray(arr):\n",
    "    if len(arr) < 3:\n",
    "        return False\n",
    "\n",
    "    i = 0\n",
    "    while i < len(arr) - 1 and arr[i] < arr[i + 1]:\n",
    "        i += 1\n",
    "\n",
    "    if i == 0 or i == len(arr) - 1:\n",
    "        return False\n",
    "\n",
    "    while i < len(arr) - 1 and arr[i] > arr[i + 1]:\n",
    "        i += 1\n",
    "\n",
    "    return i == len(arr) - 1\n",
    "\n",
    "arr = [2, 1]\n",
    "print(validMountainArray(arr))\n"
   ]
  },
  {
   "cell_type": "markdown",
   "id": "6b42afc5",
   "metadata": {},
   "source": [
    "**Question 4**\n",
    "\n",
    "Given a binary array nums, return *the maximum length of a contiguous subarray with an equal number of* 0 *and* 1.\n",
    "\n",
    "**Example 1:**\n",
    "\n",
    "**Input:** nums = [0,1]\n",
    "\n",
    "**Output:** 2\n",
    "\n",
    "**Explanation:**\n",
    "\n",
    "[0, 1] is the longest contiguous subarray with an equal number of 0 and 1.\n",
    "\n",
    "</aside>"
   ]
  },
  {
   "cell_type": "code",
   "execution_count": 6,
   "id": "ffdeb305",
   "metadata": {},
   "outputs": [
    {
     "name": "stdout",
     "output_type": "stream",
     "text": [
      "2\n"
     ]
    }
   ],
   "source": [
    "def findMaxLength(nums):\n",
    "    sum_map = {0: -1}\n",
    "    max_length = 0\n",
    "    cumulative_sum = 0\n",
    "    \n",
    "    for i in range(len(nums)):\n",
    "        if nums[i] == 0:\n",
    "            cumulative_sum -= 1\n",
    "        else:\n",
    "            cumulative_sum += 1\n",
    "        \n",
    "        if cumulative_sum in sum_map:\n",
    "            max_length = max(max_length, i - sum_map[cumulative_sum])\n",
    "        else:\n",
    "            sum_map[cumulative_sum] = i\n",
    "    \n",
    "    return max_length\n",
    "\n",
    "nums = [0, 1]\n",
    "print(findMaxLength(nums))\n"
   ]
  },
  {
   "cell_type": "markdown",
   "id": "eb434fe6",
   "metadata": {},
   "source": [
    "**Question 5**\n",
    "\n",
    "The **product sum** of two equal-length arrays a and b is equal to the sum of a[i] * b[i] for all 0 <= i < a.length (**0-indexed**).\n",
    "\n",
    "- For example, if a = [1,2,3,4] and b = [5,2,3,1], the **product sum** would be 1*5 + 2*2 + 3*3 + 4*1 = 22.\n",
    "\n",
    "Given two arrays nums1 and nums2 of length n, return *the **minimum product sum** if you are allowed to **rearrange** the **order** of the elements in* nums1.\n",
    "\n",
    "**Example 1:**\n",
    "\n",
    "**Input:** nums1 = [5,3,4,2], nums2 = [4,2,2,5]\n",
    "\n",
    "**Output:** 40\n",
    "\n",
    "**Explanation:**\n",
    "\n",
    "We can rearrange nums1 to become [3,5,4,2]. The product sum of [3,5,4,2] and [4,2,2,5] is 3*4 + 5*2 + 4*2 + 2*5 = 40.\n"
   ]
  },
  {
   "cell_type": "code",
   "execution_count": 8,
   "id": "4652a522",
   "metadata": {},
   "outputs": [
    {
     "name": "stdout",
     "output_type": "stream",
     "text": [
      "40\n"
     ]
    }
   ],
   "source": [
    "def minProductSum(nums1, nums2):\n",
    "    nums1.sort()\n",
    "    nums2.sort()\n",
    "    \n",
    "    min_product_sum = 0\n",
    "    \n",
    "    for i in range(len(nums1)):\n",
    "        min_product_sum += nums1[i] * nums2[len(nums2) - 1 - i]\n",
    "    \n",
    "    return min_product_sum\n",
    "nums1 = [5, 3, 4, 2]\n",
    "nums2 = [4, 2, 2, 5]\n",
    "print(minProductSum(nums1, nums2))\n"
   ]
  },
  {
   "cell_type": "markdown",
   "id": "7f995098",
   "metadata": {},
   "source": [
    "**Question 6**\n",
    "\n",
    "An integer array original is transformed into a **doubled** array changed by appending **twice the value** of every element in original, and then randomly **shuffling** the resulting array.\n",
    "\n",
    "Given an array changed, return original *if* changed *is a **doubled** array. If* changed *is not a **doubled** array, return an empty array. The elements in* original *may be returned in **any** order*.\n",
    "\n",
    "**Example 1:**\n",
    "\n",
    "**Input:** changed = [1,3,4,2,6,8]\n",
    "\n",
    "**Output:** [1,3,4]\n",
    "\n",
    "**Explanation:** One possible original array could be [1,3,4]:\n",
    "\n",
    "- Twice the value of 1 is 1 * 2 = 2.\n",
    "- Twice the value of 3 is 3 * 2 = 6.\n",
    "- Twice the value of 4 is 4 * 2 = 8.\n",
    "\n",
    "Other original arrays could be [4,3,1] or [3,1,4].\n",
    "\n"
   ]
  },
  {
   "cell_type": "code",
   "execution_count": 11,
   "id": "d7eda208",
   "metadata": {},
   "outputs": [
    {
     "name": "stdout",
     "output_type": "stream",
     "text": [
      "[1, 3, 4]\n"
     ]
    }
   ],
   "source": [
    "from collections import Counter\n",
    "\n",
    "def findOriginalArray(changed):\n",
    "    if len(changed) % 2 != 0:\n",
    "        return []  \n",
    "    \n",
    "    count_map = Counter(changed)  \n",
    "    \n",
    "    original = []\n",
    "    \n",
    "    for num in sorted(changed):\n",
    "        if count_map[num] == 0:\n",
    "            continue\n",
    "        if count_map[2*num] == 0:\n",
    "            return []  \n",
    "        \n",
    "        original.append(num)\n",
    "        count_map[num] -= 1\n",
    "        count_map[2*num] -= 1\n",
    "    \n",
    "    return original\n",
    "\n",
    "changed = [1, 3, 4, 2, 6, 8]\n",
    "print(findOriginalArray(changed))\n",
    "\n"
   ]
  },
  {
   "cell_type": "markdown",
   "id": "3040ea2b",
   "metadata": {},
   "source": [
    "**Question 7**\n",
    "\n",
    "Given a positive integer n, generate an n x n matrix filled with elements from 1 to n2 in spiral order.\n",
    "\n",
    "**Example 1:**\n",
    "\n",
    "**Input:** n = 3\n",
    "\n",
    "**Output:** [[1,2,3],[8,9,4],[7,6,5]]\n",
    "\n"
   ]
  },
  {
   "cell_type": "code",
   "execution_count": 15,
   "id": "5e4d1404",
   "metadata": {},
   "outputs": [
    {
     "name": "stdout",
     "output_type": "stream",
     "text": [
      "[[1, 2, 3], [8, 9, 4], [7, 6, 5]]\n"
     ]
    }
   ],
   "source": [
    "def generateMatrix(n):\n",
    "    matrix = [[0] * n for _ in range(n)]\n",
    "    num = 1\n",
    "    row_start = 0\n",
    "    row_end = n - 1\n",
    "    col_start = 0\n",
    "    col_end = n - 1\n",
    "\n",
    "    while num <= n * n:\n",
    "        for i in range(col_start, col_end + 1):\n",
    "            matrix[row_start][i] = num\n",
    "            num += 1\n",
    "        row_start += 1\n",
    "\n",
    "        for i in range(row_start, row_end + 1):\n",
    "            matrix[i][col_end] = num\n",
    "            num += 1\n",
    "        col_end -= 1\n",
    "\n",
    "        if row_start <= row_end:\n",
    "            for i in range(col_end, col_start - 1, -1):\n",
    "                matrix[row_end][i] = num\n",
    "                num += 1\n",
    "            row_end -= 1\n",
    "\n",
    "        if col_start <= col_end:\n",
    "            for i in range(row_end, row_start - 1, -1):\n",
    "                matrix[i][col_start] = num\n",
    "                num += 1\n",
    "            col_start += 1\n",
    "\n",
    "    return matrix\n",
    "\n",
    "n = 3\n",
    "result = generateMatrix(n)\n",
    "print(result)\n"
   ]
  },
  {
   "cell_type": "markdown",
   "id": "23552266",
   "metadata": {},
   "source": [
    " **Question 8**\n",
    "\n",
    "Given two [sparse matrices](https://en.wikipedia.org/wiki/Sparse_matrix) mat1 of size m x k and mat2 of size k x n, return the result of mat1 x mat2. You may assume that multiplication is always possible.\n",
    "\n",
    "**Example 1:**\n",
    "**Input:** mat1 = [[1,0,0],[-1,0,3]], mat2 = [[7,0,0],[0,0,0],[0,0,1]]\n",
    "\n",
    "**Output:**\n",
    "\n",
    "[[7,0,0],[-7,0,3]]\n",
    "\n",
    "</aside>"
   ]
  },
  {
   "cell_type": "code",
   "execution_count": 17,
   "id": "f1b2ff28",
   "metadata": {},
   "outputs": [
    {
     "name": "stdout",
     "output_type": "stream",
     "text": [
      "[[7, 0, 0], [-7, 0, 3]]\n"
     ]
    }
   ],
   "source": [
    "def multiply(mat1, mat2):\n",
    "    m, k = len(mat1), len(mat1[0])\n",
    "    n = len(mat2[0])\n",
    "    result = [[0] * n for _ in range(m)]\n",
    "\n",
    "    for row in range(m):\n",
    "        for col1, val1 in enumerate(mat1[row]):\n",
    "            if val1 != 0:\n",
    "                for col2 in range(n):\n",
    "                    result[row][col2] += val1 * mat2[col1][col2]\n",
    "\n",
    "    return result\n",
    "\n",
    "mat1 = [[1, 0, 0], [-1, 0, 3]]\n",
    "mat2 = [[7, 0, 0], [0, 0, 0], [0, 0, 1]]\n",
    "result = multiply(mat1, mat2)\n",
    "print(result)\n"
   ]
  }
 ],
 "metadata": {
  "kernelspec": {
   "display_name": "Python 3 (ipykernel)",
   "language": "python",
   "name": "python3"
  },
  "language_info": {
   "codemirror_mode": {
    "name": "ipython",
    "version": 3
   },
   "file_extension": ".py",
   "mimetype": "text/x-python",
   "name": "python",
   "nbconvert_exporter": "python",
   "pygments_lexer": "ipython3",
   "version": "3.9.7"
  }
 },
 "nbformat": 4,
 "nbformat_minor": 5
}
